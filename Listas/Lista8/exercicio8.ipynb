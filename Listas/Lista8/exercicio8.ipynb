{
 "metadata": {
  "language_info": {
   "codemirror_mode": {
    "name": "ipython",
    "version": 3
   },
   "file_extension": ".py",
   "mimetype": "text/x-python",
   "name": "python",
   "nbconvert_exporter": "python",
   "pygments_lexer": "ipython3",
   "version": "3.9.6-final"
  },
  "orig_nbformat": 2,
  "kernelspec": {
   "name": "python39564bit549cf0b77a22421d935416dbb4c29b77",
   "display_name": "Python 3.9.5 64-bit"
  }
 },
 "nbformat": 4,
 "nbformat_minor": 2,
 "cells": [
  {
   "source": [
    "Felipe Bartelt de Assis Pessoa - 2016026841\n",
    "\n",
    "\n",
    "# RBFs Aleatórias\n",
    "\n",
    "Primeiramente, redefiniu-se as funções criadas no exercício passado para treinamento e avaliação de RBFs com k-médias, que tiveram pequenas modificações devido à divergência nos métodos por causa de valores numéricos pequenos, além das funções de remoção e normalização de dados de entrada e avaliação de acurácia:"
   ],
   "cell_type": "markdown",
   "metadata": {}
  },
  {
   "cell_type": "code",
   "execution_count": 38,
   "metadata": {},
   "outputs": [],
   "source": [
    "def h_rbf(x, centers, cov_mat):\n",
    "    m = x.shape[0]\n",
    "    dist = x - centers\n",
    "    \n",
    "    if cov_mat.ndim < 2:\n",
    "        cov_mat = np.eye(m) * cov_mat\n",
    "    \n",
    "    norm_factor = 1/np.sqrt((2*np.pi)**m * np.linalg.det(cov_mat))\n",
    "    h = norm_factor * np.exp(-0.5 * dist @ np.linalg.inv(cov_mat) @ dist.T)\n",
    "\n",
    "    return h\n",
    "\n",
    "def train_RBF(x_train, y_train, hidden_dim, indep = False):\n",
    "    km = KMeans(hidden_dim).fit(x_train)\n",
    "    centers = km.cluster_centers_\n",
    "    cov_list = []\n",
    "    N = x_train.shape[0]\n",
    "    m = x_train.shape[1]\n",
    "    h = np.zeros((N, hidden_dim))\n",
    "\n",
    "    for p in range(hidden_dim):\n",
    "        p_samples = (km.labels_ == p).nonzero()\n",
    "        \n",
    "        if indep:\n",
    "            cov_mat = np.diag(np.var(x_train[p_samples], axis=0)) + 0.001*np.diag(np.ones(m))\n",
    "        else:\n",
    "            cov_mat = np.cov(x_train[p_samples], rowvar=False) + 0.001*np.diag(np.ones(m))\n",
    "        \n",
    "        cov_list.append(np.copy(cov_mat))\n",
    "        center = centers[p,:]\n",
    "        h[:,p] = np.array([h_rbf(x_sample, centers[p], cov_mat) for x_sample in x_train])\n",
    "    \n",
    "    #h = np.nan_to_num(h)\n",
    "    h_aug = np.append(np.ones((N, 1)), h, axis=1)\n",
    "    #w, *_ = np.linalg.lstsq(h_aug, y_train)\n",
    "    #w = np.nan_to_num(w)\n",
    "    w = np.linalg.pinv(h_aug) @ y_train\n",
    "\n",
    "    return (h, w, centers, cov_list)\n",
    "\n",
    "def eval_RBF(x_test, rbf_params):\n",
    "    w = rbf_params[1]\n",
    "    hidden_dim = rbf_params[0].shape[1]\n",
    "    centers = rbf_params[2]\n",
    "    cov_list = rbf_params[3]\n",
    "    N = x_test.shape[0]\n",
    "    h = np.zeros((N, hidden_dim))\n",
    "    \n",
    "    for p in range(hidden_dim):\n",
    "        cov_mat = np.copy(cov_list[p])\n",
    "        h[:,p] = np.array([h_rbf(x_sample, centers[p], cov_mat) for x_sample in x_test])\n",
    "    \n",
    "    #h = np.nan_to_num(h)\n",
    "    h = np.append(np.ones((N, 1)), h, axis=1)\n",
    "    y_hat = h @ w\n",
    "    \n",
    "    return y_hat\n",
    "    \n",
    "def normalize_features(X, mean, std):\n",
    "    Xtemp = np.copy(X)\n",
    "    Xtemp = Xtemp - mean\n",
    "    Xtemp = Xtemp / std\n",
    "    return Xtemp\n",
    "\n",
    "def delete_features(X, feat_idx):\n",
    "    # Returns matrix X with features indexes in feat_idx ignored\n",
    "    Xtemp = np.copy(X)\n",
    "    Xtemp = np.delete(Xtemp, feat_idx,1)\n",
    "    return Xtemp\n",
    "\n",
    "def eval_accuracy(y_hat, y, nn_type = 0):\n",
    "    # Divides quadratic error by 4 if activation function is tanh\n",
    "    N = np.shape(y)[0] * (4 ** nn_type)\n",
    "    return (1 - ((y-y_hat).T @ (y-y_hat)) / N).ravel()"
   ]
  },
  {
   "source": [
    "\n",
    "Em seguida, definiu-se a função de *clustering* randômica com o seguinte intuito: dado um número desejado de clusters $i$, para cada *cluster* toma-se $i$ dados de entrada, aleatoriamente, então toma-se seu centro como a média desses $i$ dados de entrada. Defniu-se que cada *cluster* teria seu próprio raio, não necessariamente igual para todos, assim, esse foi definido como a média da variância, por linha, dos $i$ dados escolhidos. A função também classifica os dados de entrada com base distância euclidiana, sendo a classe igual ao número do *cluster*, cuja distância até o ponto é a menor. A função retorna os um vetor de centros `centers`, uma lista de raios `radii` e as classificações dos dados `y`. Seus parâmetros de entrada são os dados de entrada `X` e o número desejado de *clusters* `number`"
   ],
   "cell_type": "markdown",
   "metadata": {}
  },
  {
   "cell_type": "code",
   "execution_count": 5,
   "metadata": {},
   "outputs": [],
   "source": [
    "def random_clustering(X, number):\n",
    "    N = X.shape[0]\n",
    "    rand_idx = np.arange(0,N)\n",
    "    np.random.default_rng().shuffle(rand_idx)\n",
    "    centers = []\n",
    "    radii = []\n",
    "    y = []\n",
    "\n",
    "    for i in range(number):\n",
    "        center = X[rand_idx[(i*number)%N:((i+1)*number)%N], :]\n",
    "        centers.append(np.mean(center, axis=0))\n",
    "        radii.append(np.mean(np.var(center, axis=1)))\n",
    "    \n",
    "    for sample in X:\n",
    "        distance = np.sqrt(np.sum((sample - centers)**2, axis=1))\n",
    "        label = np.argmin(distance)\n",
    "        y.append(label)\n",
    "    \n",
    "    y = np.array(y)\n",
    "\n",
    "    return np.array(centers), np.array(radii), y.reshape((-1,1))"
   ]
  },
  {
   "source": [
    "\n",
    "Definiu-se assim, a função de treino para a RBF aleatória, análoga à primeira, porém, nesta não ocorre o cálculo das matrizes de covariância, uma vez que os raios foram definidos a priori."
   ],
   "cell_type": "markdown",
   "metadata": {}
  },
  {
   "cell_type": "code",
   "execution_count": 6,
   "metadata": {},
   "outputs": [],
   "source": [
    "def train_randRBF(x_train, y_train, hidden_dim):\n",
    "    centers, radii, labels = random_clustering(x_train, hidden_dim)\n",
    "    N = x_train.shape[0]\n",
    "    h = np.zeros((N, hidden_dim))\n",
    "\n",
    "    for p in range(hidden_dim):\n",
    "        p_samples = (labels == p).nonzero()\n",
    "        h[:,p] = np.array([h_rbf(x_sample, centers[p], radii[p]) for x_sample in x_train])\n",
    "    \n",
    "    h = np.nan_to_num(h)\n",
    "    h_aug = np.append(np.ones((N, 1)), h, axis=1)\n",
    "    #w = np.linalg.pinv(h_aug) @ y_train\n",
    "    w, *_ = np.linalg.lstsq(h_aug, y_train)\n",
    "    w = np.nan_to_num(w)\n",
    "\n",
    "    return (h, w, centers, radii)"
   ]
  },
  {
   "source": [
    "## Breast Cancer\n",
    "\n",
    "O primeiro banco de dados utilizado para a comparação das RBFs foi o *Breast Cancer*. Removeu-se novamente os dados de índice $[2,3,9,11,12,13,14,18,19,22,23]$ e os restantes foram normalizados."
   ],
   "cell_type": "markdown",
   "metadata": {}
  },
  {
   "cell_type": "code",
   "execution_count": 6,
   "metadata": {},
   "outputs": [],
   "source": [
    "import numpy as np\n",
    "import plotly.graph_objects as go\n",
    "from sklearn.datasets import load_breast_cancer\n",
    "from sklearn.cluster import KMeans\n",
    "\n",
    "# Load dataset\n",
    "breast_cancer = load_breast_cancer()\n",
    "X_samples = breast_cancer['data']\n",
    "y_sample = np.reshape(breast_cancer['target'], (-1,1))\n",
    "\n",
    "ignored_idx = [2,3,9,11,12,13,14,18,19,22,23]\n",
    "X = delete_features(X_samples, ignored_idx)\n",
    "X_mean = np.mean(X, axis = 0)\n",
    "X_std = np.std(X, axis = 0)\n",
    "X = normalize_features(X, X_mean, X_std)"
   ]
  },
  {
   "source": [
    "\n",
    "Alterou-se os valores nulos de saída pra valores $-1$ e separou-se os dados, aleatoriamente, em $70\\%$ para treinamento e $30\\%$ para teste, sendo que foi visado a obtenção da mesma porcentagem para dados de cada saída diferente"
   ],
   "cell_type": "markdown",
   "metadata": {}
  },
  {
   "cell_type": "code",
   "execution_count": 7,
   "metadata": {},
   "outputs": [],
   "source": [
    "y_sample[y_sample==0] = -1\n",
    "N = X.shape[0]\n",
    "\n",
    "# Get indexes corresponding to each class\n",
    "idx1 = [idx for idx, val in enumerate(y_sample.flatten()) if val==1]\n",
    "idx0 = sorted(list(set(range(0,N)) - set(idx1)))\n",
    "N0,N1 = len(idx0), len(idx1)\n",
    "N_train0, N_train1 = round(0.7*N0), round(0.7*N1)\n",
    "# Randomize indexes\n",
    "np.random.default_rng().shuffle(idx0)\n",
    "np.random.default_rng().shuffle(idx1)\n",
    "\n",
    "# Select samples for training and testing\n",
    "x_train = X[np.append(idx0[0:N_train0], idx1[0:N_train1]),:]\n",
    "x_test = X[np.append(idx0[N_train0::], idx1[N_train1::]),:]\n",
    "y_train = y_sample[np.append(idx0[0:N_train0], idx1[0:N_train1]),:]\n",
    "y_test = y_sample[np.append(idx0[N_train0::], idx1[N_train1::]),:]"
   ]
  },
  {
   "source": [
    "\n",
    "Treinou-se então tanto a rede RBF baseada no k-médias quanto a RBF aleatória para número de neurônios no intervalo $[1,30)$, iterando-se 50 vezes para cada valor. Armazenou-se as médias e desvio padrão das acurácias de teste e treinamento de ambas as redes em listas de tuplas:"
   ],
   "cell_type": "markdown",
   "metadata": {}
  },
  {
   "cell_type": "code",
   "execution_count": null,
   "metadata": {},
   "outputs": [],
   "source": [
    "acc_list_test, acc_rnd_list_test, acc_list_train, acc_rnd_list_train = [], [], [], []\n",
    "for p in range(1, 30):\n",
    "    \n",
    "    acc_train, acc_test, acc_rnd_train, acc_rnd_test = [], [], [], []\n",
    "    for _ in range(50):\n",
    "        rbf = train_RBF(x_train, y_train, p)\n",
    "        y_hat_train = np.sign(eval_RBF(x_train, rbf))\n",
    "        y_hat_test = np.sign(eval_RBF(x_test, rbf))\n",
    "        acc_train.append(eval_accuracy(y_hat_train, y_train, 1))\n",
    "        acc_test.append(eval_accuracy(y_hat_test, y_test, 1))\n",
    "\n",
    "        rand_rbf = train_randRBF(x_train, y_train, p)\n",
    "        y_hat_rnd_train = np.sign(eval_RBF(x_train, rand_rbf))\n",
    "        y_hat_rnd_test = np.sign(eval_RBF(x_test, rand_rbf))\n",
    "        acc_rnd_train.append(eval_accuracy(y_hat_rnd_train, y_train, 1)) \n",
    "        acc_rnd_test.append(eval_accuracy(y_hat_rnd_test, y_test, 1))\n",
    "\n",
    "    acc_list_test.append((np.mean(acc_train), np.std(acc_train)))\n",
    "    acc_rnd_list_test.append((np.mean(acc_test), np.std(acc_test)))\n",
    "    acc_list_train.append((np.mean(acc_rnd_train), np.std(acc_rnd_train)))\n",
    "    acc_rnd_list_train.append((np.mean(acc_rnd_test), np.std(acc_rnd_test)))"
   ]
  },
  {
   "source": [
    "\n",
    "Com os valores obtidos, plotou-se o seguinte gráfico:"
   ],
   "cell_type": "markdown",
   "metadata": {}
  },
  {
   "cell_type": "code",
   "execution_count": 89,
   "metadata": {
    "tags": []
   },
   "outputs": [
    {
     "output_type": "display_data",
     "data": {
      "image/svg+xml": "<svg class=\"main-svg\" xmlns=\"http://www.w3.org/2000/svg\" xmlns:xlink=\"http://www.w3.org/1999/xlink\" width=\"800\" height=\"500\" style=\"\" viewBox=\"0 0 800 500\"><rect x=\"0\" y=\"0\" width=\"800\" height=\"500\" style=\"fill: rgb(255, 255, 255); fill-opacity: 1;\"/><defs id=\"defs-a376a3\"><g class=\"clips\"><clipPath id=\"clipa376a3xyplot\" class=\"plotclip\"><rect width=\"532\" height=\"320\"/></clipPath><clipPath class=\"axesclip\" id=\"clipa376a3x\"><rect x=\"80\" y=\"0\" width=\"532\" height=\"500\"/></clipPath><clipPath class=\"axesclip\" id=\"clipa376a3y\"><rect x=\"0\" y=\"100\" width=\"800\" height=\"320\"/></clipPath><clipPath class=\"axesclip\" id=\"clipa376a3xy\"><rect x=\"80\" y=\"100\" width=\"532\" height=\"320\"/></clipPath></g><g class=\"gradients\"/><g class=\"patterns\"/></defs><g class=\"bglayer\"><rect class=\"bg\" x=\"80\" y=\"100\" width=\"532\" height=\"320\" style=\"fill: rgb(229, 236, 246); fill-opacity: 1; stroke-width: 0;\"/></g><g class=\"layer-below\"><g class=\"imagelayer\"/><g class=\"shapelayer\"/></g><g class=\"cartesianlayer\"><g class=\"subplot xy\"><g class=\"layer-subplot\"><g class=\"shapelayer\"/><g class=\"imagelayer\"/></g><g class=\"gridlayer\"><g class=\"x\"><path class=\"xgrid crisp\" transform=\"translate(97.73,0)\" d=\"M0,100v320\" style=\"stroke: rgb(255, 255, 255); stroke-opacity: 1; stroke-width: 1px;\"/><path class=\"xgrid crisp\" transform=\"translate(115.47,0)\" d=\"M0,100v320\" style=\"stroke: rgb(255, 255, 255); stroke-opacity: 1; stroke-width: 1px;\"/><path class=\"xgrid crisp\" transform=\"translate(133.2,0)\" d=\"M0,100v320\" style=\"stroke: rgb(255, 255, 255); stroke-opacity: 1; stroke-width: 1px;\"/><path class=\"xgrid crisp\" transform=\"translate(150.93,0)\" d=\"M0,100v320\" style=\"stroke: rgb(255, 255, 255); stroke-opacity: 1; stroke-width: 1px;\"/><path class=\"xgrid crisp\" transform=\"translate(168.67000000000002,0)\" d=\"M0,100v320\" style=\"stroke: rgb(255, 255, 255); stroke-opacity: 1; stroke-width: 1px;\"/><path class=\"xgrid crisp\" transform=\"translate(186.4,0)\" d=\"M0,100v320\" style=\"stroke: rgb(255, 255, 255); stroke-opacity: 1; stroke-width: 1px;\"/><path class=\"xgrid crisp\" transform=\"translate(204.13,0)\" d=\"M0,100v320\" style=\"stroke: rgb(255, 255, 255); stroke-opacity: 1; stroke-width: 1px;\"/><path class=\"xgrid crisp\" transform=\"translate(221.87,0)\" d=\"M0,100v320\" style=\"stroke: rgb(255, 255, 255); stroke-opacity: 1; stroke-width: 1px;\"/><path class=\"xgrid crisp\" transform=\"translate(239.6,0)\" d=\"M0,100v320\" style=\"stroke: rgb(255, 255, 255); stroke-opacity: 1; stroke-width: 1px;\"/><path class=\"xgrid crisp\" transform=\"translate(257.33000000000004,0)\" d=\"M0,100v320\" style=\"stroke: rgb(255, 255, 255); stroke-opacity: 1; stroke-width: 1px;\"/><path class=\"xgrid crisp\" transform=\"translate(275.07,0)\" d=\"M0,100v320\" style=\"stroke: rgb(255, 255, 255); stroke-opacity: 1; stroke-width: 1px;\"/><path class=\"xgrid crisp\" transform=\"translate(292.8,0)\" d=\"M0,100v320\" style=\"stroke: rgb(255, 255, 255); stroke-opacity: 1; stroke-width: 1px;\"/><path class=\"xgrid crisp\" transform=\"translate(310.53,0)\" d=\"M0,100v320\" style=\"stroke: rgb(255, 255, 255); stroke-opacity: 1; stroke-width: 1px;\"/><path class=\"xgrid crisp\" transform=\"translate(328.27,0)\" d=\"M0,100v320\" style=\"stroke: rgb(255, 255, 255); stroke-opacity: 1; stroke-width: 1px;\"/><path class=\"xgrid crisp\" transform=\"translate(346,0)\" d=\"M0,100v320\" style=\"stroke: rgb(255, 255, 255); stroke-opacity: 1; stroke-width: 1px;\"/><path class=\"xgrid crisp\" transform=\"translate(363.73,0)\" d=\"M0,100v320\" style=\"stroke: rgb(255, 255, 255); stroke-opacity: 1; stroke-width: 1px;\"/><path class=\"xgrid crisp\" transform=\"translate(381.47,0)\" d=\"M0,100v320\" style=\"stroke: rgb(255, 255, 255); stroke-opacity: 1; stroke-width: 1px;\"/><path class=\"xgrid crisp\" transform=\"translate(399.2,0)\" d=\"M0,100v320\" style=\"stroke: rgb(255, 255, 255); stroke-opacity: 1; stroke-width: 1px;\"/><path class=\"xgrid crisp\" transform=\"translate(416.93,0)\" d=\"M0,100v320\" style=\"stroke: rgb(255, 255, 255); stroke-opacity: 1; stroke-width: 1px;\"/><path class=\"xgrid crisp\" transform=\"translate(434.67,0)\" d=\"M0,100v320\" style=\"stroke: rgb(255, 255, 255); stroke-opacity: 1; stroke-width: 1px;\"/><path class=\"xgrid crisp\" transform=\"translate(452.4,0)\" d=\"M0,100v320\" style=\"stroke: rgb(255, 255, 255); stroke-opacity: 1; stroke-width: 1px;\"/><path class=\"xgrid crisp\" transform=\"translate(470.13,0)\" d=\"M0,100v320\" style=\"stroke: rgb(255, 255, 255); stroke-opacity: 1; stroke-width: 1px;\"/><path class=\"xgrid crisp\" transform=\"translate(487.87,0)\" d=\"M0,100v320\" style=\"stroke: rgb(255, 255, 255); stroke-opacity: 1; stroke-width: 1px;\"/><path class=\"xgrid crisp\" transform=\"translate(505.6,0)\" d=\"M0,100v320\" style=\"stroke: rgb(255, 255, 255); stroke-opacity: 1; stroke-width: 1px;\"/><path class=\"xgrid crisp\" transform=\"translate(523.3299999999999,0)\" d=\"M0,100v320\" style=\"stroke: rgb(255, 255, 255); stroke-opacity: 1; stroke-width: 1px;\"/><path class=\"xgrid crisp\" transform=\"translate(541.0699999999999,0)\" d=\"M0,100v320\" style=\"stroke: rgb(255, 255, 255); stroke-opacity: 1; stroke-width: 1px;\"/><path class=\"xgrid crisp\" transform=\"translate(558.8,0)\" d=\"M0,100v320\" style=\"stroke: rgb(255, 255, 255); stroke-opacity: 1; stroke-width: 1px;\"/><path class=\"xgrid crisp\" transform=\"translate(576.53,0)\" d=\"M0,100v320\" style=\"stroke: rgb(255, 255, 255); stroke-opacity: 1; stroke-width: 1px;\"/><path class=\"xgrid crisp\" transform=\"translate(594.27,0)\" d=\"M0,100v320\" style=\"stroke: rgb(255, 255, 255); stroke-opacity: 1; stroke-width: 1px;\"/></g><g class=\"y\"><path class=\"ygrid crisp\" transform=\"translate(0,340)\" d=\"M80,0h532\" style=\"stroke: rgb(255, 255, 255); stroke-opacity: 1; stroke-width: 1px;\"/><path class=\"ygrid crisp\" transform=\"translate(0,260)\" d=\"M80,0h532\" style=\"stroke: rgb(255, 255, 255); stroke-opacity: 1; stroke-width: 1px;\"/><path class=\"ygrid crisp\" transform=\"translate(0,180)\" d=\"M80,0h532\" style=\"stroke: rgb(255, 255, 255); stroke-opacity: 1; stroke-width: 1px;\"/></g></g><g class=\"zerolinelayer\"><path class=\"xzl zl crisp\" transform=\"translate(80,0)\" d=\"M0,100v320\" style=\"stroke: rgb(255, 255, 255); stroke-opacity: 1; stroke-width: 2px;\"/></g><path class=\"xlines-below\"/><path class=\"ylines-below\"/><g class=\"overlines-below\"/><g class=\"xaxislayer-below\"/><g class=\"yaxislayer-below\"/><g class=\"overaxes-below\"/><g class=\"plot\" transform=\"translate(80,100)\" clip-path=\"url(#clipa376a3xyplot)\"><g class=\"scatterlayer mlayer\"><g class=\"trace scatter trace87dc3c\" style=\"stroke-miterlimit: 2; opacity: 1;\"><g class=\"fills\"/><g class=\"errorbars\"><g class=\"errorbar\"><path class=\"yerror\" d=\"M13.73,278.83h8m-4,0V278.83m-4,0h8\" style=\"vector-effect: non-scaling-stroke; stroke-width: 0.7px; stroke: rgb(99, 110, 250); stroke-opacity: 1;\"/></g><g class=\"errorbar\"><path class=\"yerror\" d=\"M31.47,185.26h8m-4,0V185.26m-4,0h8\" style=\"vector-effect: non-scaling-stroke; stroke-width: 0.7px; stroke: rgb(99, 110, 250); stroke-opacity: 1;\"/></g><g class=\"errorbar\"><path class=\"yerror\" d=\"M49.2,198.71h8m-4,0V217.48m-4,0h8\" style=\"vector-effect: non-scaling-stroke; stroke-width: 0.7px; stroke: rgb(99, 110, 250); stroke-opacity: 1;\"/></g><g class=\"errorbar\"><path class=\"yerror\" d=\"M66.93,189.14h8m-4,0V201.22m-4,0h8\" style=\"vector-effect: non-scaling-stroke; stroke-width: 0.7px; stroke: rgb(99, 110, 250); stroke-opacity: 1;\"/></g><g class=\"errorbar\"><path class=\"yerror\" d=\"M84.67,214.54h8m-4,0V241.31m-4,0h8\" style=\"vector-effect: non-scaling-stroke; stroke-width: 0.7px; stroke: rgb(99, 110, 250); stroke-opacity: 1;\"/></g><g class=\"errorbar\"><path class=\"yerror\" d=\"M102.4,213.2h8m-4,0V263.9m-4,0h8\" style=\"vector-effect: non-scaling-stroke; stroke-width: 0.7px; stroke: rgb(99, 110, 250); stroke-opacity: 1;\"/></g><g class=\"errorbar\"><path class=\"yerror\" d=\"M120.13,187.08h8m-4,0V279.64m-4,0h8\" style=\"vector-effect: non-scaling-stroke; stroke-width: 0.7px; stroke: rgb(99, 110, 250); stroke-opacity: 1;\"/></g><g class=\"errorbar\"><path class=\"yerror\" d=\"M137.87,79.63h8m-4,0V251.13m-4,0h8\" style=\"vector-effect: non-scaling-stroke; stroke-width: 0.7px; stroke: rgb(99, 110, 250); stroke-opacity: 1;\"/></g><g class=\"errorbar\"><path class=\"yerror\" d=\"M155.6,66.75h8m-4,0V240.06m-4,0h8\" style=\"vector-effect: non-scaling-stroke; stroke-width: 0.7px; stroke: rgb(99, 110, 250); stroke-opacity: 1;\"/></g><g class=\"errorbar\"><path class=\"yerror\" d=\"M173.33,90.71h8m-4,0V263.53m-4,0h8\" style=\"vector-effect: non-scaling-stroke; stroke-width: 0.7px; stroke: rgb(99, 110, 250); stroke-opacity: 1;\"/></g><g class=\"errorbar\"><path class=\"yerror\" d=\"M191.07,54.26h8m-4,0V217.27m-4,0h8\" style=\"vector-effect: non-scaling-stroke; stroke-width: 0.7px; stroke: rgb(99, 110, 250); stroke-opacity: 1;\"/></g><g class=\"errorbar\"><path class=\"yerror\" d=\"M208.8,51.35h8m-4,0V216.72m-4,0h8\" style=\"vector-effect: non-scaling-stroke; stroke-width: 0.7px; stroke: rgb(99, 110, 250); stroke-opacity: 1;\"/></g><g class=\"errorbar\"><path class=\"yerror\" d=\"M226.53,45.65h8m-4,0V213.63m-4,0h8\" style=\"vector-effect: non-scaling-stroke; stroke-width: 0.7px; stroke: rgb(99, 110, 250); stroke-opacity: 1;\"/></g><g class=\"errorbar\"><path class=\"yerror\" d=\"M244.27,38.56h8m-4,0V177.49m-4,0h8\" style=\"vector-effect: non-scaling-stroke; stroke-width: 0.7px; stroke: rgb(99, 110, 250); stroke-opacity: 1;\"/></g><g class=\"errorbar\"><path class=\"yerror\" d=\"M262,46.91h8m-4,0V135.45m-4,0h8\" style=\"vector-effect: non-scaling-stroke; stroke-width: 0.7px; stroke: rgb(99, 110, 250); stroke-opacity: 1;\"/></g><g class=\"errorbar\"><path class=\"yerror\" d=\"M279.73,56.14h8m-4,0V111.81m-4,0h8\" style=\"vector-effect: non-scaling-stroke; stroke-width: 0.7px; stroke: rgb(99, 110, 250); stroke-opacity: 1;\"/></g><g class=\"errorbar\"><path class=\"yerror\" d=\"M297.47,45.25h8m-4,0V138.23m-4,0h8\" style=\"vector-effect: non-scaling-stroke; stroke-width: 0.7px; stroke: rgb(99, 110, 250); stroke-opacity: 1;\"/></g><g class=\"errorbar\"><path class=\"yerror\" d=\"M315.2,56.14h8m-4,0V111.81m-4,0h8\" style=\"vector-effect: non-scaling-stroke; stroke-width: 0.7px; stroke: rgb(99, 110, 250); stroke-opacity: 1;\"/></g><g class=\"errorbar\"><path class=\"yerror\" d=\"M332.93,80h8m-4,0V80m-4,0h8\" style=\"vector-effect: non-scaling-stroke; stroke-width: 0.7px; stroke: rgb(99, 110, 250); stroke-opacity: 1;\"/></g><g class=\"errorbar\"><path class=\"yerror\" d=\"M350.67,80h8m-4,0V80m-4,0h8\" style=\"vector-effect: non-scaling-stroke; stroke-width: 0.7px; stroke: rgb(99, 110, 250); stroke-opacity: 1;\"/></g><g class=\"errorbar\"><path class=\"yerror\" d=\"M368.4,80h8m-4,0V80m-4,0h8\" style=\"vector-effect: non-scaling-stroke; stroke-width: 0.7px; stroke: rgb(99, 110, 250); stroke-opacity: 1;\"/></g><g class=\"errorbar\"><path class=\"yerror\" d=\"M386.13,80h8m-4,0V80m-4,0h8\" style=\"vector-effect: non-scaling-stroke; stroke-width: 0.7px; stroke: rgb(99, 110, 250); stroke-opacity: 1;\"/></g><g class=\"errorbar\"><path class=\"yerror\" d=\"M403.87,80h8m-4,0V80m-4,0h8\" style=\"vector-effect: non-scaling-stroke; stroke-width: 0.7px; stroke: rgb(99, 110, 250); stroke-opacity: 1;\"/></g><g class=\"errorbar\"><path class=\"yerror\" d=\"M421.6,80h8m-4,0V80m-4,0h8\" style=\"vector-effect: non-scaling-stroke; stroke-width: 0.7px; stroke: rgb(99, 110, 250); stroke-opacity: 1;\"/></g><g class=\"errorbar\"><path class=\"yerror\" d=\"M439.33,80h8m-4,0V80m-4,0h8\" style=\"vector-effect: non-scaling-stroke; stroke-width: 0.7px; stroke: rgb(99, 110, 250); stroke-opacity: 1;\"/></g><g class=\"errorbar\"><path class=\"yerror\" d=\"M457.07,80h8m-4,0V80m-4,0h8\" style=\"vector-effect: non-scaling-stroke; stroke-width: 0.7px; stroke: rgb(99, 110, 250); stroke-opacity: 1;\"/></g><g class=\"errorbar\"><path class=\"yerror\" d=\"M474.8,80h8m-4,0V80m-4,0h8\" style=\"vector-effect: non-scaling-stroke; stroke-width: 0.7px; stroke: rgb(99, 110, 250); stroke-opacity: 1;\"/></g><g class=\"errorbar\"><path class=\"yerror\" d=\"M492.53,80h8m-4,0V80m-4,0h8\" style=\"vector-effect: non-scaling-stroke; stroke-width: 0.7px; stroke: rgb(99, 110, 250); stroke-opacity: 1;\"/></g><g class=\"errorbar\"><path class=\"yerror\" d=\"M510.27,80h8m-4,0V80m-4,0h8\" style=\"vector-effect: non-scaling-stroke; stroke-width: 0.7px; stroke: rgb(99, 110, 250); stroke-opacity: 1;\"/></g></g><g class=\"lines\"><path class=\"js-line\" d=\"M17.73,278.83L35.47,185.26L53.2,208.09L70.93,195.18L88.67,227.93L106.4,238.55L124.13,233.36L141.87,165.38L159.6,153.4L177.33,177.12L195.07,135.77L212.8,134.04L230.53,129.64L248.27,108.02L266,91.18L283.73,83.98L301.47,91.74L319.2,83.98L336.93,80L514.27,80\" style=\"vector-effect: non-scaling-stroke; fill: none; stroke: rgb(99, 110, 250); stroke-opacity: 1; stroke-width: 2px; opacity: 1;\"/></g><g class=\"points\"/><g class=\"text\"/></g><g class=\"trace scatter trace01e614\" style=\"stroke-miterlimit: 2; opacity: 1;\"><g class=\"fills\"/><g class=\"errorbars\"><g class=\"errorbar\"><path class=\"yerror\" d=\"M13.73,274.97h8m-4,0V274.97m-4,0h8\" style=\"vector-effect: non-scaling-stroke; stroke-width: 0.7px; stroke: rgb(239, 85, 59); stroke-opacity: 1;\"/></g><g class=\"errorbar\"><path class=\"yerror\" d=\"M31.47,170.45h8m-4,0V170.45m-4,0h8\" style=\"vector-effect: non-scaling-stroke; stroke-width: 0.7px; stroke: rgb(239, 85, 59); stroke-opacity: 1;\"/></g><g class=\"errorbar\"><path class=\"yerror\" d=\"M49.2,163.94h8m-4,0V198.84m-4,0h8\" style=\"vector-effect: non-scaling-stroke; stroke-width: 0.7px; stroke: rgb(239, 85, 59); stroke-opacity: 1;\"/></g><g class=\"errorbar\"><path class=\"yerror\" d=\"M66.93,158.19h8m-4,0V170.98m-4,0h8\" style=\"vector-effect: non-scaling-stroke; stroke-width: 0.7px; stroke: rgb(239, 85, 59); stroke-opacity: 1;\"/></g><g class=\"errorbar\"><path class=\"yerror\" d=\"M84.67,167.51h8m-4,0V188.02m-4,0h8\" style=\"vector-effect: non-scaling-stroke; stroke-width: 0.7px; stroke: rgb(239, 85, 59); stroke-opacity: 1;\"/></g><g class=\"errorbar\"><path class=\"yerror\" d=\"M102.4,150.95h8m-4,0V196.14m-4,0h8\" style=\"vector-effect: non-scaling-stroke; stroke-width: 0.7px; stroke: rgb(239, 85, 59); stroke-opacity: 1;\"/></g><g class=\"errorbar\"><path class=\"yerror\" d=\"M120.13,139.44h8m-4,0V206.45m-4,0h8\" style=\"vector-effect: non-scaling-stroke; stroke-width: 0.7px; stroke: rgb(239, 85, 59); stroke-opacity: 1;\"/></g><g class=\"errorbar\"><path class=\"yerror\" d=\"M137.87,73.65h8m-4,0V177.61m-4,0h8\" style=\"vector-effect: non-scaling-stroke; stroke-width: 0.7px; stroke: rgb(239, 85, 59); stroke-opacity: 1;\"/></g><g class=\"errorbar\"><path class=\"yerror\" d=\"M155.6,68.99h8m-4,0V166.67m-4,0h8\" style=\"vector-effect: non-scaling-stroke; stroke-width: 0.7px; stroke: rgb(239, 85, 59); stroke-opacity: 1;\"/></g><g class=\"errorbar\"><path class=\"yerror\" d=\"M173.33,83.88h8m-4,0V199.46m-4,0h8\" style=\"vector-effect: non-scaling-stroke; stroke-width: 0.7px; stroke: rgb(239, 85, 59); stroke-opacity: 1;\"/></g><g class=\"errorbar\"><path class=\"yerror\" d=\"M191.07,63.37h8m-4,0V158.22m-4,0h8\" style=\"vector-effect: non-scaling-stroke; stroke-width: 0.7px; stroke: rgb(239, 85, 59); stroke-opacity: 1;\"/></g><g class=\"errorbar\"><path class=\"yerror\" d=\"M208.8,60.31h8m-4,0V162.65m-4,0h8\" style=\"vector-effect: non-scaling-stroke; stroke-width: 0.7px; stroke: rgb(239, 85, 59); stroke-opacity: 1;\"/></g><g class=\"errorbar\"><path class=\"yerror\" d=\"M226.53,61.56h8m-4,0V143.06m-4,0h8\" style=\"vector-effect: non-scaling-stroke; stroke-width: 0.7px; stroke: rgb(239, 85, 59); stroke-opacity: 1;\"/></g><g class=\"errorbar\"><path class=\"yerror\" d=\"M244.27,52.31h8m-4,0V140.09m-4,0h8\" style=\"vector-effect: non-scaling-stroke; stroke-width: 0.7px; stroke: rgb(239, 85, 59); stroke-opacity: 1;\"/></g><g class=\"errorbar\"><path class=\"yerror\" d=\"M262,60.09h8m-4,0V112.37m-4,0h8\" style=\"vector-effect: non-scaling-stroke; stroke-width: 0.7px; stroke: rgb(239, 85, 59); stroke-opacity: 1;\"/></g><g class=\"errorbar\"><path class=\"yerror\" d=\"M279.73,72.04h8m-4,0V90.61m-4,0h8\" style=\"vector-effect: non-scaling-stroke; stroke-width: 0.7px; stroke: rgb(239, 85, 59); stroke-opacity: 1;\"/></g><g class=\"errorbar\"><path class=\"yerror\" d=\"M297.47,55.52h8m-4,0V120.96m-4,0h8\" style=\"vector-effect: non-scaling-stroke; stroke-width: 0.7px; stroke: rgb(239, 85, 59); stroke-opacity: 1;\"/></g><g class=\"errorbar\"><path class=\"yerror\" d=\"M315.2,62.39h8m-4,0V103.48m-4,0h8\" style=\"vector-effect: non-scaling-stroke; stroke-width: 0.7px; stroke: rgb(239, 85, 59); stroke-opacity: 1;\"/></g><g class=\"errorbar\"><path class=\"yerror\" d=\"M332.93,80h8m-4,0V80m-4,0h8\" style=\"vector-effect: non-scaling-stroke; stroke-width: 0.7px; stroke: rgb(239, 85, 59); stroke-opacity: 1;\"/></g><g class=\"errorbar\"><path class=\"yerror\" d=\"M350.67,80h8m-4,0V80m-4,0h8\" style=\"vector-effect: non-scaling-stroke; stroke-width: 0.7px; stroke: rgb(239, 85, 59); stroke-opacity: 1;\"/></g><g class=\"errorbar\"><path class=\"yerror\" d=\"M368.4,80h8m-4,0V80m-4,0h8\" style=\"vector-effect: non-scaling-stroke; stroke-width: 0.7px; stroke: rgb(239, 85, 59); stroke-opacity: 1;\"/></g><g class=\"errorbar\"><path class=\"yerror\" d=\"M386.13,80h8m-4,0V80m-4,0h8\" style=\"vector-effect: non-scaling-stroke; stroke-width: 0.7px; stroke: rgb(239, 85, 59); stroke-opacity: 1;\"/></g><g class=\"errorbar\"><path class=\"yerror\" d=\"M403.87,80h8m-4,0V80m-4,0h8\" style=\"vector-effect: non-scaling-stroke; stroke-width: 0.7px; stroke: rgb(239, 85, 59); stroke-opacity: 1;\"/></g><g class=\"errorbar\"><path class=\"yerror\" d=\"M421.6,80h8m-4,0V80m-4,0h8\" style=\"vector-effect: non-scaling-stroke; stroke-width: 0.7px; stroke: rgb(239, 85, 59); stroke-opacity: 1;\"/></g><g class=\"errorbar\"><path class=\"yerror\" d=\"M439.33,80h8m-4,0V80m-4,0h8\" style=\"vector-effect: non-scaling-stroke; stroke-width: 0.7px; stroke: rgb(239, 85, 59); stroke-opacity: 1;\"/></g><g class=\"errorbar\"><path class=\"yerror\" d=\"M457.07,80h8m-4,0V80m-4,0h8\" style=\"vector-effect: non-scaling-stroke; stroke-width: 0.7px; stroke: rgb(239, 85, 59); stroke-opacity: 1;\"/></g><g class=\"errorbar\"><path class=\"yerror\" d=\"M474.8,80h8m-4,0V80m-4,0h8\" style=\"vector-effect: non-scaling-stroke; stroke-width: 0.7px; stroke: rgb(239, 85, 59); stroke-opacity: 1;\"/></g><g class=\"errorbar\"><path class=\"yerror\" d=\"M492.53,80h8m-4,0V80m-4,0h8\" style=\"vector-effect: non-scaling-stroke; stroke-width: 0.7px; stroke: rgb(239, 85, 59); stroke-opacity: 1;\"/></g><g class=\"errorbar\"><path class=\"yerror\" d=\"M510.27,80h8m-4,0V80m-4,0h8\" style=\"vector-effect: non-scaling-stroke; stroke-width: 0.7px; stroke: rgb(239, 85, 59); stroke-opacity: 1;\"/></g></g><g class=\"lines\"><path class=\"js-line\" d=\"M17.73,274.97L35.47,170.45L53.2,181.39L70.93,164.58L88.67,177.77L106.4,173.55L124.13,172.94L141.87,125.63L159.6,117.83L177.33,141.67L195.07,110.79L212.8,111.48L230.53,102.31L248.27,96.2L266,86.23L283.73,81.33L301.47,88.24L319.2,82.93L336.93,80L514.27,80\" style=\"vector-effect: non-scaling-stroke; fill: none; stroke: rgb(239, 85, 59); stroke-opacity: 1; stroke-width: 2px; opacity: 1;\"/></g><g class=\"points\"/><g class=\"text\"/></g><g class=\"trace scatter trace128636\" style=\"stroke-miterlimit: 2; opacity: 1;\"><g class=\"fills\"/><g class=\"errorbars\"><g class=\"errorbar\"><path class=\"yerror\" d=\"M13.73,277.33h8m-4,0V279.95m-4,0h8\" style=\"vector-effect: non-scaling-stroke; stroke-width: 0.7px; stroke: rgb(0, 204, 150); stroke-opacity: 1;\"/></g><g class=\"errorbar\"><path class=\"yerror\" d=\"M31.47,233.42h8m-4,0V289.44m-4,0h8\" style=\"vector-effect: non-scaling-stroke; stroke-width: 0.7px; stroke: rgb(0, 204, 150); stroke-opacity: 1;\"/></g><g class=\"errorbar\"><path class=\"yerror\" d=\"M49.2,231.6h8m-4,0V286.76m-4,0h8\" style=\"vector-effect: non-scaling-stroke; stroke-width: 0.7px; stroke: rgb(0, 204, 150); stroke-opacity: 1;\"/></g><g class=\"errorbar\"><path class=\"yerror\" d=\"M66.93,218.08h8m-4,0V283.82m-4,0h8\" style=\"vector-effect: non-scaling-stroke; stroke-width: 0.7px; stroke: rgb(0, 204, 150); stroke-opacity: 1;\"/></g><g class=\"errorbar\"><path class=\"yerror\" d=\"M84.67,206.31h8m-4,0V285.1m-4,0h8\" style=\"vector-effect: non-scaling-stroke; stroke-width: 0.7px; stroke: rgb(0, 204, 150); stroke-opacity: 1;\"/></g><g class=\"errorbar\"><path class=\"yerror\" d=\"M102.4,192.95h8m-4,0V279.37m-4,0h8\" style=\"vector-effect: non-scaling-stroke; stroke-width: 0.7px; stroke: rgb(0, 204, 150); stroke-opacity: 1;\"/></g><g class=\"errorbar\"><path class=\"yerror\" d=\"M120.13,203.14h8m-4,0V275.55m-4,0h8\" style=\"vector-effect: non-scaling-stroke; stroke-width: 0.7px; stroke: rgb(0, 204, 150); stroke-opacity: 1;\"/></g><g class=\"errorbar\"><path class=\"yerror\" d=\"M137.87,183.34h8m-4,0V268.41m-4,0h8\" style=\"vector-effect: non-scaling-stroke; stroke-width: 0.7px; stroke: rgb(0, 204, 150); stroke-opacity: 1;\"/></g><g class=\"errorbar\"><path class=\"yerror\" d=\"M155.6,201.4h8m-4,0V267.93m-4,0h8\" style=\"vector-effect: non-scaling-stroke; stroke-width: 0.7px; stroke: rgb(0, 204, 150); stroke-opacity: 1;\"/></g><g class=\"errorbar\"><path class=\"yerror\" d=\"M173.33,194.5h8m-4,0V269.96m-4,0h8\" style=\"vector-effect: non-scaling-stroke; stroke-width: 0.7px; stroke: rgb(0, 204, 150); stroke-opacity: 1;\"/></g><g class=\"errorbar\"><path class=\"yerror\" d=\"M191.07,209.54h8m-4,0V261.66m-4,0h8\" style=\"vector-effect: non-scaling-stroke; stroke-width: 0.7px; stroke: rgb(0, 204, 150); stroke-opacity: 1;\"/></g><g class=\"errorbar\"><path class=\"yerror\" d=\"M208.8,204.99h8m-4,0V259.1m-4,0h8\" style=\"vector-effect: non-scaling-stroke; stroke-width: 0.7px; stroke: rgb(0, 204, 150); stroke-opacity: 1;\"/></g><g class=\"errorbar\"><path class=\"yerror\" d=\"M226.53,201h8m-4,0V259.35m-4,0h8\" style=\"vector-effect: non-scaling-stroke; stroke-width: 0.7px; stroke: rgb(0, 204, 150); stroke-opacity: 1;\"/></g><g class=\"errorbar\"><path class=\"yerror\" d=\"M244.27,203.16h8m-4,0V256.07m-4,0h8\" style=\"vector-effect: non-scaling-stroke; stroke-width: 0.7px; stroke: rgb(0, 204, 150); stroke-opacity: 1;\"/></g><g class=\"errorbar\"><path class=\"yerror\" d=\"M262,190.58h8m-4,0V257.42m-4,0h8\" style=\"vector-effect: non-scaling-stroke; stroke-width: 0.7px; stroke: rgb(0, 204, 150); stroke-opacity: 1;\"/></g><g class=\"errorbar\"><path class=\"yerror\" d=\"M279.73,204.06h8m-4,0V249.93m-4,0h8\" style=\"vector-effect: non-scaling-stroke; stroke-width: 0.7px; stroke: rgb(0, 204, 150); stroke-opacity: 1;\"/></g><g class=\"errorbar\"><path class=\"yerror\" d=\"M297.47,209.82h8m-4,0V244.17m-4,0h8\" style=\"vector-effect: non-scaling-stroke; stroke-width: 0.7px; stroke: rgb(0, 204, 150); stroke-opacity: 1;\"/></g><g class=\"errorbar\"><path class=\"yerror\" d=\"M315.2,207.36h8m-4,0V248.88m-4,0h8\" style=\"vector-effect: non-scaling-stroke; stroke-width: 0.7px; stroke: rgb(0, 204, 150); stroke-opacity: 1;\"/></g><g class=\"errorbar\"><path class=\"yerror\" d=\"M332.93,206.02h8m-4,0V245.35m-4,0h8\" style=\"vector-effect: non-scaling-stroke; stroke-width: 0.7px; stroke: rgb(0, 204, 150); stroke-opacity: 1;\"/></g><g class=\"errorbar\"><path class=\"yerror\" d=\"M350.67,213.27h8m-4,0V249.33m-4,0h8\" style=\"vector-effect: non-scaling-stroke; stroke-width: 0.7px; stroke: rgb(0, 204, 150); stroke-opacity: 1;\"/></g><g class=\"errorbar\"><path class=\"yerror\" d=\"M368.4,211.21h8m-4,0V251.76m-4,0h8\" style=\"vector-effect: non-scaling-stroke; stroke-width: 0.7px; stroke: rgb(0, 204, 150); stroke-opacity: 1;\"/></g><g class=\"errorbar\"><path class=\"yerror\" d=\"M386.13,209.96h8m-4,0V255.63m-4,0h8\" style=\"vector-effect: non-scaling-stroke; stroke-width: 0.7px; stroke: rgb(0, 204, 150); stroke-opacity: 1;\"/></g><g class=\"errorbar\"><path class=\"yerror\" d=\"M403.87,211.66h8m-4,0V252.06m-4,0h8\" style=\"vector-effect: non-scaling-stroke; stroke-width: 0.7px; stroke: rgb(0, 204, 150); stroke-opacity: 1;\"/></g><g class=\"errorbar\"><path class=\"yerror\" d=\"M421.6,220.38h8m-4,0V253.07m-4,0h8\" style=\"vector-effect: non-scaling-stroke; stroke-width: 0.7px; stroke: rgb(0, 204, 150); stroke-opacity: 1;\"/></g><g class=\"errorbar\"><path class=\"yerror\" d=\"M439.33,214.14h8m-4,0V248.08m-4,0h8\" style=\"vector-effect: non-scaling-stroke; stroke-width: 0.7px; stroke: rgb(0, 204, 150); stroke-opacity: 1;\"/></g><g class=\"errorbar\"><path class=\"yerror\" d=\"M457.07,205.52h8m-4,0V247.72m-4,0h8\" style=\"vector-effect: non-scaling-stroke; stroke-width: 0.7px; stroke: rgb(0, 204, 150); stroke-opacity: 1;\"/></g><g class=\"errorbar\"><path class=\"yerror\" d=\"M474.8,216.15h8m-4,0V250.93m-4,0h8\" style=\"vector-effect: non-scaling-stroke; stroke-width: 0.7px; stroke: rgb(0, 204, 150); stroke-opacity: 1;\"/></g><g class=\"errorbar\"><path class=\"yerror\" d=\"M492.53,205.49h8m-4,0V246.25m-4,0h8\" style=\"vector-effect: non-scaling-stroke; stroke-width: 0.7px; stroke: rgb(0, 204, 150); stroke-opacity: 1;\"/></g><g class=\"errorbar\"><path class=\"yerror\" d=\"M510.27,212.47h8m-4,0V251.99m-4,0h8\" style=\"vector-effect: non-scaling-stroke; stroke-width: 0.7px; stroke: rgb(0, 204, 150); stroke-opacity: 1;\"/></g></g><g class=\"lines\"><path class=\"js-line\" d=\"M17.73,278.64L35.47,261.43L53.2,259.18L70.93,250.95L88.67,245.71L106.4,236.16L124.13,239.35L141.87,225.87L159.6,234.67L177.33,232.23L195.07,235.6L212.8,232.05L230.53,230.18L248.27,229.61L266,224L283.73,226.99L301.47,226.99L319.2,228.12L336.93,225.68L354.67,231.3L372.4,231.49L390.13,232.8L407.87,231.86L425.6,236.73L443.33,231.11L461.07,226.62L478.8,233.54L496.53,225.87L514.27,232.23\" style=\"vector-effect: non-scaling-stroke; fill: none; stroke: rgb(0, 204, 150); stroke-opacity: 1; stroke-width: 2px; opacity: 1;\"/></g><g class=\"points\"/><g class=\"text\"/></g><g class=\"trace scatter trace7576c9\" style=\"stroke-miterlimit: 2; opacity: 1;\"><g class=\"fills\"/><g class=\"errorbars\"><g class=\"errorbar\"><path class=\"yerror\" d=\"M13.73,271.05h8m-4,0V275.36m-4,0h8\" style=\"vector-effect: non-scaling-stroke; stroke-width: 0.7px; stroke: rgb(171, 99, 250); stroke-opacity: 1;\"/></g><g class=\"errorbar\"><path class=\"yerror\" d=\"M31.47,230.6h8m-4,0V279.79m-4,0h8\" style=\"vector-effect: non-scaling-stroke; stroke-width: 0.7px; stroke: rgb(171, 99, 250); stroke-opacity: 1;\"/></g><g class=\"errorbar\"><path class=\"yerror\" d=\"M49.2,217.44h8m-4,0V274.78m-4,0h8\" style=\"vector-effect: non-scaling-stroke; stroke-width: 0.7px; stroke: rgb(171, 99, 250); stroke-opacity: 1;\"/></g><g class=\"errorbar\"><path class=\"yerror\" d=\"M66.93,204.84h8m-4,0V267.12m-4,0h8\" style=\"vector-effect: non-scaling-stroke; stroke-width: 0.7px; stroke: rgb(171, 99, 250); stroke-opacity: 1;\"/></g><g class=\"errorbar\"><path class=\"yerror\" d=\"M84.67,184.97h8m-4,0V266.24m-4,0h8\" style=\"vector-effect: non-scaling-stroke; stroke-width: 0.7px; stroke: rgb(171, 99, 250); stroke-opacity: 1;\"/></g><g class=\"errorbar\"><path class=\"yerror\" d=\"M102.4,178.78h8m-4,0V248.8m-4,0h8\" style=\"vector-effect: non-scaling-stroke; stroke-width: 0.7px; stroke: rgb(171, 99, 250); stroke-opacity: 1;\"/></g><g class=\"errorbar\"><path class=\"yerror\" d=\"M120.13,177.26h8m-4,0V243.57m-4,0h8\" style=\"vector-effect: non-scaling-stroke; stroke-width: 0.7px; stroke: rgb(171, 99, 250); stroke-opacity: 1;\"/></g><g class=\"errorbar\"><path class=\"yerror\" d=\"M137.87,160.14h8m-4,0V228.2m-4,0h8\" style=\"vector-effect: non-scaling-stroke; stroke-width: 0.7px; stroke: rgb(171, 99, 250); stroke-opacity: 1;\"/></g><g class=\"errorbar\"><path class=\"yerror\" d=\"M155.6,165.15h8m-4,0V225.77m-4,0h8\" style=\"vector-effect: non-scaling-stroke; stroke-width: 0.7px; stroke: rgb(171, 99, 250); stroke-opacity: 1;\"/></g><g class=\"errorbar\"><path class=\"yerror\" d=\"M173.33,159.68h8m-4,0V228.01m-4,0h8\" style=\"vector-effect: non-scaling-stroke; stroke-width: 0.7px; stroke: rgb(171, 99, 250); stroke-opacity: 1;\"/></g><g class=\"errorbar\"><path class=\"yerror\" d=\"M191.07,165.56h8m-4,0V216.67m-4,0h8\" style=\"vector-effect: non-scaling-stroke; stroke-width: 0.7px; stroke: rgb(171, 99, 250); stroke-opacity: 1;\"/></g><g class=\"errorbar\"><path class=\"yerror\" d=\"M208.8,161.51h8m-4,0V209.79m-4,0h8\" style=\"vector-effect: non-scaling-stroke; stroke-width: 0.7px; stroke: rgb(171, 99, 250); stroke-opacity: 1;\"/></g><g class=\"errorbar\"><path class=\"yerror\" d=\"M226.53,160.47h8m-4,0V206.97m-4,0h8\" style=\"vector-effect: non-scaling-stroke; stroke-width: 0.7px; stroke: rgb(171, 99, 250); stroke-opacity: 1;\"/></g><g class=\"errorbar\"><path class=\"yerror\" d=\"M244.27,155.88h8m-4,0V203.51m-4,0h8\" style=\"vector-effect: non-scaling-stroke; stroke-width: 0.7px; stroke: rgb(171, 99, 250); stroke-opacity: 1;\"/></g><g class=\"errorbar\"><path class=\"yerror\" d=\"M262,149.59h8m-4,0V199.36m-4,0h8\" style=\"vector-effect: non-scaling-stroke; stroke-width: 0.7px; stroke: rgb(171, 99, 250); stroke-opacity: 1;\"/></g><g class=\"errorbar\"><path class=\"yerror\" d=\"M279.73,150.35h8m-4,0V197.79m-4,0h8\" style=\"vector-effect: non-scaling-stroke; stroke-width: 0.7px; stroke: rgb(171, 99, 250); stroke-opacity: 1;\"/></g><g class=\"errorbar\"><path class=\"yerror\" d=\"M297.47,158.08h8m-4,0V189.9m-4,0h8\" style=\"vector-effect: non-scaling-stroke; stroke-width: 0.7px; stroke: rgb(171, 99, 250); stroke-opacity: 1;\"/></g><g class=\"errorbar\"><path class=\"yerror\" d=\"M315.2,152.22h8m-4,0V190.13m-4,0h8\" style=\"vector-effect: non-scaling-stroke; stroke-width: 0.7px; stroke: rgb(171, 99, 250); stroke-opacity: 1;\"/></g><g class=\"errorbar\"><path class=\"yerror\" d=\"M332.93,147.7h8m-4,0V186.93m-4,0h8\" style=\"vector-effect: non-scaling-stroke; stroke-width: 0.7px; stroke: rgb(171, 99, 250); stroke-opacity: 1;\"/></g><g class=\"errorbar\"><path class=\"yerror\" d=\"M350.67,155.57h8m-4,0V186.78m-4,0h8\" style=\"vector-effect: non-scaling-stroke; stroke-width: 0.7px; stroke: rgb(171, 99, 250); stroke-opacity: 1;\"/></g><g class=\"errorbar\"><path class=\"yerror\" d=\"M368.4,152.52h8m-4,0V187.1m-4,0h8\" style=\"vector-effect: non-scaling-stroke; stroke-width: 0.7px; stroke: rgb(171, 99, 250); stroke-opacity: 1;\"/></g><g class=\"errorbar\"><path class=\"yerror\" d=\"M386.13,149.04h8m-4,0V186.24m-4,0h8\" style=\"vector-effect: non-scaling-stroke; stroke-width: 0.7px; stroke: rgb(171, 99, 250); stroke-opacity: 1;\"/></g><g class=\"errorbar\"><path class=\"yerror\" d=\"M403.87,145.47h8m-4,0V187.23m-4,0h8\" style=\"vector-effect: non-scaling-stroke; stroke-width: 0.7px; stroke: rgb(171, 99, 250); stroke-opacity: 1;\"/></g><g class=\"errorbar\"><path class=\"yerror\" d=\"M421.6,151.99h8m-4,0V186.02m-4,0h8\" style=\"vector-effect: non-scaling-stroke; stroke-width: 0.7px; stroke: rgb(171, 99, 250); stroke-opacity: 1;\"/></g><g class=\"errorbar\"><path class=\"yerror\" d=\"M439.33,147.78h8m-4,0V180.74m-4,0h8\" style=\"vector-effect: non-scaling-stroke; stroke-width: 0.7px; stroke: rgb(171, 99, 250); stroke-opacity: 1;\"/></g><g class=\"errorbar\"><path class=\"yerror\" d=\"M457.07,140.6h8m-4,0V177.79m-4,0h8\" style=\"vector-effect: non-scaling-stroke; stroke-width: 0.7px; stroke: rgb(171, 99, 250); stroke-opacity: 1;\"/></g><g class=\"errorbar\"><path class=\"yerror\" d=\"M474.8,144.8h8m-4,0V174.56m-4,0h8\" style=\"vector-effect: non-scaling-stroke; stroke-width: 0.7px; stroke: rgb(171, 99, 250); stroke-opacity: 1;\"/></g><g class=\"errorbar\"><path class=\"yerror\" d=\"M492.53,139.31h8m-4,0V172.01m-4,0h8\" style=\"vector-effect: non-scaling-stroke; stroke-width: 0.7px; stroke: rgb(171, 99, 250); stroke-opacity: 1;\"/></g><g class=\"errorbar\"><path class=\"yerror\" d=\"M510.27,139.52h8m-4,0V175.66m-4,0h8\" style=\"vector-effect: non-scaling-stroke; stroke-width: 0.7px; stroke: rgb(171, 99, 250); stroke-opacity: 1;\"/></g></g><g class=\"lines\"><path class=\"js-line\" d=\"M17.73,273.21L35.47,255.2L53.2,246.11L88.67,225.61L106.4,213.79L124.13,210.41L141.87,194.17L159.6,195.46L177.33,193.85L195.07,191.12L212.8,185.65L230.53,183.72L248.27,179.7L266,174.47L283.73,174.07L301.47,173.99L319.2,171.18L336.93,167.32L354.67,171.18L372.4,169.81L390.13,167.64L407.87,166.35L425.6,169.01L461.07,159.2L478.8,159.68L496.53,155.66L514.27,157.59\" style=\"vector-effect: non-scaling-stroke; fill: none; stroke: rgb(171, 99, 250); stroke-opacity: 1; stroke-width: 2px; opacity: 1;\"/></g><g class=\"points\"/><g class=\"text\"/></g></g></g><g class=\"overplot\"/><path class=\"xlines-above crisp\" d=\"M0,0\" style=\"fill: none;\"/><path class=\"ylines-above crisp\" d=\"M0,0\" style=\"fill: none;\"/><g class=\"overlines-above\"/><g class=\"xaxislayer-above\"><g class=\"xtick\"><text text-anchor=\"middle\" x=\"0\" y=\"433\" transform=\"translate(80,0)\" style=\"font-family: 'Open Sans', verdana, arial, sans-serif; font-size: 12px; fill: rgb(42, 63, 95); fill-opacity: 1; white-space: pre; opacity: 1;\">0</text></g><g class=\"xtick\"><text text-anchor=\"middle\" x=\"0\" y=\"433\" style=\"font-family: 'Open Sans', verdana, arial, sans-serif; font-size: 12px; fill: rgb(42, 63, 95); fill-opacity: 1; white-space: pre; opacity: 1;\" transform=\"translate(97.73,0)\">1</text></g><g class=\"xtick\"><text text-anchor=\"middle\" x=\"0\" y=\"433\" style=\"font-family: 'Open Sans', verdana, arial, sans-serif; font-size: 12px; fill: rgb(42, 63, 95); fill-opacity: 1; white-space: pre; opacity: 1;\" transform=\"translate(115.47,0)\">2</text></g><g class=\"xtick\"><text text-anchor=\"middle\" x=\"0\" y=\"433\" style=\"font-family: 'Open Sans', verdana, arial, sans-serif; font-size: 12px; fill: rgb(42, 63, 95); fill-opacity: 1; white-space: pre; opacity: 1;\" transform=\"translate(133.2,0)\">3</text></g><g class=\"xtick\"><text text-anchor=\"middle\" x=\"0\" y=\"433\" style=\"font-family: 'Open Sans', verdana, arial, sans-serif; font-size: 12px; fill: rgb(42, 63, 95); fill-opacity: 1; white-space: pre; opacity: 1;\" transform=\"translate(150.93,0)\">4</text></g><g class=\"xtick\"><text text-anchor=\"middle\" x=\"0\" y=\"433\" style=\"font-family: 'Open Sans', verdana, arial, sans-serif; font-size: 12px; fill: rgb(42, 63, 95); fill-opacity: 1; white-space: pre; opacity: 1;\" transform=\"translate(168.67000000000002,0)\">5</text></g><g class=\"xtick\"><text text-anchor=\"middle\" x=\"0\" y=\"433\" style=\"font-family: 'Open Sans', verdana, arial, sans-serif; font-size: 12px; fill: rgb(42, 63, 95); fill-opacity: 1; white-space: pre; opacity: 1;\" transform=\"translate(186.4,0)\">6</text></g><g class=\"xtick\"><text text-anchor=\"middle\" x=\"0\" y=\"433\" style=\"font-family: 'Open Sans', verdana, arial, sans-serif; font-size: 12px; fill: rgb(42, 63, 95); fill-opacity: 1; white-space: pre; opacity: 1;\" transform=\"translate(204.13,0)\">7</text></g><g class=\"xtick\"><text text-anchor=\"middle\" x=\"0\" y=\"433\" style=\"font-family: 'Open Sans', verdana, arial, sans-serif; font-size: 12px; fill: rgb(42, 63, 95); fill-opacity: 1; white-space: pre; opacity: 1;\" transform=\"translate(221.87,0)\">8</text></g><g class=\"xtick\"><text text-anchor=\"middle\" x=\"0\" y=\"433\" style=\"font-family: 'Open Sans', verdana, arial, sans-serif; font-size: 12px; fill: rgb(42, 63, 95); fill-opacity: 1; white-space: pre; opacity: 1;\" transform=\"translate(239.6,0)\">9</text></g><g class=\"xtick\"><text text-anchor=\"middle\" x=\"0\" y=\"433\" style=\"font-family: 'Open Sans', verdana, arial, sans-serif; font-size: 12px; fill: rgb(42, 63, 95); fill-opacity: 1; white-space: pre; opacity: 1;\" transform=\"translate(257.33000000000004,0)\">10</text></g><g class=\"xtick\"><text text-anchor=\"middle\" x=\"0\" y=\"433\" style=\"font-family: 'Open Sans', verdana, arial, sans-serif; font-size: 12px; fill: rgb(42, 63, 95); fill-opacity: 1; white-space: pre; opacity: 1;\" transform=\"translate(275.07,0)\">11</text></g><g class=\"xtick\"><text text-anchor=\"middle\" x=\"0\" y=\"433\" style=\"font-family: 'Open Sans', verdana, arial, sans-serif; font-size: 12px; fill: rgb(42, 63, 95); fill-opacity: 1; white-space: pre; opacity: 1;\" transform=\"translate(292.8,0)\">12</text></g><g class=\"xtick\"><text text-anchor=\"middle\" x=\"0\" y=\"433\" style=\"font-family: 'Open Sans', verdana, arial, sans-serif; font-size: 12px; fill: rgb(42, 63, 95); fill-opacity: 1; white-space: pre; opacity: 1;\" transform=\"translate(310.53,0)\">13</text></g><g class=\"xtick\"><text text-anchor=\"middle\" x=\"0\" y=\"433\" style=\"font-family: 'Open Sans', verdana, arial, sans-serif; font-size: 12px; fill: rgb(42, 63, 95); fill-opacity: 1; white-space: pre; opacity: 1;\" transform=\"translate(328.27,0)\">14</text></g><g class=\"xtick\"><text text-anchor=\"middle\" x=\"0\" y=\"433\" style=\"font-family: 'Open Sans', verdana, arial, sans-serif; font-size: 12px; fill: rgb(42, 63, 95); fill-opacity: 1; white-space: pre; opacity: 1;\" transform=\"translate(346,0)\">15</text></g><g class=\"xtick\"><text text-anchor=\"middle\" x=\"0\" y=\"433\" style=\"font-family: 'Open Sans', verdana, arial, sans-serif; font-size: 12px; fill: rgb(42, 63, 95); fill-opacity: 1; white-space: pre; opacity: 1;\" transform=\"translate(363.73,0)\">16</text></g><g class=\"xtick\"><text text-anchor=\"middle\" x=\"0\" y=\"433\" style=\"font-family: 'Open Sans', verdana, arial, sans-serif; font-size: 12px; fill: rgb(42, 63, 95); fill-opacity: 1; white-space: pre; opacity: 1;\" transform=\"translate(381.47,0)\">17</text></g><g class=\"xtick\"><text text-anchor=\"middle\" x=\"0\" y=\"433\" style=\"font-family: 'Open Sans', verdana, arial, sans-serif; font-size: 12px; fill: rgb(42, 63, 95); fill-opacity: 1; white-space: pre; opacity: 1;\" transform=\"translate(399.2,0)\">18</text></g><g class=\"xtick\"><text text-anchor=\"middle\" x=\"0\" y=\"433\" style=\"font-family: 'Open Sans', verdana, arial, sans-serif; font-size: 12px; fill: rgb(42, 63, 95); fill-opacity: 1; white-space: pre; opacity: 1;\" transform=\"translate(416.93,0)\">19</text></g><g class=\"xtick\"><text text-anchor=\"middle\" x=\"0\" y=\"433\" style=\"font-family: 'Open Sans', verdana, arial, sans-serif; font-size: 12px; fill: rgb(42, 63, 95); fill-opacity: 1; white-space: pre; opacity: 1;\" transform=\"translate(434.67,0)\">20</text></g><g class=\"xtick\"><text text-anchor=\"middle\" x=\"0\" y=\"433\" style=\"font-family: 'Open Sans', verdana, arial, sans-serif; font-size: 12px; fill: rgb(42, 63, 95); fill-opacity: 1; white-space: pre; opacity: 1;\" transform=\"translate(452.4,0)\">21</text></g><g class=\"xtick\"><text text-anchor=\"middle\" x=\"0\" y=\"433\" style=\"font-family: 'Open Sans', verdana, arial, sans-serif; font-size: 12px; fill: rgb(42, 63, 95); fill-opacity: 1; white-space: pre; opacity: 1;\" transform=\"translate(470.13,0)\">22</text></g><g class=\"xtick\"><text text-anchor=\"middle\" x=\"0\" y=\"433\" style=\"font-family: 'Open Sans', verdana, arial, sans-serif; font-size: 12px; fill: rgb(42, 63, 95); fill-opacity: 1; white-space: pre; opacity: 1;\" transform=\"translate(487.87,0)\">23</text></g><g class=\"xtick\"><text text-anchor=\"middle\" x=\"0\" y=\"433\" style=\"font-family: 'Open Sans', verdana, arial, sans-serif; font-size: 12px; fill: rgb(42, 63, 95); fill-opacity: 1; white-space: pre; opacity: 1;\" transform=\"translate(505.6,0)\">24</text></g><g class=\"xtick\"><text text-anchor=\"middle\" x=\"0\" y=\"433\" style=\"font-family: 'Open Sans', verdana, arial, sans-serif; font-size: 12px; fill: rgb(42, 63, 95); fill-opacity: 1; white-space: pre; opacity: 1;\" transform=\"translate(523.3299999999999,0)\">25</text></g><g class=\"xtick\"><text text-anchor=\"middle\" x=\"0\" y=\"433\" style=\"font-family: 'Open Sans', verdana, arial, sans-serif; font-size: 12px; fill: rgb(42, 63, 95); fill-opacity: 1; white-space: pre; opacity: 1;\" transform=\"translate(541.0699999999999,0)\">26</text></g><g class=\"xtick\"><text text-anchor=\"middle\" x=\"0\" y=\"433\" style=\"font-family: 'Open Sans', verdana, arial, sans-serif; font-size: 12px; fill: rgb(42, 63, 95); fill-opacity: 1; white-space: pre; opacity: 1;\" transform=\"translate(558.8,0)\">27</text></g><g class=\"xtick\"><text text-anchor=\"middle\" x=\"0\" y=\"433\" style=\"font-family: 'Open Sans', verdana, arial, sans-serif; font-size: 12px; fill: rgb(42, 63, 95); fill-opacity: 1; white-space: pre; opacity: 1;\" transform=\"translate(576.53,0)\">28</text></g><g class=\"xtick\"><text text-anchor=\"middle\" x=\"0\" y=\"433\" style=\"font-family: 'Open Sans', verdana, arial, sans-serif; font-size: 12px; fill: rgb(42, 63, 95); fill-opacity: 1; white-space: pre; opacity: 1;\" transform=\"translate(594.27,0)\">29</text></g><g class=\"xtick\"><text text-anchor=\"middle\" x=\"0\" y=\"433\" style=\"font-family: 'Open Sans', verdana, arial, sans-serif; font-size: 12px; fill: rgb(42, 63, 95); fill-opacity: 1; white-space: pre; opacity: 1;\" transform=\"translate(612,0)\">30</text></g></g><g class=\"yaxislayer-above\"><g class=\"ytick\"><text text-anchor=\"end\" x=\"79\" y=\"4.199999999999999\" transform=\"translate(0,420)\" style=\"font-family: 'Open Sans', verdana, arial, sans-serif; font-size: 12px; fill: rgb(42, 63, 95); fill-opacity: 1; white-space: pre; opacity: 1;\">0.6</text></g><g class=\"ytick\"><text text-anchor=\"end\" x=\"79\" y=\"4.199999999999999\" style=\"font-family: 'Open Sans', verdana, arial, sans-serif; font-size: 12px; fill: rgb(42, 63, 95); fill-opacity: 1; white-space: pre; opacity: 1;\" transform=\"translate(0,340)\">0.65</text></g><g class=\"ytick\"><text text-anchor=\"end\" x=\"79\" y=\"4.199999999999999\" style=\"font-family: 'Open Sans', verdana, arial, sans-serif; font-size: 12px; fill: rgb(42, 63, 95); fill-opacity: 1; white-space: pre; opacity: 1;\" transform=\"translate(0,260)\">0.7</text></g><g class=\"ytick\"><text text-anchor=\"end\" x=\"79\" y=\"4.199999999999999\" style=\"font-family: 'Open Sans', verdana, arial, sans-serif; font-size: 12px; fill: rgb(42, 63, 95); fill-opacity: 1; white-space: pre; opacity: 1;\" transform=\"translate(0,180)\">0.75</text></g><g class=\"ytick\"><text text-anchor=\"end\" x=\"79\" y=\"4.199999999999999\" style=\"font-family: 'Open Sans', verdana, arial, sans-serif; font-size: 12px; fill: rgb(42, 63, 95); fill-opacity: 1; white-space: pre; opacity: 1;\" transform=\"translate(0,100)\">0.8</text></g></g><g class=\"overaxes-above\"/></g></g><g class=\"polarlayer\"/><g class=\"ternarylayer\"/><g class=\"geolayer\"/><g class=\"funnelarealayer\"/><g class=\"pielayer\"/><g class=\"iciclelayer\"/><g class=\"treemaplayer\"/><g class=\"sunburstlayer\"/><g class=\"glimages\"/><defs id=\"topdefs-a376a3\"><g class=\"clips\"/><clipPath id=\"legenda376a3\"><rect width=\"165\" height=\"86\" x=\"0\" y=\"0\"/></clipPath></defs><g class=\"layer-above\"><g class=\"imagelayer\"/><g class=\"shapelayer\"/></g><g class=\"infolayer\"><g class=\"legend\" pointer-events=\"all\" transform=\"translate(622.64,100)\"><rect class=\"bg\" shape-rendering=\"crispEdges\" width=\"165\" height=\"86\" x=\"0\" y=\"0\" style=\"stroke: rgb(68, 68, 68); stroke-opacity: 1; fill: rgb(255, 255, 255); fill-opacity: 1; stroke-width: 0px;\"/><g class=\"scrollbox\" transform=\"\" clip-path=\"url(#legenda376a3)\"><g class=\"groups\"><g class=\"traces\" transform=\"translate(0,14.5)\" style=\"opacity: 1;\"><text class=\"legendtext\" text-anchor=\"start\" x=\"40\" y=\"4.680000000000001\" style=\"font-family: 'Open Sans', verdana, arial, sans-serif; font-size: 12px; fill: rgb(42, 63, 95); fill-opacity: 1; white-space: pre;\">RBF k-médias (teste)</text><g class=\"layers\" style=\"opacity: 1;\"><g class=\"legendfill\"/><g class=\"legendlines\"><path class=\"js-line\" d=\"M5,0h30\" style=\"fill: none; stroke: rgb(99, 110, 250); stroke-opacity: 1; stroke-width: 2px;\"/></g><g class=\"legendsymbols\"><g class=\"legendpoints\"/></g></g><rect class=\"legendtoggle\" x=\"0\" y=\"-9.5\" width=\"159.53125\" height=\"19\" style=\"fill: rgb(0, 0, 0); fill-opacity: 0;\"/></g><g class=\"traces\" transform=\"translate(0,33.5)\" style=\"opacity: 1;\"><text class=\"legendtext\" text-anchor=\"start\" x=\"40\" y=\"4.680000000000001\" style=\"font-family: 'Open Sans', verdana, arial, sans-serif; font-size: 12px; fill: rgb(42, 63, 95); fill-opacity: 1; white-space: pre;\">RBF k-médias (treino)</text><g class=\"layers\" style=\"opacity: 1;\"><g class=\"legendfill\"/><g class=\"legendlines\"><path class=\"js-line\" d=\"M5,0h30\" style=\"fill: none; stroke: rgb(239, 85, 59); stroke-opacity: 1; stroke-width: 2px;\"/></g><g class=\"legendsymbols\"><g class=\"legendpoints\"/></g></g><rect class=\"legendtoggle\" x=\"0\" y=\"-9.5\" width=\"159.53125\" height=\"19\" style=\"fill: rgb(0, 0, 0); fill-opacity: 0;\"/></g><g class=\"traces\" transform=\"translate(0,52.5)\" style=\"opacity: 1;\"><text class=\"legendtext\" text-anchor=\"start\" x=\"40\" y=\"4.680000000000001\" style=\"font-family: 'Open Sans', verdana, arial, sans-serif; font-size: 12px; fill: rgb(42, 63, 95); fill-opacity: 1; white-space: pre;\">RBF aleatoria (teste)</text><g class=\"layers\" style=\"opacity: 1;\"><g class=\"legendfill\"/><g class=\"legendlines\"><path class=\"js-line\" d=\"M5,0h30\" style=\"fill: none; stroke: rgb(0, 204, 150); stroke-opacity: 1; stroke-width: 2px;\"/></g><g class=\"legendsymbols\"><g class=\"legendpoints\"/></g></g><rect class=\"legendtoggle\" x=\"0\" y=\"-9.5\" width=\"159.53125\" height=\"19\" style=\"fill: rgb(0, 0, 0); fill-opacity: 0;\"/></g><g class=\"traces\" transform=\"translate(0,71.5)\" style=\"opacity: 1;\"><text class=\"legendtext\" text-anchor=\"start\" x=\"40\" y=\"4.680000000000001\" style=\"font-family: 'Open Sans', verdana, arial, sans-serif; font-size: 12px; fill: rgb(42, 63, 95); fill-opacity: 1; white-space: pre;\">RBF aleatoria (treino)</text><g class=\"layers\" style=\"opacity: 1;\"><g class=\"legendfill\"/><g class=\"legendlines\"><path class=\"js-line\" d=\"M5,0h30\" style=\"fill: none; stroke: rgb(171, 99, 250); stroke-opacity: 1; stroke-width: 2px;\"/></g><g class=\"legendsymbols\"><g class=\"legendpoints\"/></g></g><rect class=\"legendtoggle\" x=\"0\" y=\"-9.5\" width=\"159.53125\" height=\"19\" style=\"fill: rgb(0, 0, 0); fill-opacity: 0;\"/></g></g></g><rect class=\"scrollbar\" rx=\"20\" ry=\"3\" width=\"0\" height=\"0\" x=\"0\" y=\"0\" style=\"fill: rgb(128, 139, 164); fill-opacity: 1;\"/></g><g class=\"g-gtitle\"><text class=\"gtitle\" x=\"40\" y=\"50\" text-anchor=\"start\" dy=\"0em\" style=\"font-family: 'Open Sans', verdana, arial, sans-serif; font-size: 15px; fill: rgb(42, 63, 95); opacity: 1; font-weight: normal; white-space: pre;\">Acurácia média e desvios padrão, em 50 iterações, para as RBF com k-médias e aleatória (Breast Cancer)</text></g><g class=\"g-xtitle\"><text class=\"xtitle\" x=\"346\" y=\"461.8\" text-anchor=\"middle\" style=\"font-family: 'Open Sans', verdana, arial, sans-serif; font-size: 14px; fill: rgb(42, 63, 95); opacity: 1; font-weight: normal; white-space: pre;\">Número de neurônios</text></g><g class=\"g-ytitle\"><text class=\"ytitle\" transform=\"rotate(-90,30.418750000000003,260)\" x=\"30.418750000000003\" y=\"260\" text-anchor=\"middle\" style=\"font-family: 'Open Sans', verdana, arial, sans-serif; font-size: 14px; fill: rgb(42, 63, 95); opacity: 1; font-weight: normal; white-space: pre;\">Acurácia</text></g></g></svg>"
     },
     "metadata": {}
    }
   ],
   "source": [
    "rbf_test = list(zip(*acc_rnd_list_test))\n",
    "rbf_train = list(zip(*acc_list_test))\n",
    "rbf_rnd_test = list(zip(*acc_rnd_list_train))\n",
    "rbf_rnd_train = list(zip(*acc_list_train))\n",
    "\n",
    "fig = go.Figure(go.Scatter(x = np.arange(1,30), y=rbf_test[0], error_y=dict(type='data', array=rbf_test[1],visible=True, thickness=0.7), name = 'RBF k-médias (teste)'))\n",
    "fig.add_trace(go.Scatter(x = np.arange(1,30), y=rbf_train[0], error_y=dict(type='data', array=rbf_train[1],visible=True, thickness=0.7), name = 'RBF k-médias (treino)'))\n",
    "fig.add_trace(go.Scatter(x = np.arange(1,30), y=rbf_rnd_test[0], error_y=dict(type='data', array=rbf_rnd_test[1],visible=True, thickness=0.7), name = 'RBF aleatoria (teste)'))\n",
    "fig.add_trace(go.Scatter(x = np.arange(1,30), y=rbf_rnd_train[0], error_y=dict(type='data', array=rbf_rnd_train[1],visible=True, thickness=0.7), name = 'RBF aleatoria (treino)'))\n",
    "fig.update_xaxes(range = [0,30], dtick=1, title= 'Número de neurônios')\n",
    "fig.update_yaxes(range = [0.6, 0.8], title= 'Acurácia')\n",
    "fig.update_layout(title = {'text':'Acurácia média e desvios padrão, em 50 iterações, para as RBF com k-médias e aleatória (Breast Cancer)', 'font_size':15}, width=800, height=500)\n",
    "fig.show(renderer = 'svg', width =800, height = 500)"
   ]
  },
  {
   "source": [
    "\n",
    "Nota-se que a RBF com k-médias convergiu para uma acurácia de 75%, tanto em treinamento quanto em teste, o que é inesperado e indica um erro de implementação, este infelizmente não foi encontrado, mas com certeza ocorre no treinamento dessa RBF. De toda forma, é notável que o comportamento da RBF aleatória é longe do ideal, convergindo lentamente para melhores acurácias, tanto para treinamento quanto para teste.\n",
    "\n",
    "Iterou-se novamente as redes, dessa vez somente 3 iterações, devido ao custo computacional, para os números de neurônios 50, 100 e 300, valores esses que foram usados para avaliação das ELMs."
   ],
   "cell_type": "markdown",
   "metadata": {}
  },
  {
   "cell_type": "code",
   "execution_count": null,
   "metadata": {},
   "outputs": [],
   "source": [
    "acc_list_test, acc_rnd_list_test, acc_list_train, acc_rnd_list_train = [], [], [], []\n",
    "hyper_params = [50, 100, 300]\n",
    "for p in hyper_params:\n",
    "    acc_train, acc_test, acc_rnd_train, acc_rnd_test = [], [], [], []\n",
    "    \n",
    "    for _ in range(3):\n",
    "        rbf = train_RBF(x_train, y_train, p)\n",
    "        y_hat_train = np.sign(eval_RBF(x_train, rbf))\n",
    "        y_hat_test = np.sign(eval_RBF(x_test, rbf))\n",
    "        acc_train.append(eval_accuracy(y_hat_train, y_train, 1))\n",
    "        acc_test.append(eval_accuracy(y_hat_test, y_test, 1))\n",
    "\n",
    "        rand_rbf = train_randRBF(x_train, y_train, p)\n",
    "        y_hat_rnd_train = np.sign(eval_RBF(x_train, rand_rbf))\n",
    "        y_hat_rnd_test = np.sign(eval_RBF(x_test, rand_rbf))\n",
    "        acc_rnd_train.append(eval_accuracy(y_hat_rnd_train, y_train, 1)) \n",
    "        acc_rnd_test.append(eval_accuracy(y_hat_rnd_test, y_test, 1))\n",
    "\n",
    "    acc_list_test.append((np.mean(acc_test), np.std(acc_test)))\n",
    "    acc_rnd_list_test.append((np.mean(y_hat_rnd_test), np.std(y_hat_rnd_test)))\n",
    "    acc_list_train.append((np.mean(acc_train), np.std(acc_train)))\n",
    "    acc_rnd_list_train.append((np.mean(y_hat_rnd_train), np.std(y_hat_rnd_train)))"
   ]
  },
  {
   "cell_type": "code",
   "execution_count": 107,
   "metadata": {},
   "outputs": [
    {
     "output_type": "stream",
     "name": "stdout",
     "text": [
      "\t\t RBF k-médias\n____________________________________________________________\nhiperparametro: \t\ttraining accuracy:\n\t 50 \t 0.9430485762144053 ± 0.0065946464606463934\n\t 100 \t 0.9639865996649917 ± 0.0023688669386484106\n\t 300 \t 0.990787269681742 ± 0.0023688669386484106\n\nhiperparametro: \t\ttest accuracy:\n\t 50 \t 0.5165692007797271 ± 0.0841148109566917\n\t 100 \t 0.543859649122807 ± 0.11578356651007796\n\t 300 \t 0.5419103313840156 ± 0.11854031809365126\n\n\n\t\t RBF aleatória\n____________________________________________________________\nhiperparametro: \t\ttraining accuracy:\n\t 50 \t 0.7989949748743719 ± 0.6013377005689082\n\t 100 \t 0.8090452261306532 ± 0.5877463926517967\n\t 300 \t 0.8341708542713567 ± 0.551506106842159\n\nhiperparametro: \t\ttest accuracy:\n\t 50 \t 0.8830409356725146 ± 0.4692959683681609\n\t 100 \t 0.8713450292397661 ± 0.49067080616147435\n\t 300 \t 0.9064327485380117 ± 0.4223501774331646\n"
     ]
    }
   ],
   "source": [
    "print('\\t\\t RBF k-médias')\n",
    "print('_'*60)\n",
    "print('hiperparametro: \\t\\ttraining accuracy:')\n",
    "for i,j in zip(hyper_params, acc_list_train):\n",
    "    print('\\t',i,'\\t',j[0],'±',j[1])\n",
    "print('\\nhiperparametro: \\t\\ttest accuracy:')\n",
    "for i,j in zip(hyper_params, acc_list_test):\n",
    "    print('\\t',i,'\\t',j[0],'±',j[1])\n",
    "print('\\n\\n\\t\\t RBF aleatória')\n",
    "print('_'*60)\n",
    "print('hiperparametro: \\t\\ttraining accuracy:')\n",
    "for i,j in zip(hyper_params, acc_rnd_list_train):\n",
    "    print('\\t',i,'\\t',j[0],'±',j[1])\n",
    "print('\\nhiperparametro: \\t\\ttest accuracy:')\n",
    "for i,j in zip(hyper_params, acc_rnd_list_test):\n",
    "    print('\\t',i,'\\t',j[0],'±',j[1])\n",
    "\n"
   ]
  },
  {
   "source": [
    "\n",
    "Nota-se que a acurácia da RBF com k-médias piorou muito, apesar de ter obtido uma acurácia de treino maior. A rede aleatória, apesar de ser considerado poucas iterações, se mostrou boa para 300 neurônios. Assim, assume-se, uma vez que foram feitas poucas iterações, que para número de neurônios entre 50 e 100 para a rede aleatória tem comportamento tão bom quanto a rede com k-médias utilizando 19 neurônios. Supondo-se que a rede RBF com k-médias esteja implementada corretamente, pode-se afirmar que o resultado das ELMs foi superior, uma vez que essa obteve acurácia de 88% para apenas 5 neurônios."
   ],
   "cell_type": "markdown",
   "metadata": {}
  },
  {
   "source": [
    "## Statlog (Heart)\n",
    "\n",
    "A base de dados seguinte foi a Statlog (Heart). Os dados foram normalizados, assim como os dados de índice 4 e 5 foram removidos."
   ],
   "cell_type": "markdown",
   "metadata": {}
  },
  {
   "cell_type": "code",
   "execution_count": 12,
   "metadata": {},
   "outputs": [],
   "source": [
    "import numpy as np\n",
    "import plotly.graph_objects as go\n",
    "from sklearn.datasets import load_breast_cancer\n",
    "from sklearn.cluster import KMeans\n",
    "\n",
    "data = np.loadtxt( 'heart.dat' )\n",
    "X_samples = np.copy(data[:, 0:-1])\n",
    "y_sample = np.reshape(np.copy(data[:, -1]), (-1,1))\n",
    "ignored_idx = [4,5]\n",
    "\n",
    "X = delete_features(X_samples, ignored_idx)\n",
    "X_mean = np.mean(X, axis = 0)\n",
    "X_std = np.std(X, axis = 0)\n",
    "X = normalize_features(X, X_mean, X_std)"
   ]
  },
  {
   "source": [
    "\n",
    "Da mesma forma, alterou-se os valores de saída iguais a $2$ para valores $-1$ e separou-se o conjunto de treinamento e teste da mesma forma."
   ],
   "cell_type": "markdown",
   "metadata": {}
  },
  {
   "cell_type": "code",
   "execution_count": 13,
   "metadata": {},
   "outputs": [],
   "source": [
    "y_sample[y_sample==2] = -1\n",
    "N = X.shape[0]\n",
    "\n",
    "# Get indexes corresponding to each class\n",
    "idx1 = [idx for idx, val in enumerate(y_sample.flatten()) if val==1]\n",
    "idx0 = sorted(list(set(range(0,N)) - set(idx1)))\n",
    "N0,N1 = len(idx0), len(idx1)\n",
    "N_train0, N_train1 = round(0.7*N0), round(0.7*N1)\n",
    "# Randomize indexes\n",
    "np.random.default_rng().shuffle(idx0)\n",
    "np.random.default_rng().shuffle(idx1)\n",
    "\n",
    "# Select samples for training and testing\n",
    "x_train = X[np.append(idx0[0:N_train0], idx1[0:N_train1]),:]\n",
    "x_test = X[np.append(idx0[N_train0::], idx1[N_train1::]),:]\n",
    "y_train = y_sample[np.append(idx0[0:N_train0], idx1[0:N_train1]),:]\n",
    "y_test = y_sample[np.append(idx0[N_train0::], idx1[N_train1::]),:]"
   ]
  },
  {
   "source": [
    "\n",
    "Treinou-se ambas as redes para os mesmos números de neurônios entre $[1,30)$, também com $50$ iterações, armazenando-se as acurácias médias e desvio padrão de ambas as redes sobre os conjuntos de treinamento e teste."
   ],
   "cell_type": "markdown",
   "metadata": {}
  },
  {
   "cell_type": "code",
   "execution_count": 14,
   "metadata": {},
   "outputs": [],
   "source": [
    "acc_list_test, acc_rnd_list_test, acc_list_train, acc_rnd_list_train = [], [], [], []\n",
    "for p in range(1, 30):\n",
    "    #print(p)\n",
    "    acc_train, acc_test, acc_rnd_train, acc_rnd_test = [], [], [], []\n",
    "    for _ in range(50):\n",
    "        rbf = train_RBF(x_train, y_train, p)\n",
    "        y_hat_train = np.sign(eval_RBF(x_train, rbf))\n",
    "        y_hat_test = np.sign(eval_RBF(x_test, rbf))\n",
    "        acc_train.append(eval_accuracy(y_hat_train, y_train, 1))\n",
    "        acc_test.append(eval_accuracy(y_hat_test, y_test, 1))\n",
    "\n",
    "        rand_rbf = train_randRBF(x_train, y_train, p)\n",
    "        y_hat_rnd_train = np.sign(eval_RBF(x_train, rand_rbf))\n",
    "        y_hat_rnd_test = np.sign(eval_RBF(x_test, rand_rbf))\n",
    "        acc_rnd_train.append(eval_accuracy(y_hat_rnd_train, y_train, 1)) \n",
    "        acc_rnd_test.append(eval_accuracy(y_hat_rnd_test, y_test, 1))\n",
    "\n",
    "    acc_list_test.append((np.mean(acc_test), np.std(acc_test)))\n",
    "    acc_rnd_list_test.append((np.mean(acc_rnd_test), np.std(acc_rnd_test)))\n",
    "    acc_list_train.append((np.mean(acc_train), np.std(acc_train)))\n",
    "    acc_rnd_list_train.append((np.mean(acc_rnd_train), np.std(acc_rnd_train)))"
   ]
  },
  {
   "source": [
    "\n",
    "Com os valores obtidos, plotou-se o seguinte gráfico:"
   ],
   "cell_type": "markdown",
   "metadata": {}
  },
  {
   "cell_type": "code",
   "execution_count": 19,
   "metadata": {},
   "outputs": [
    {
     "output_type": "display_data",
     "data": {
      "image/svg+xml": "<svg class=\"main-svg\" xmlns=\"http://www.w3.org/2000/svg\" xmlns:xlink=\"http://www.w3.org/1999/xlink\" width=\"800\" height=\"500\" style=\"\" viewBox=\"0 0 800 500\"><rect x=\"0\" y=\"0\" width=\"800\" height=\"500\" style=\"fill: rgb(255, 255, 255); fill-opacity: 1;\"/><defs id=\"defs-0613ab\"><g class=\"clips\"><clipPath id=\"clip0613abxyplot\" class=\"plotclip\"><rect width=\"532\" height=\"320\"/></clipPath><clipPath class=\"axesclip\" id=\"clip0613abx\"><rect x=\"80\" y=\"0\" width=\"532\" height=\"500\"/></clipPath><clipPath class=\"axesclip\" id=\"clip0613aby\"><rect x=\"0\" y=\"100\" width=\"800\" height=\"320\"/></clipPath><clipPath class=\"axesclip\" id=\"clip0613abxy\"><rect x=\"80\" y=\"100\" width=\"532\" height=\"320\"/></clipPath></g><g class=\"gradients\"/><g class=\"patterns\"/></defs><g class=\"bglayer\"><rect class=\"bg\" x=\"80\" y=\"100\" width=\"532\" height=\"320\" style=\"fill: rgb(229, 236, 246); fill-opacity: 1; stroke-width: 0;\"/></g><g class=\"layer-below\"><g class=\"imagelayer\"/><g class=\"shapelayer\"/></g><g class=\"cartesianlayer\"><g class=\"subplot xy\"><g class=\"layer-subplot\"><g class=\"shapelayer\"/><g class=\"imagelayer\"/></g><g class=\"gridlayer\"><g class=\"x\"><path class=\"xgrid crisp\" transform=\"translate(97.73,0)\" d=\"M0,100v320\" style=\"stroke: rgb(255, 255, 255); stroke-opacity: 1; stroke-width: 1px;\"/><path class=\"xgrid crisp\" transform=\"translate(115.47,0)\" d=\"M0,100v320\" style=\"stroke: rgb(255, 255, 255); stroke-opacity: 1; stroke-width: 1px;\"/><path class=\"xgrid crisp\" transform=\"translate(133.2,0)\" d=\"M0,100v320\" style=\"stroke: rgb(255, 255, 255); stroke-opacity: 1; stroke-width: 1px;\"/><path class=\"xgrid crisp\" transform=\"translate(150.93,0)\" d=\"M0,100v320\" style=\"stroke: rgb(255, 255, 255); stroke-opacity: 1; stroke-width: 1px;\"/><path class=\"xgrid crisp\" transform=\"translate(168.67000000000002,0)\" d=\"M0,100v320\" style=\"stroke: rgb(255, 255, 255); stroke-opacity: 1; stroke-width: 1px;\"/><path class=\"xgrid crisp\" transform=\"translate(186.4,0)\" d=\"M0,100v320\" style=\"stroke: rgb(255, 255, 255); stroke-opacity: 1; stroke-width: 1px;\"/><path class=\"xgrid crisp\" transform=\"translate(204.13,0)\" d=\"M0,100v320\" style=\"stroke: rgb(255, 255, 255); stroke-opacity: 1; stroke-width: 1px;\"/><path class=\"xgrid crisp\" transform=\"translate(221.87,0)\" d=\"M0,100v320\" style=\"stroke: rgb(255, 255, 255); stroke-opacity: 1; stroke-width: 1px;\"/><path class=\"xgrid crisp\" transform=\"translate(239.6,0)\" d=\"M0,100v320\" style=\"stroke: rgb(255, 255, 255); stroke-opacity: 1; stroke-width: 1px;\"/><path class=\"xgrid crisp\" transform=\"translate(257.33000000000004,0)\" d=\"M0,100v320\" style=\"stroke: rgb(255, 255, 255); stroke-opacity: 1; stroke-width: 1px;\"/><path class=\"xgrid crisp\" transform=\"translate(275.07,0)\" d=\"M0,100v320\" style=\"stroke: rgb(255, 255, 255); stroke-opacity: 1; stroke-width: 1px;\"/><path class=\"xgrid crisp\" transform=\"translate(292.8,0)\" d=\"M0,100v320\" style=\"stroke: rgb(255, 255, 255); stroke-opacity: 1; stroke-width: 1px;\"/><path class=\"xgrid crisp\" transform=\"translate(310.53,0)\" d=\"M0,100v320\" style=\"stroke: rgb(255, 255, 255); stroke-opacity: 1; stroke-width: 1px;\"/><path class=\"xgrid crisp\" transform=\"translate(328.27,0)\" d=\"M0,100v320\" style=\"stroke: rgb(255, 255, 255); stroke-opacity: 1; stroke-width: 1px;\"/><path class=\"xgrid crisp\" transform=\"translate(346,0)\" d=\"M0,100v320\" style=\"stroke: rgb(255, 255, 255); stroke-opacity: 1; stroke-width: 1px;\"/><path class=\"xgrid crisp\" transform=\"translate(363.73,0)\" d=\"M0,100v320\" style=\"stroke: rgb(255, 255, 255); stroke-opacity: 1; stroke-width: 1px;\"/><path class=\"xgrid crisp\" transform=\"translate(381.47,0)\" d=\"M0,100v320\" style=\"stroke: rgb(255, 255, 255); stroke-opacity: 1; stroke-width: 1px;\"/><path class=\"xgrid crisp\" transform=\"translate(399.2,0)\" d=\"M0,100v320\" style=\"stroke: rgb(255, 255, 255); stroke-opacity: 1; stroke-width: 1px;\"/><path class=\"xgrid crisp\" transform=\"translate(416.93,0)\" d=\"M0,100v320\" style=\"stroke: rgb(255, 255, 255); stroke-opacity: 1; stroke-width: 1px;\"/><path class=\"xgrid crisp\" transform=\"translate(434.67,0)\" d=\"M0,100v320\" style=\"stroke: rgb(255, 255, 255); stroke-opacity: 1; stroke-width: 1px;\"/><path class=\"xgrid crisp\" transform=\"translate(452.4,0)\" d=\"M0,100v320\" style=\"stroke: rgb(255, 255, 255); stroke-opacity: 1; stroke-width: 1px;\"/><path class=\"xgrid crisp\" transform=\"translate(470.13,0)\" d=\"M0,100v320\" style=\"stroke: rgb(255, 255, 255); stroke-opacity: 1; stroke-width: 1px;\"/><path class=\"xgrid crisp\" transform=\"translate(487.87,0)\" d=\"M0,100v320\" style=\"stroke: rgb(255, 255, 255); stroke-opacity: 1; stroke-width: 1px;\"/><path class=\"xgrid crisp\" transform=\"translate(505.6,0)\" d=\"M0,100v320\" style=\"stroke: rgb(255, 255, 255); stroke-opacity: 1; stroke-width: 1px;\"/><path class=\"xgrid crisp\" transform=\"translate(523.3299999999999,0)\" d=\"M0,100v320\" style=\"stroke: rgb(255, 255, 255); stroke-opacity: 1; stroke-width: 1px;\"/><path class=\"xgrid crisp\" transform=\"translate(541.0699999999999,0)\" d=\"M0,100v320\" style=\"stroke: rgb(255, 255, 255); stroke-opacity: 1; stroke-width: 1px;\"/><path class=\"xgrid crisp\" transform=\"translate(558.8,0)\" d=\"M0,100v320\" style=\"stroke: rgb(255, 255, 255); stroke-opacity: 1; stroke-width: 1px;\"/><path class=\"xgrid crisp\" transform=\"translate(576.53,0)\" d=\"M0,100v320\" style=\"stroke: rgb(255, 255, 255); stroke-opacity: 1; stroke-width: 1px;\"/><path class=\"xgrid crisp\" transform=\"translate(594.27,0)\" d=\"M0,100v320\" style=\"stroke: rgb(255, 255, 255); stroke-opacity: 1; stroke-width: 1px;\"/></g><g class=\"y\"><path class=\"ygrid crisp\" transform=\"translate(0,392.42)\" d=\"M80,0h532\" style=\"stroke: rgb(255, 255, 255); stroke-opacity: 1; stroke-width: 1px;\"/><path class=\"ygrid crisp\" transform=\"translate(0,341.36)\" d=\"M80,0h532\" style=\"stroke: rgb(255, 255, 255); stroke-opacity: 1; stroke-width: 1px;\"/><path class=\"ygrid crisp\" transform=\"translate(0,290.31)\" d=\"M80,0h532\" style=\"stroke: rgb(255, 255, 255); stroke-opacity: 1; stroke-width: 1px;\"/><path class=\"ygrid crisp\" transform=\"translate(0,239.25)\" d=\"M80,0h532\" style=\"stroke: rgb(255, 255, 255); stroke-opacity: 1; stroke-width: 1px;\"/><path class=\"ygrid crisp\" transform=\"translate(0,188.2)\" d=\"M80,0h532\" style=\"stroke: rgb(255, 255, 255); stroke-opacity: 1; stroke-width: 1px;\"/><path class=\"ygrid crisp\" transform=\"translate(0,137.15)\" d=\"M80,0h532\" style=\"stroke: rgb(255, 255, 255); stroke-opacity: 1; stroke-width: 1px;\"/></g></g><g class=\"zerolinelayer\"><path class=\"xzl zl crisp\" transform=\"translate(80,0)\" d=\"M0,100v320\" style=\"stroke: rgb(255, 255, 255); stroke-opacity: 1; stroke-width: 2px;\"/></g><path class=\"xlines-below\"/><path class=\"ylines-below\"/><g class=\"overlines-below\"/><g class=\"xaxislayer-below\"/><g class=\"yaxislayer-below\"/><g class=\"overaxes-below\"/><g class=\"plot\" transform=\"translate(80,100)\" clip-path=\"url(#clip0613abxyplot)\"><g class=\"scatterlayer mlayer\"><g class=\"trace scatter trace600a2b\" style=\"stroke-miterlimit: 2; opacity: 1;\"><g class=\"fills\"/><g class=\"errorbars\"><g class=\"errorbar\"><path class=\"yerror\" d=\"M13.73,286.74h8m-4,0V286.74m-4,0h8\" style=\"vector-effect: non-scaling-stroke; stroke-width: 0.7px; stroke: rgb(99, 110, 250); stroke-opacity: 1;\"/></g><g class=\"errorbar\"><path class=\"yerror\" d=\"M31.47,70.1h8m-4,0V103.02m-4,0h8\" style=\"vector-effect: non-scaling-stroke; stroke-width: 0.7px; stroke: rgb(99, 110, 250); stroke-opacity: 1;\"/></g><g class=\"errorbar\"><path class=\"yerror\" d=\"M49.2,159h8m-4,0V170.94m-4,0h8\" style=\"vector-effect: non-scaling-stroke; stroke-width: 0.7px; stroke: rgb(99, 110, 250); stroke-opacity: 1;\"/></g><g class=\"errorbar\"><path class=\"yerror\" d=\"M66.93,126.21h8m-4,0V174.49m-4,0h8\" style=\"vector-effect: non-scaling-stroke; stroke-width: 0.7px; stroke: rgb(99, 110, 250); stroke-opacity: 1;\"/></g><g class=\"errorbar\"><path class=\"yerror\" d=\"M84.67,179.78h8m-4,0V222.27m-4,0h8\" style=\"vector-effect: non-scaling-stroke; stroke-width: 0.7px; stroke: rgb(99, 110, 250); stroke-opacity: 1;\"/></g><g class=\"errorbar\"><path class=\"yerror\" d=\"M102.4,202.97h8m-4,0V239.92m-4,0h8\" style=\"vector-effect: non-scaling-stroke; stroke-width: 0.7px; stroke: rgb(99, 110, 250); stroke-opacity: 1;\"/></g><g class=\"errorbar\"><path class=\"yerror\" d=\"M120.13,195.16h8m-4,0V247.73m-4,0h8\" style=\"vector-effect: non-scaling-stroke; stroke-width: 0.7px; stroke: rgb(99, 110, 250); stroke-opacity: 1;\"/></g><g class=\"errorbar\"><path class=\"yerror\" d=\"M137.87,210.11h8m-4,0V248.91m-4,0h8\" style=\"vector-effect: non-scaling-stroke; stroke-width: 0.7px; stroke: rgb(99, 110, 250); stroke-opacity: 1;\"/></g><g class=\"errorbar\"><path class=\"yerror\" d=\"M155.6,198.05h8m-4,0V258.96m-4,0h8\" style=\"vector-effect: non-scaling-stroke; stroke-width: 0.7px; stroke: rgb(99, 110, 250); stroke-opacity: 1;\"/></g><g class=\"errorbar\"><path class=\"yerror\" d=\"M173.33,226.11h8m-4,0V269.73m-4,0h8\" style=\"vector-effect: non-scaling-stroke; stroke-width: 0.7px; stroke: rgb(99, 110, 250); stroke-opacity: 1;\"/></g><g class=\"errorbar\"><path class=\"yerror\" d=\"M191.07,225.97h8m-4,0V274.4m-4,0h8\" style=\"vector-effect: non-scaling-stroke; stroke-width: 0.7px; stroke: rgb(99, 110, 250); stroke-opacity: 1;\"/></g><g class=\"errorbar\"><path class=\"yerror\" d=\"M208.8,228.08h8m-4,0V271.28m-4,0h8\" style=\"vector-effect: non-scaling-stroke; stroke-width: 0.7px; stroke: rgb(99, 110, 250); stroke-opacity: 1;\"/></g><g class=\"errorbar\"><path class=\"yerror\" d=\"M226.53,240.24h8m-4,0V279.3m-4,0h8\" style=\"vector-effect: non-scaling-stroke; stroke-width: 0.7px; stroke: rgb(99, 110, 250); stroke-opacity: 1;\"/></g><g class=\"errorbar\"><path class=\"yerror\" d=\"M244.27,247.52h8m-4,0V280.08m-4,0h8\" style=\"vector-effect: non-scaling-stroke; stroke-width: 0.7px; stroke: rgb(99, 110, 250); stroke-opacity: 1;\"/></g><g class=\"errorbar\"><path class=\"yerror\" d=\"M262,250.65h8m-4,0V287.04m-4,0h8\" style=\"vector-effect: non-scaling-stroke; stroke-width: 0.7px; stroke: rgb(99, 110, 250); stroke-opacity: 1;\"/></g><g class=\"errorbar\"><path class=\"yerror\" d=\"M279.73,254.07h8m-4,0V283.11m-4,0h8\" style=\"vector-effect: non-scaling-stroke; stroke-width: 0.7px; stroke: rgb(99, 110, 250); stroke-opacity: 1;\"/></g><g class=\"errorbar\"><path class=\"yerror\" d=\"M297.47,250.18h8m-4,0V290.03m-4,0h8\" style=\"vector-effect: non-scaling-stroke; stroke-width: 0.7px; stroke: rgb(99, 110, 250); stroke-opacity: 1;\"/></g><g class=\"errorbar\"><path class=\"yerror\" d=\"M315.2,261.59h8m-4,0V290.72m-4,0h8\" style=\"vector-effect: non-scaling-stroke; stroke-width: 0.7px; stroke: rgb(99, 110, 250); stroke-opacity: 1;\"/></g><g class=\"errorbar\"><path class=\"yerror\" d=\"M332.93,264.83h8m-4,0V288.48m-4,0h8\" style=\"vector-effect: non-scaling-stroke; stroke-width: 0.7px; stroke: rgb(99, 110, 250); stroke-opacity: 1;\"/></g><g class=\"errorbar\"><path class=\"yerror\" d=\"M350.67,257h8m-4,0V292.28m-4,0h8\" style=\"vector-effect: non-scaling-stroke; stroke-width: 0.7px; stroke: rgb(99, 110, 250); stroke-opacity: 1;\"/></g><g class=\"errorbar\"><path class=\"yerror\" d=\"M368.4,271.18h8m-4,0V290.21m-4,0h8\" style=\"vector-effect: non-scaling-stroke; stroke-width: 0.7px; stroke: rgb(99, 110, 250); stroke-opacity: 1;\"/></g><g class=\"errorbar\"><path class=\"yerror\" d=\"M386.13,269.99h8m-4,0V304m-4,0h8\" style=\"vector-effect: non-scaling-stroke; stroke-width: 0.7px; stroke: rgb(99, 110, 250); stroke-opacity: 1;\"/></g><g class=\"errorbar\"><path class=\"yerror\" d=\"M403.87,276.42h8m-4,0V295.56m-4,0h8\" style=\"vector-effect: non-scaling-stroke; stroke-width: 0.7px; stroke: rgb(99, 110, 250); stroke-opacity: 1;\"/></g><g class=\"errorbar\"><path class=\"yerror\" d=\"M421.6,277.09h8m-4,0V291.35m-4,0h8\" style=\"vector-effect: non-scaling-stroke; stroke-width: 0.7px; stroke: rgb(99, 110, 250); stroke-opacity: 1;\"/></g><g class=\"errorbar\"><path class=\"yerror\" d=\"M439.33,275.47h8m-4,0V296.51m-4,0h8\" style=\"vector-effect: non-scaling-stroke; stroke-width: 0.7px; stroke: rgb(99, 110, 250); stroke-opacity: 1;\"/></g><g class=\"errorbar\"><path class=\"yerror\" d=\"M457.07,274.6h8m-4,0V297.38m-4,0h8\" style=\"vector-effect: non-scaling-stroke; stroke-width: 0.7px; stroke: rgb(99, 110, 250); stroke-opacity: 1;\"/></g><g class=\"errorbar\"><path class=\"yerror\" d=\"M474.8,274.56h8m-4,0V303.97m-4,0h8\" style=\"vector-effect: non-scaling-stroke; stroke-width: 0.7px; stroke: rgb(99, 110, 250); stroke-opacity: 1;\"/></g><g class=\"errorbar\"><path class=\"yerror\" d=\"M492.53,277.38h8m-4,0V300.14m-4,0h8\" style=\"vector-effect: non-scaling-stroke; stroke-width: 0.7px; stroke: rgb(99, 110, 250); stroke-opacity: 1;\"/></g><g class=\"errorbar\"><path class=\"yerror\" d=\"M510.27,279.46h8m-4,0V289.99m-4,0h8\" style=\"vector-effect: non-scaling-stroke; stroke-width: 0.7px; stroke: rgb(99, 110, 250); stroke-opacity: 1;\"/></g></g><g class=\"lines\"><path class=\"js-line\" d=\"M17.73,286.74L35.47,86.56L53.2,164.97L70.93,150.35L88.67,201.02L106.4,221.44L124.13,221.44L141.87,229.51L159.6,228.5L177.33,247.92L195.07,250.19L212.8,249.68L230.53,259.77L248.27,263.8L266,268.84L283.73,268.59L301.47,270.1L319.2,276.15L336.93,276.66L354.67,274.64L372.4,280.69L390.13,287L407.87,285.99L425.6,284.22L443.33,285.99L461.07,285.99L478.8,289.26L496.53,288.76L514.27,284.73\" style=\"vector-effect: non-scaling-stroke; fill: none; stroke: rgb(99, 110, 250); stroke-opacity: 1; stroke-width: 2px; opacity: 1;\"/></g><g class=\"points\"/><g class=\"text\"/></g><g class=\"trace scatter trace5b8e9c\" style=\"stroke-miterlimit: 2; opacity: 1;\"><g class=\"fills\"/><g class=\"errorbars\"><g class=\"errorbar\"><path class=\"yerror\" d=\"M13.73,286.74h8m-4,0V286.74m-4,0h8\" style=\"vector-effect: non-scaling-stroke; stroke-width: 0.7px; stroke: rgb(239, 85, 59); stroke-opacity: 1;\"/></g><g class=\"errorbar\"><path class=\"yerror\" d=\"M31.47,78.35h8m-4,0V102.92m-4,0h8\" style=\"vector-effect: non-scaling-stroke; stroke-width: 0.7px; stroke: rgb(239, 85, 59); stroke-opacity: 1;\"/></g><g class=\"errorbar\"><path class=\"yerror\" d=\"M49.2,74.37h8m-4,0V83.34m-4,0h8\" style=\"vector-effect: non-scaling-stroke; stroke-width: 0.7px; stroke: rgb(239, 85, 59); stroke-opacity: 1;\"/></g><g class=\"errorbar\"><path class=\"yerror\" d=\"M66.93,51.05h8m-4,0V115.09m-4,0h8\" style=\"vector-effect: non-scaling-stroke; stroke-width: 0.7px; stroke: rgb(239, 85, 59); stroke-opacity: 1;\"/></g><g class=\"errorbar\"><path class=\"yerror\" d=\"M84.67,103.97h8m-4,0V142.56m-4,0h8\" style=\"vector-effect: non-scaling-stroke; stroke-width: 0.7px; stroke: rgb(239, 85, 59); stroke-opacity: 1;\"/></g><g class=\"errorbar\"><path class=\"yerror\" d=\"M102.4,111.43h8m-4,0V153.9m-4,0h8\" style=\"vector-effect: non-scaling-stroke; stroke-width: 0.7px; stroke: rgb(239, 85, 59); stroke-opacity: 1;\"/></g><g class=\"errorbar\"><path class=\"yerror\" d=\"M120.13,103.91h8m-4,0V160.12m-4,0h8\" style=\"vector-effect: non-scaling-stroke; stroke-width: 0.7px; stroke: rgb(239, 85, 59); stroke-opacity: 1;\"/></g><g class=\"errorbar\"><path class=\"yerror\" d=\"M137.87,116.84h8m-4,0V151.08m-4,0h8\" style=\"vector-effect: non-scaling-stroke; stroke-width: 0.7px; stroke: rgb(239, 85, 59); stroke-opacity: 1;\"/></g><g class=\"errorbar\"><path class=\"yerror\" d=\"M155.6,98.43h8m-4,0V156.74m-4,0h8\" style=\"vector-effect: non-scaling-stroke; stroke-width: 0.7px; stroke: rgb(239, 85, 59); stroke-opacity: 1;\"/></g><g class=\"errorbar\"><path class=\"yerror\" d=\"M173.33,102.72h8m-4,0V152.67m-4,0h8\" style=\"vector-effect: non-scaling-stroke; stroke-width: 0.7px; stroke: rgb(239, 85, 59); stroke-opacity: 1;\"/></g><g class=\"errorbar\"><path class=\"yerror\" d=\"M191.07,85.66h8m-4,0V140.98m-4,0h8\" style=\"vector-effect: non-scaling-stroke; stroke-width: 0.7px; stroke: rgb(239, 85, 59); stroke-opacity: 1;\"/></g><g class=\"errorbar\"><path class=\"yerror\" d=\"M208.8,89.81h8m-4,0V143.1m-4,0h8\" style=\"vector-effect: non-scaling-stroke; stroke-width: 0.7px; stroke: rgb(239, 85, 59); stroke-opacity: 1;\"/></g><g class=\"errorbar\"><path class=\"yerror\" d=\"M226.53,86.6h8m-4,0V139.83m-4,0h8\" style=\"vector-effect: non-scaling-stroke; stroke-width: 0.7px; stroke: rgb(239, 85, 59); stroke-opacity: 1;\"/></g><g class=\"errorbar\"><path class=\"yerror\" d=\"M244.27,89.12h8m-4,0V133.42m-4,0h8\" style=\"vector-effect: non-scaling-stroke; stroke-width: 0.7px; stroke: rgb(239, 85, 59); stroke-opacity: 1;\"/></g><g class=\"errorbar\"><path class=\"yerror\" d=\"M262,82.92h8m-4,0V127.52m-4,0h8\" style=\"vector-effect: non-scaling-stroke; stroke-width: 0.7px; stroke: rgb(239, 85, 59); stroke-opacity: 1;\"/></g><g class=\"errorbar\"><path class=\"yerror\" d=\"M279.73,74.52h8m-4,0V126.84m-4,0h8\" style=\"vector-effect: non-scaling-stroke; stroke-width: 0.7px; stroke: rgb(239, 85, 59); stroke-opacity: 1;\"/></g><g class=\"errorbar\"><path class=\"yerror\" d=\"M297.47,74.21h8m-4,0V119.59m-4,0h8\" style=\"vector-effect: non-scaling-stroke; stroke-width: 0.7px; stroke: rgb(239, 85, 59); stroke-opacity: 1;\"/></g><g class=\"errorbar\"><path class=\"yerror\" d=\"M315.2,62.26h8m-4,0V111.87m-4,0h8\" style=\"vector-effect: non-scaling-stroke; stroke-width: 0.7px; stroke: rgb(239, 85, 59); stroke-opacity: 1;\"/></g><g class=\"errorbar\"><path class=\"yerror\" d=\"M332.93,61.08h8m-4,0V106.57m-4,0h8\" style=\"vector-effect: non-scaling-stroke; stroke-width: 0.7px; stroke: rgb(239, 85, 59); stroke-opacity: 1;\"/></g><g class=\"errorbar\"><path class=\"yerror\" d=\"M350.67,55.42h8m-4,0V96.45m-4,0h8\" style=\"vector-effect: non-scaling-stroke; stroke-width: 0.7px; stroke: rgb(239, 85, 59); stroke-opacity: 1;\"/></g><g class=\"errorbar\"><path class=\"yerror\" d=\"M368.4,44.11h8m-4,0V94.8m-4,0h8\" style=\"vector-effect: non-scaling-stroke; stroke-width: 0.7px; stroke: rgb(239, 85, 59); stroke-opacity: 1;\"/></g><g class=\"errorbar\"><path class=\"yerror\" d=\"M386.13,44.33h8m-4,0V87.23m-4,0h8\" style=\"vector-effect: non-scaling-stroke; stroke-width: 0.7px; stroke: rgb(239, 85, 59); stroke-opacity: 1;\"/></g><g class=\"errorbar\"><path class=\"yerror\" d=\"M403.87,36.9h8m-4,0V85.8m-4,0h8\" style=\"vector-effect: non-scaling-stroke; stroke-width: 0.7px; stroke: rgb(239, 85, 59); stroke-opacity: 1;\"/></g><g class=\"errorbar\"><path class=\"yerror\" d=\"M421.6,35.57h8m-4,0V78.91m-4,0h8\" style=\"vector-effect: non-scaling-stroke; stroke-width: 0.7px; stroke: rgb(239, 85, 59); stroke-opacity: 1;\"/></g><g class=\"errorbar\"><path class=\"yerror\" d=\"M439.33,28.31h8m-4,0V78.83m-4,0h8\" style=\"vector-effect: non-scaling-stroke; stroke-width: 0.7px; stroke: rgb(239, 85, 59); stroke-opacity: 1;\"/></g><g class=\"errorbar\"><path class=\"yerror\" d=\"M457.07,30.37h8m-4,0V75.69m-4,0h8\" style=\"vector-effect: non-scaling-stroke; stroke-width: 0.7px; stroke: rgb(239, 85, 59); stroke-opacity: 1;\"/></g><g class=\"errorbar\"><path class=\"yerror\" d=\"M474.8,27.56h8m-4,0V66.39m-4,0h8\" style=\"vector-effect: non-scaling-stroke; stroke-width: 0.7px; stroke: rgb(239, 85, 59); stroke-opacity: 1;\"/></g><g class=\"errorbar\"><path class=\"yerror\" d=\"M492.53,20.23h8m-4,0V70.27m-4,0h8\" style=\"vector-effect: non-scaling-stroke; stroke-width: 0.7px; stroke: rgb(239, 85, 59); stroke-opacity: 1;\"/></g><g class=\"errorbar\"><path class=\"yerror\" d=\"M510.27,23.95h8m-4,0V66.76m-4,0h8\" style=\"vector-effect: non-scaling-stroke; stroke-width: 0.7px; stroke: rgb(239, 85, 59); stroke-opacity: 1;\"/></g></g><g class=\"lines\"><path class=\"js-line\" d=\"M17.73,286.74L35.47,90.63L53.2,78.85L70.93,83.07L88.67,123.26L106.4,132.66L124.13,132.01L141.87,133.96L159.6,127.58L177.33,127.69L195.07,113.32L212.8,116.46L230.53,113.21L248.27,111.27L266,105.22L301.47,96.9L319.2,87.07L336.93,83.82L354.67,75.94L372.4,69.45L390.13,65.78L425.6,57.24L443.33,53.57L461.07,53.03L478.8,46.98L496.53,45.25L514.27,45.36\" style=\"vector-effect: non-scaling-stroke; fill: none; stroke: rgb(239, 85, 59); stroke-opacity: 1; stroke-width: 2px; opacity: 1;\"/></g><g class=\"points\"/><g class=\"text\"/></g><g class=\"trace scatter tracefa95e9\" style=\"stroke-miterlimit: 2; opacity: 1;\"><g class=\"fills\"/><g class=\"errorbars\"><g class=\"errorbar\"><path class=\"yerror\" d=\"M13.73,282.51h8m-4,0V290.47m-4,0h8\" style=\"vector-effect: non-scaling-stroke; stroke-width: 0.7px; stroke: rgb(0, 204, 150); stroke-opacity: 1;\"/></g><g class=\"errorbar\"><path class=\"yerror\" d=\"M31.47,195.55h8m-4,0V284.65m-4,0h8\" style=\"vector-effect: non-scaling-stroke; stroke-width: 0.7px; stroke: rgb(0, 204, 150); stroke-opacity: 1;\"/></g><g class=\"errorbar\"><path class=\"yerror\" d=\"M49.2,143.7h8m-4,0V266.92m-4,0h8\" style=\"vector-effect: non-scaling-stroke; stroke-width: 0.7px; stroke: rgb(0, 204, 150); stroke-opacity: 1;\"/></g><g class=\"errorbar\"><path class=\"yerror\" d=\"M66.93,109.57h8m-4,0V230.96m-4,0h8\" style=\"vector-effect: non-scaling-stroke; stroke-width: 0.7px; stroke: rgb(0, 204, 150); stroke-opacity: 1;\"/></g><g class=\"errorbar\"><path class=\"yerror\" d=\"M84.67,100.07h8m-4,0V207.18m-4,0h8\" style=\"vector-effect: non-scaling-stroke; stroke-width: 0.7px; stroke: rgb(0, 204, 150); stroke-opacity: 1;\"/></g><g class=\"errorbar\"><path class=\"yerror\" d=\"M102.4,104.48h8m-4,0V212.35m-4,0h8\" style=\"vector-effect: non-scaling-stroke; stroke-width: 0.7px; stroke: rgb(0, 204, 150); stroke-opacity: 1;\"/></g><g class=\"errorbar\"><path class=\"yerror\" d=\"M120.13,90.93h8m-4,0V208.76m-4,0h8\" style=\"vector-effect: non-scaling-stroke; stroke-width: 0.7px; stroke: rgb(0, 204, 150); stroke-opacity: 1;\"/></g><g class=\"errorbar\"><path class=\"yerror\" d=\"M137.87,93.41h8m-4,0V206.28m-4,0h8\" style=\"vector-effect: non-scaling-stroke; stroke-width: 0.7px; stroke: rgb(0, 204, 150); stroke-opacity: 1;\"/></g><g class=\"errorbar\"><path class=\"yerror\" d=\"M155.6,90.99h8m-4,0V185.5m-4,0h8\" style=\"vector-effect: non-scaling-stroke; stroke-width: 0.7px; stroke: rgb(0, 204, 150); stroke-opacity: 1;\"/></g><g class=\"errorbar\"><path class=\"yerror\" d=\"M173.33,98.96h8m-4,0V201.23m-4,0h8\" style=\"vector-effect: non-scaling-stroke; stroke-width: 0.7px; stroke: rgb(0, 204, 150); stroke-opacity: 1;\"/></g><g class=\"errorbar\"><path class=\"yerror\" d=\"M191.07,96.65h8m-4,0V198.5m-4,0h8\" style=\"vector-effect: non-scaling-stroke; stroke-width: 0.7px; stroke: rgb(0, 204, 150); stroke-opacity: 1;\"/></g><g class=\"errorbar\"><path class=\"yerror\" d=\"M208.8,93.27h8m-4,0V186.76m-4,0h8\" style=\"vector-effect: non-scaling-stroke; stroke-width: 0.7px; stroke: rgb(0, 204, 150); stroke-opacity: 1;\"/></g><g class=\"errorbar\"><path class=\"yerror\" d=\"M226.53,111.58h8m-4,0V200.2m-4,0h8\" style=\"vector-effect: non-scaling-stroke; stroke-width: 0.7px; stroke: rgb(0, 204, 150); stroke-opacity: 1;\"/></g><g class=\"errorbar\"><path class=\"yerror\" d=\"M244.27,118.63h8m-4,0V194.67m-4,0h8\" style=\"vector-effect: non-scaling-stroke; stroke-width: 0.7px; stroke: rgb(0, 204, 150); stroke-opacity: 1;\"/></g><g class=\"errorbar\"><path class=\"yerror\" d=\"M262,124.1h8m-4,0V198.79m-4,0h8\" style=\"vector-effect: non-scaling-stroke; stroke-width: 0.7px; stroke: rgb(0, 204, 150); stroke-opacity: 1;\"/></g><g class=\"errorbar\"><path class=\"yerror\" d=\"M279.73,116.19h8m-4,0V199.13m-4,0h8\" style=\"vector-effect: non-scaling-stroke; stroke-width: 0.7px; stroke: rgb(0, 204, 150); stroke-opacity: 1;\"/></g><g class=\"errorbar\"><path class=\"yerror\" d=\"M297.47,139.23h8m-4,0V201.3m-4,0h8\" style=\"vector-effect: non-scaling-stroke; stroke-width: 0.7px; stroke: rgb(0, 204, 150); stroke-opacity: 1;\"/></g><g class=\"errorbar\"><path class=\"yerror\" d=\"M315.2,114.41h8m-4,0V207.46m-4,0h8\" style=\"vector-effect: non-scaling-stroke; stroke-width: 0.7px; stroke: rgb(0, 204, 150); stroke-opacity: 1;\"/></g><g class=\"errorbar\"><path class=\"yerror\" d=\"M332.93,104.65h8m-4,0V194.03m-4,0h8\" style=\"vector-effect: non-scaling-stroke; stroke-width: 0.7px; stroke: rgb(0, 204, 150); stroke-opacity: 1;\"/></g><g class=\"errorbar\"><path class=\"yerror\" d=\"M350.67,116.13h8m-4,0V201.71m-4,0h8\" style=\"vector-effect: non-scaling-stroke; stroke-width: 0.7px; stroke: rgb(0, 204, 150); stroke-opacity: 1;\"/></g><g class=\"errorbar\"><path class=\"yerror\" d=\"M368.4,123.96h8m-4,0V210.01m-4,0h8\" style=\"vector-effect: non-scaling-stroke; stroke-width: 0.7px; stroke: rgb(0, 204, 150); stroke-opacity: 1;\"/></g><g class=\"errorbar\"><path class=\"yerror\" d=\"M386.13,122.36h8m-4,0V202.03m-4,0h8\" style=\"vector-effect: non-scaling-stroke; stroke-width: 0.7px; stroke: rgb(0, 204, 150); stroke-opacity: 1;\"/></g><g class=\"errorbar\"><path class=\"yerror\" d=\"M403.87,128.45h8m-4,0V197.96m-4,0h8\" style=\"vector-effect: non-scaling-stroke; stroke-width: 0.7px; stroke: rgb(0, 204, 150); stroke-opacity: 1;\"/></g><g class=\"errorbar\"><path class=\"yerror\" d=\"M421.6,119.59h8m-4,0V199.76m-4,0h8\" style=\"vector-effect: non-scaling-stroke; stroke-width: 0.7px; stroke: rgb(0, 204, 150); stroke-opacity: 1;\"/></g><g class=\"errorbar\"><path class=\"yerror\" d=\"M439.33,130.12h8m-4,0V202.34m-4,0h8\" style=\"vector-effect: non-scaling-stroke; stroke-width: 0.7px; stroke: rgb(0, 204, 150); stroke-opacity: 1;\"/></g><g class=\"errorbar\"><path class=\"yerror\" d=\"M457.07,129.53h8m-4,0V211.5m-4,0h8\" style=\"vector-effect: non-scaling-stroke; stroke-width: 0.7px; stroke: rgb(0, 204, 150); stroke-opacity: 1;\"/></g><g class=\"errorbar\"><path class=\"yerror\" d=\"M474.8,138.95h8m-4,0V206.11m-4,0h8\" style=\"vector-effect: non-scaling-stroke; stroke-width: 0.7px; stroke: rgb(0, 204, 150); stroke-opacity: 1;\"/></g><g class=\"errorbar\"><path class=\"yerror\" d=\"M492.53,134.02h8m-4,0V200.96m-4,0h8\" style=\"vector-effect: non-scaling-stroke; stroke-width: 0.7px; stroke: rgb(0, 204, 150); stroke-opacity: 1;\"/></g><g class=\"errorbar\"><path class=\"yerror\" d=\"M510.27,147.9h8m-4,0V209.27m-4,0h8\" style=\"vector-effect: non-scaling-stroke; stroke-width: 0.7px; stroke: rgb(0, 204, 150); stroke-opacity: 1;\"/></g></g><g class=\"lines\"><path class=\"js-line\" d=\"M17.73,286.49L35.47,240.1L53.2,205.31L70.93,170.26L88.67,153.62L106.4,158.42L124.13,149.84L141.87,149.84L159.6,138.25L177.33,150.1L195.07,147.57L212.8,140.01L230.53,155.89L248.27,156.65L266,161.44L283.73,157.66L301.47,170.26L319.2,160.94L336.93,149.34L354.67,158.92L372.4,166.99L390.13,162.2L407.87,163.21L425.6,159.68L443.33,166.23L461.07,170.52L478.8,172.53L496.53,167.49L514.27,178.58\" style=\"vector-effect: non-scaling-stroke; fill: none; stroke: rgb(0, 204, 150); stroke-opacity: 1; stroke-width: 2px; opacity: 1;\"/></g><g class=\"points\"/><g class=\"text\"/></g><g class=\"trace scatter trace2c409a\" style=\"stroke-miterlimit: 2; opacity: 1;\"><g class=\"fills\"/><g class=\"errorbars\"><g class=\"errorbar\"><path class=\"yerror\" d=\"M13.73,278.31h8m-4,0V289.99m-4,0h8\" style=\"vector-effect: non-scaling-stroke; stroke-width: 0.7px; stroke: rgb(171, 99, 250); stroke-opacity: 1;\"/></g><g class=\"errorbar\"><path class=\"yerror\" d=\"M31.47,160.11h8m-4,0V277.67m-4,0h8\" style=\"vector-effect: non-scaling-stroke; stroke-width: 0.7px; stroke: rgb(171, 99, 250); stroke-opacity: 1;\"/></g><g class=\"errorbar\"><path class=\"yerror\" d=\"M49.2,120.25h8m-4,0V257.66m-4,0h8\" style=\"vector-effect: non-scaling-stroke; stroke-width: 0.7px; stroke: rgb(171, 99, 250); stroke-opacity: 1;\"/></g><g class=\"errorbar\"><path class=\"yerror\" d=\"M66.93,105.13h8m-4,0V202.98m-4,0h8\" style=\"vector-effect: non-scaling-stroke; stroke-width: 0.7px; stroke: rgb(171, 99, 250); stroke-opacity: 1;\"/></g><g class=\"errorbar\"><path class=\"yerror\" d=\"M84.67,77.13h8m-4,0V187.77m-4,0h8\" style=\"vector-effect: non-scaling-stroke; stroke-width: 0.7px; stroke: rgb(171, 99, 250); stroke-opacity: 1;\"/></g><g class=\"errorbar\"><path class=\"yerror\" d=\"M102.4,73.27h8m-4,0V163.97m-4,0h8\" style=\"vector-effect: non-scaling-stroke; stroke-width: 0.7px; stroke: rgb(171, 99, 250); stroke-opacity: 1;\"/></g><g class=\"errorbar\"><path class=\"yerror\" d=\"M120.13,49.74h8m-4,0V142.98m-4,0h8\" style=\"vector-effect: non-scaling-stroke; stroke-width: 0.7px; stroke: rgb(171, 99, 250); stroke-opacity: 1;\"/></g><g class=\"errorbar\"><path class=\"yerror\" d=\"M137.87,50.12h8m-4,0V122.93m-4,0h8\" style=\"vector-effect: non-scaling-stroke; stroke-width: 0.7px; stroke: rgb(171, 99, 250); stroke-opacity: 1;\"/></g><g class=\"errorbar\"><path class=\"yerror\" d=\"M155.6,32.42h8m-4,0V97.84m-4,0h8\" style=\"vector-effect: non-scaling-stroke; stroke-width: 0.7px; stroke: rgb(171, 99, 250); stroke-opacity: 1;\"/></g><g class=\"errorbar\"><path class=\"yerror\" d=\"M173.33,36.46h8m-4,0V95.31m-4,0h8\" style=\"vector-effect: non-scaling-stroke; stroke-width: 0.7px; stroke: rgb(171, 99, 250); stroke-opacity: 1;\"/></g><g class=\"errorbar\"><path class=\"yerror\" d=\"M191.07,32.76h8m-4,0V85.83m-4,0h8\" style=\"vector-effect: non-scaling-stroke; stroke-width: 0.7px; stroke: rgb(171, 99, 250); stroke-opacity: 1;\"/></g><g class=\"errorbar\"><path class=\"yerror\" d=\"M208.8,33.36h8m-4,0V86.1m-4,0h8\" style=\"vector-effect: non-scaling-stroke; stroke-width: 0.7px; stroke: rgb(171, 99, 250); stroke-opacity: 1;\"/></g><g class=\"errorbar\"><path class=\"yerror\" d=\"M226.53,25.9h8m-4,0V75.18m-4,0h8\" style=\"vector-effect: non-scaling-stroke; stroke-width: 0.7px; stroke: rgb(171, 99, 250); stroke-opacity: 1;\"/></g><g class=\"errorbar\"><path class=\"yerror\" d=\"M244.27,28.15h8m-4,0V78.34m-4,0h8\" style=\"vector-effect: non-scaling-stroke; stroke-width: 0.7px; stroke: rgb(171, 99, 250); stroke-opacity: 1;\"/></g><g class=\"errorbar\"><path class=\"yerror\" d=\"M262,33.27h8m-4,0V79.71m-4,0h8\" style=\"vector-effect: non-scaling-stroke; stroke-width: 0.7px; stroke: rgb(171, 99, 250); stroke-opacity: 1;\"/></g><g class=\"errorbar\"><path class=\"yerror\" d=\"M279.73,27.71h8m-4,0V76.62m-4,0h8\" style=\"vector-effect: non-scaling-stroke; stroke-width: 0.7px; stroke: rgb(171, 99, 250); stroke-opacity: 1;\"/></g><g class=\"errorbar\"><path class=\"yerror\" d=\"M297.47,29.16h8m-4,0V73.88m-4,0h8\" style=\"vector-effect: non-scaling-stroke; stroke-width: 0.7px; stroke: rgb(171, 99, 250); stroke-opacity: 1;\"/></g><g class=\"errorbar\"><path class=\"yerror\" d=\"M315.2,25.24h8m-4,0V67.21m-4,0h8\" style=\"vector-effect: non-scaling-stroke; stroke-width: 0.7px; stroke: rgb(171, 99, 250); stroke-opacity: 1;\"/></g><g class=\"errorbar\"><path class=\"yerror\" d=\"M332.93,22.48h8m-4,0V67.15m-4,0h8\" style=\"vector-effect: non-scaling-stroke; stroke-width: 0.7px; stroke: rgb(171, 99, 250); stroke-opacity: 1;\"/></g><g class=\"errorbar\"><path class=\"yerror\" d=\"M350.67,23.13h8m-4,0V66.29m-4,0h8\" style=\"vector-effect: non-scaling-stroke; stroke-width: 0.7px; stroke: rgb(171, 99, 250); stroke-opacity: 1;\"/></g><g class=\"errorbar\"><path class=\"yerror\" d=\"M368.4,57.07h8m-4,0V105.17m-4,0h8\" style=\"vector-effect: non-scaling-stroke; stroke-width: 0.7px; stroke: rgb(171, 99, 250); stroke-opacity: 1;\"/></g><g class=\"errorbar\"><path class=\"yerror\" d=\"M386.13,18.17h8m-4,0V60.23m-4,0h8\" style=\"vector-effect: non-scaling-stroke; stroke-width: 0.7px; stroke: rgb(171, 99, 250); stroke-opacity: 1;\"/></g><g class=\"errorbar\"><path class=\"yerror\" d=\"M403.87,19.42h8m-4,0V62.22m-4,0h8\" style=\"vector-effect: non-scaling-stroke; stroke-width: 0.7px; stroke: rgb(171, 99, 250); stroke-opacity: 1;\"/></g><g class=\"errorbar\"><path class=\"yerror\" d=\"M421.6,23.36h8m-4,0V68.65m-4,0h8\" style=\"vector-effect: non-scaling-stroke; stroke-width: 0.7px; stroke: rgb(171, 99, 250); stroke-opacity: 1;\"/></g><g class=\"errorbar\"><path class=\"yerror\" d=\"M439.33,25.21h8m-4,0V67.02m-4,0h8\" style=\"vector-effect: non-scaling-stroke; stroke-width: 0.7px; stroke: rgb(171, 99, 250); stroke-opacity: 1;\"/></g><g class=\"errorbar\"><path class=\"yerror\" d=\"M457.07,20.32h8m-4,0V63.92m-4,0h8\" style=\"vector-effect: non-scaling-stroke; stroke-width: 0.7px; stroke: rgb(171, 99, 250); stroke-opacity: 1;\"/></g><g class=\"errorbar\"><path class=\"yerror\" d=\"M474.8,64.28h8m-4,0V104.02m-4,0h8\" style=\"vector-effect: non-scaling-stroke; stroke-width: 0.7px; stroke: rgb(171, 99, 250); stroke-opacity: 1;\"/></g><g class=\"errorbar\"><path class=\"yerror\" d=\"M492.53,18.76h8m-4,0V63.74m-4,0h8\" style=\"vector-effect: non-scaling-stroke; stroke-width: 0.7px; stroke: rgb(171, 99, 250); stroke-opacity: 1;\"/></g><g class=\"errorbar\"><path class=\"yerror\" d=\"M510.27,16h8m-4,0V58.29m-4,0h8\" style=\"vector-effect: non-scaling-stroke; stroke-width: 0.7px; stroke: rgb(171, 99, 250); stroke-opacity: 1;\"/></g></g><g class=\"lines\"><path class=\"js-line\" d=\"M17.73,284.15L35.47,218.89L53.2,188.96L70.93,154.06L88.67,132.45L106.4,118.62L124.13,96.36L141.87,86.53L159.6,65.13L177.33,65.89L195.07,59.3L212.8,59.73L230.53,50.54L266,56.49L283.73,52.17L301.47,51.52L319.2,46.22L336.93,44.82L354.67,44.71L372.4,81.12L390.13,39.2L407.87,40.82L425.6,46.01L443.33,46.11L461.07,42.12L478.8,84.15L496.53,41.25L514.27,37.15\" style=\"vector-effect: non-scaling-stroke; fill: none; stroke: rgb(171, 99, 250); stroke-opacity: 1; stroke-width: 2px; opacity: 1;\"/></g><g class=\"points\"/><g class=\"text\"/></g></g></g><g class=\"overplot\"/><path class=\"xlines-above crisp\" d=\"M0,0\" style=\"fill: none;\"/><path class=\"ylines-above crisp\" d=\"M0,0\" style=\"fill: none;\"/><g class=\"overlines-above\"/><g class=\"xaxislayer-above\"><g class=\"xtick\"><text text-anchor=\"middle\" x=\"0\" y=\"433\" transform=\"translate(80,0)\" style=\"font-family: 'Open Sans', verdana, arial, sans-serif; font-size: 12px; fill: rgb(42, 63, 95); fill-opacity: 1; white-space: pre; opacity: 1;\">0</text></g><g class=\"xtick\"><text text-anchor=\"middle\" x=\"0\" y=\"433\" style=\"font-family: 'Open Sans', verdana, arial, sans-serif; font-size: 12px; fill: rgb(42, 63, 95); fill-opacity: 1; white-space: pre; opacity: 1;\" transform=\"translate(97.73,0)\">1</text></g><g class=\"xtick\"><text text-anchor=\"middle\" x=\"0\" y=\"433\" style=\"font-family: 'Open Sans', verdana, arial, sans-serif; font-size: 12px; fill: rgb(42, 63, 95); fill-opacity: 1; white-space: pre; opacity: 1;\" transform=\"translate(115.47,0)\">2</text></g><g class=\"xtick\"><text text-anchor=\"middle\" x=\"0\" y=\"433\" style=\"font-family: 'Open Sans', verdana, arial, sans-serif; font-size: 12px; fill: rgb(42, 63, 95); fill-opacity: 1; white-space: pre; opacity: 1;\" transform=\"translate(133.2,0)\">3</text></g><g class=\"xtick\"><text text-anchor=\"middle\" x=\"0\" y=\"433\" style=\"font-family: 'Open Sans', verdana, arial, sans-serif; font-size: 12px; fill: rgb(42, 63, 95); fill-opacity: 1; white-space: pre; opacity: 1;\" transform=\"translate(150.93,0)\">4</text></g><g class=\"xtick\"><text text-anchor=\"middle\" x=\"0\" y=\"433\" style=\"font-family: 'Open Sans', verdana, arial, sans-serif; font-size: 12px; fill: rgb(42, 63, 95); fill-opacity: 1; white-space: pre; opacity: 1;\" transform=\"translate(168.67000000000002,0)\">5</text></g><g class=\"xtick\"><text text-anchor=\"middle\" x=\"0\" y=\"433\" style=\"font-family: 'Open Sans', verdana, arial, sans-serif; font-size: 12px; fill: rgb(42, 63, 95); fill-opacity: 1; white-space: pre; opacity: 1;\" transform=\"translate(186.4,0)\">6</text></g><g class=\"xtick\"><text text-anchor=\"middle\" x=\"0\" y=\"433\" style=\"font-family: 'Open Sans', verdana, arial, sans-serif; font-size: 12px; fill: rgb(42, 63, 95); fill-opacity: 1; white-space: pre; opacity: 1;\" transform=\"translate(204.13,0)\">7</text></g><g class=\"xtick\"><text text-anchor=\"middle\" x=\"0\" y=\"433\" style=\"font-family: 'Open Sans', verdana, arial, sans-serif; font-size: 12px; fill: rgb(42, 63, 95); fill-opacity: 1; white-space: pre; opacity: 1;\" transform=\"translate(221.87,0)\">8</text></g><g class=\"xtick\"><text text-anchor=\"middle\" x=\"0\" y=\"433\" style=\"font-family: 'Open Sans', verdana, arial, sans-serif; font-size: 12px; fill: rgb(42, 63, 95); fill-opacity: 1; white-space: pre; opacity: 1;\" transform=\"translate(239.6,0)\">9</text></g><g class=\"xtick\"><text text-anchor=\"middle\" x=\"0\" y=\"433\" style=\"font-family: 'Open Sans', verdana, arial, sans-serif; font-size: 12px; fill: rgb(42, 63, 95); fill-opacity: 1; white-space: pre; opacity: 1;\" transform=\"translate(257.33000000000004,0)\">10</text></g><g class=\"xtick\"><text text-anchor=\"middle\" x=\"0\" y=\"433\" style=\"font-family: 'Open Sans', verdana, arial, sans-serif; font-size: 12px; fill: rgb(42, 63, 95); fill-opacity: 1; white-space: pre; opacity: 1;\" transform=\"translate(275.07,0)\">11</text></g><g class=\"xtick\"><text text-anchor=\"middle\" x=\"0\" y=\"433\" style=\"font-family: 'Open Sans', verdana, arial, sans-serif; font-size: 12px; fill: rgb(42, 63, 95); fill-opacity: 1; white-space: pre; opacity: 1;\" transform=\"translate(292.8,0)\">12</text></g><g class=\"xtick\"><text text-anchor=\"middle\" x=\"0\" y=\"433\" style=\"font-family: 'Open Sans', verdana, arial, sans-serif; font-size: 12px; fill: rgb(42, 63, 95); fill-opacity: 1; white-space: pre; opacity: 1;\" transform=\"translate(310.53,0)\">13</text></g><g class=\"xtick\"><text text-anchor=\"middle\" x=\"0\" y=\"433\" style=\"font-family: 'Open Sans', verdana, arial, sans-serif; font-size: 12px; fill: rgb(42, 63, 95); fill-opacity: 1; white-space: pre; opacity: 1;\" transform=\"translate(328.27,0)\">14</text></g><g class=\"xtick\"><text text-anchor=\"middle\" x=\"0\" y=\"433\" style=\"font-family: 'Open Sans', verdana, arial, sans-serif; font-size: 12px; fill: rgb(42, 63, 95); fill-opacity: 1; white-space: pre; opacity: 1;\" transform=\"translate(346,0)\">15</text></g><g class=\"xtick\"><text text-anchor=\"middle\" x=\"0\" y=\"433\" style=\"font-family: 'Open Sans', verdana, arial, sans-serif; font-size: 12px; fill: rgb(42, 63, 95); fill-opacity: 1; white-space: pre; opacity: 1;\" transform=\"translate(363.73,0)\">16</text></g><g class=\"xtick\"><text text-anchor=\"middle\" x=\"0\" y=\"433\" style=\"font-family: 'Open Sans', verdana, arial, sans-serif; font-size: 12px; fill: rgb(42, 63, 95); fill-opacity: 1; white-space: pre; opacity: 1;\" transform=\"translate(381.47,0)\">17</text></g><g class=\"xtick\"><text text-anchor=\"middle\" x=\"0\" y=\"433\" style=\"font-family: 'Open Sans', verdana, arial, sans-serif; font-size: 12px; fill: rgb(42, 63, 95); fill-opacity: 1; white-space: pre; opacity: 1;\" transform=\"translate(399.2,0)\">18</text></g><g class=\"xtick\"><text text-anchor=\"middle\" x=\"0\" y=\"433\" style=\"font-family: 'Open Sans', verdana, arial, sans-serif; font-size: 12px; fill: rgb(42, 63, 95); fill-opacity: 1; white-space: pre; opacity: 1;\" transform=\"translate(416.93,0)\">19</text></g><g class=\"xtick\"><text text-anchor=\"middle\" x=\"0\" y=\"433\" style=\"font-family: 'Open Sans', verdana, arial, sans-serif; font-size: 12px; fill: rgb(42, 63, 95); fill-opacity: 1; white-space: pre; opacity: 1;\" transform=\"translate(434.67,0)\">20</text></g><g class=\"xtick\"><text text-anchor=\"middle\" x=\"0\" y=\"433\" style=\"font-family: 'Open Sans', verdana, arial, sans-serif; font-size: 12px; fill: rgb(42, 63, 95); fill-opacity: 1; white-space: pre; opacity: 1;\" transform=\"translate(452.4,0)\">21</text></g><g class=\"xtick\"><text text-anchor=\"middle\" x=\"0\" y=\"433\" style=\"font-family: 'Open Sans', verdana, arial, sans-serif; font-size: 12px; fill: rgb(42, 63, 95); fill-opacity: 1; white-space: pre; opacity: 1;\" transform=\"translate(470.13,0)\">22</text></g><g class=\"xtick\"><text text-anchor=\"middle\" x=\"0\" y=\"433\" style=\"font-family: 'Open Sans', verdana, arial, sans-serif; font-size: 12px; fill: rgb(42, 63, 95); fill-opacity: 1; white-space: pre; opacity: 1;\" transform=\"translate(487.87,0)\">23</text></g><g class=\"xtick\"><text text-anchor=\"middle\" x=\"0\" y=\"433\" style=\"font-family: 'Open Sans', verdana, arial, sans-serif; font-size: 12px; fill: rgb(42, 63, 95); fill-opacity: 1; white-space: pre; opacity: 1;\" transform=\"translate(505.6,0)\">24</text></g><g class=\"xtick\"><text text-anchor=\"middle\" x=\"0\" y=\"433\" style=\"font-family: 'Open Sans', verdana, arial, sans-serif; font-size: 12px; fill: rgb(42, 63, 95); fill-opacity: 1; white-space: pre; opacity: 1;\" transform=\"translate(523.3299999999999,0)\">25</text></g><g class=\"xtick\"><text text-anchor=\"middle\" x=\"0\" y=\"433\" style=\"font-family: 'Open Sans', verdana, arial, sans-serif; font-size: 12px; fill: rgb(42, 63, 95); fill-opacity: 1; white-space: pre; opacity: 1;\" transform=\"translate(541.0699999999999,0)\">26</text></g><g class=\"xtick\"><text text-anchor=\"middle\" x=\"0\" y=\"433\" style=\"font-family: 'Open Sans', verdana, arial, sans-serif; font-size: 12px; fill: rgb(42, 63, 95); fill-opacity: 1; white-space: pre; opacity: 1;\" transform=\"translate(558.8,0)\">27</text></g><g class=\"xtick\"><text text-anchor=\"middle\" x=\"0\" y=\"433\" style=\"font-family: 'Open Sans', verdana, arial, sans-serif; font-size: 12px; fill: rgb(42, 63, 95); fill-opacity: 1; white-space: pre; opacity: 1;\" transform=\"translate(576.53,0)\">28</text></g><g class=\"xtick\"><text text-anchor=\"middle\" x=\"0\" y=\"433\" style=\"font-family: 'Open Sans', verdana, arial, sans-serif; font-size: 12px; fill: rgb(42, 63, 95); fill-opacity: 1; white-space: pre; opacity: 1;\" transform=\"translate(594.27,0)\">29</text></g><g class=\"xtick\"><text text-anchor=\"middle\" x=\"0\" y=\"433\" style=\"font-family: 'Open Sans', verdana, arial, sans-serif; font-size: 12px; fill: rgb(42, 63, 95); fill-opacity: 1; white-space: pre; opacity: 1;\" transform=\"translate(612,0)\">30</text></g></g><g class=\"yaxislayer-above\"><g class=\"ytick\"><text text-anchor=\"end\" x=\"79\" y=\"4.199999999999999\" transform=\"translate(0,392.42)\" style=\"font-family: 'Open Sans', verdana, arial, sans-serif; font-size: 12px; fill: rgb(42, 63, 95); fill-opacity: 1; white-space: pre; opacity: 1;\">0.55</text></g><g class=\"ytick\"><text text-anchor=\"end\" x=\"79\" y=\"4.199999999999999\" style=\"font-family: 'Open Sans', verdana, arial, sans-serif; font-size: 12px; fill: rgb(42, 63, 95); fill-opacity: 1; white-space: pre; opacity: 1;\" transform=\"translate(0,341.36)\">0.6</text></g><g class=\"ytick\"><text text-anchor=\"end\" x=\"79\" y=\"4.199999999999999\" style=\"font-family: 'Open Sans', verdana, arial, sans-serif; font-size: 12px; fill: rgb(42, 63, 95); fill-opacity: 1; white-space: pre; opacity: 1;\" transform=\"translate(0,290.31)\">0.65</text></g><g class=\"ytick\"><text text-anchor=\"end\" x=\"79\" y=\"4.199999999999999\" style=\"font-family: 'Open Sans', verdana, arial, sans-serif; font-size: 12px; fill: rgb(42, 63, 95); fill-opacity: 1; white-space: pre; opacity: 1;\" transform=\"translate(0,239.25)\">0.7</text></g><g class=\"ytick\"><text text-anchor=\"end\" x=\"79\" y=\"4.199999999999999\" style=\"font-family: 'Open Sans', verdana, arial, sans-serif; font-size: 12px; fill: rgb(42, 63, 95); fill-opacity: 1; white-space: pre; opacity: 1;\" transform=\"translate(0,188.2)\">0.75</text></g><g class=\"ytick\"><text text-anchor=\"end\" x=\"79\" y=\"4.199999999999999\" style=\"font-family: 'Open Sans', verdana, arial, sans-serif; font-size: 12px; fill: rgb(42, 63, 95); fill-opacity: 1; white-space: pre; opacity: 1;\" transform=\"translate(0,137.15)\">0.8</text></g></g><g class=\"overaxes-above\"/></g></g><g class=\"polarlayer\"/><g class=\"ternarylayer\"/><g class=\"geolayer\"/><g class=\"funnelarealayer\"/><g class=\"pielayer\"/><g class=\"iciclelayer\"/><g class=\"treemaplayer\"/><g class=\"sunburstlayer\"/><g class=\"glimages\"/><defs id=\"topdefs-0613ab\"><g class=\"clips\"/><clipPath id=\"legend0613ab\"><rect width=\"165\" height=\"86\" x=\"0\" y=\"0\"/></clipPath></defs><g class=\"layer-above\"><g class=\"imagelayer\"/><g class=\"shapelayer\"/></g><g class=\"infolayer\"><g class=\"legend\" pointer-events=\"all\" transform=\"translate(622.64,100)\"><rect class=\"bg\" shape-rendering=\"crispEdges\" width=\"165\" height=\"86\" x=\"0\" y=\"0\" style=\"stroke: rgb(68, 68, 68); stroke-opacity: 1; fill: rgb(255, 255, 255); fill-opacity: 1; stroke-width: 0px;\"/><g class=\"scrollbox\" transform=\"\" clip-path=\"url(#legend0613ab)\"><g class=\"groups\"><g class=\"traces\" transform=\"translate(0,14.5)\" style=\"opacity: 1;\"><text class=\"legendtext\" text-anchor=\"start\" x=\"40\" y=\"4.680000000000001\" style=\"font-family: 'Open Sans', verdana, arial, sans-serif; font-size: 12px; fill: rgb(42, 63, 95); fill-opacity: 1; white-space: pre;\">RBF k-médias (teste)</text><g class=\"layers\" style=\"opacity: 1;\"><g class=\"legendfill\"/><g class=\"legendlines\"><path class=\"js-line\" d=\"M5,0h30\" style=\"fill: none; stroke: rgb(99, 110, 250); stroke-opacity: 1; stroke-width: 2px;\"/></g><g class=\"legendsymbols\"><g class=\"legendpoints\"/></g></g><rect class=\"legendtoggle\" x=\"0\" y=\"-9.5\" width=\"159.53125\" height=\"19\" style=\"fill: rgb(0, 0, 0); fill-opacity: 0;\"/></g><g class=\"traces\" transform=\"translate(0,33.5)\" style=\"opacity: 1;\"><text class=\"legendtext\" text-anchor=\"start\" x=\"40\" y=\"4.680000000000001\" style=\"font-family: 'Open Sans', verdana, arial, sans-serif; font-size: 12px; fill: rgb(42, 63, 95); fill-opacity: 1; white-space: pre;\">RBF k-médias (treino)</text><g class=\"layers\" style=\"opacity: 1;\"><g class=\"legendfill\"/><g class=\"legendlines\"><path class=\"js-line\" d=\"M5,0h30\" style=\"fill: none; stroke: rgb(239, 85, 59); stroke-opacity: 1; stroke-width: 2px;\"/></g><g class=\"legendsymbols\"><g class=\"legendpoints\"/></g></g><rect class=\"legendtoggle\" x=\"0\" y=\"-9.5\" width=\"159.53125\" height=\"19\" style=\"fill: rgb(0, 0, 0); fill-opacity: 0;\"/></g><g class=\"traces\" transform=\"translate(0,52.5)\" style=\"opacity: 1;\"><text class=\"legendtext\" text-anchor=\"start\" x=\"40\" y=\"4.680000000000001\" style=\"font-family: 'Open Sans', verdana, arial, sans-serif; font-size: 12px; fill: rgb(42, 63, 95); fill-opacity: 1; white-space: pre;\">RBF aleatoria (teste)</text><g class=\"layers\" style=\"opacity: 1;\"><g class=\"legendfill\"/><g class=\"legendlines\"><path class=\"js-line\" d=\"M5,0h30\" style=\"fill: none; stroke: rgb(0, 204, 150); stroke-opacity: 1; stroke-width: 2px;\"/></g><g class=\"legendsymbols\"><g class=\"legendpoints\"/></g></g><rect class=\"legendtoggle\" x=\"0\" y=\"-9.5\" width=\"159.53125\" height=\"19\" style=\"fill: rgb(0, 0, 0); fill-opacity: 0;\"/></g><g class=\"traces\" transform=\"translate(0,71.5)\" style=\"opacity: 1;\"><text class=\"legendtext\" text-anchor=\"start\" x=\"40\" y=\"4.680000000000001\" style=\"font-family: 'Open Sans', verdana, arial, sans-serif; font-size: 12px; fill: rgb(42, 63, 95); fill-opacity: 1; white-space: pre;\">RBF aleatoria (treino)</text><g class=\"layers\" style=\"opacity: 1;\"><g class=\"legendfill\"/><g class=\"legendlines\"><path class=\"js-line\" d=\"M5,0h30\" style=\"fill: none; stroke: rgb(171, 99, 250); stroke-opacity: 1; stroke-width: 2px;\"/></g><g class=\"legendsymbols\"><g class=\"legendpoints\"/></g></g><rect class=\"legendtoggle\" x=\"0\" y=\"-9.5\" width=\"159.53125\" height=\"19\" style=\"fill: rgb(0, 0, 0); fill-opacity: 0;\"/></g></g></g><rect class=\"scrollbar\" rx=\"20\" ry=\"3\" width=\"0\" height=\"0\" x=\"0\" y=\"0\" style=\"fill: rgb(128, 139, 164); fill-opacity: 1;\"/></g><g class=\"g-gtitle\"><text class=\"gtitle\" x=\"40\" y=\"50\" text-anchor=\"start\" dy=\"0em\" style=\"font-family: 'Open Sans', verdana, arial, sans-serif; font-size: 15px; fill: rgb(42, 63, 95); opacity: 1; font-weight: normal; white-space: pre;\">Acurácia média e desvios padrão, em 50 iterações, para as RBF com k-médias e aleatória (Statlog)</text></g><g class=\"g-xtitle\"><text class=\"xtitle\" x=\"346\" y=\"461.8\" text-anchor=\"middle\" style=\"font-family: 'Open Sans', verdana, arial, sans-serif; font-size: 14px; fill: rgb(42, 63, 95); opacity: 1; font-weight: normal; white-space: pre;\">Número de neurônios</text></g><g class=\"g-ytitle\"/></g></svg>"
     },
     "metadata": {}
    }
   ],
   "source": [
    "rbf_test = list(zip(*acc_list_test))\n",
    "rbf_train = list(zip(*acc_list_train))\n",
    "rbf_rnd_test = list(zip(*acc_rnd_list_test))\n",
    "rbf_rnd_train = list(zip(*acc_rnd_list_train))\n",
    "\n",
    "fig = go.Figure(go.Scatter(x = np.arange(1,30), y=rbf_test[0], error_y=dict(type='data', array=rbf_test[1],visible=True, thickness=0.7), name = 'RBF k-médias (teste)'))\n",
    "fig.add_trace(go.Scatter(x = np.arange(1,30), y=rbf_train[0], error_y=dict(type='data', array=rbf_train[1],visible=True, thickness=0.7), name = 'RBF k-médias (treino)'))\n",
    "fig.add_trace(go.Scatter(x = np.arange(1,30), y=rbf_rnd_test[0], error_y=dict(type='data', array=rbf_rnd_test[1],visible=True, thickness=0.7), name = 'RBF aleatoria (teste)'))\n",
    "fig.add_trace(go.Scatter(x = np.arange(1,30), y=rbf_rnd_train[0], error_y=dict(type='data', array=rbf_rnd_train[1],visible=True, thickness=0.7), name = 'RBF aleatoria (treino)'))\n",
    "fig.update_xaxes(range = [0,30], dtick=1, title= 'Número de neurônios')\n",
    "#fig.update_yaxes(range = [0.6, 0.8], title= 'Acurácia')\n",
    "fig.update_layout(title = {'text':'Acurácia média e desvios padrão, em 50 iterações, para as RBF com k-médias e aleatória (Statlog)', 'font_size':15}, width=800, height=500)\n",
    "fig.show(renderer = 'svg', width =800, height = 500)"
   ]
  },
  {
   "source": [
    "\n",
    "Desprezando-se o fato da rede RBF com k-médias estar claramente errada, nota-se que a rede aleatória teve comportamento muito melhor para essa base de dados. Tomando-se como correto pelo menos a acurácia obtida para a RBF com k-médias de 1 neurônio, observa-se que a rede aleatória não alcança os 75% de acurácia obtido pela outra. Além disso, ambas as redes novamente são inferiores às ELMs, que obteve 79% de acurácia para 10 neurônios.\n",
    "\n",
    "Da mesma forma, iterou-se ambas as redes, com 3 iterações, para os valores de neurônio 50, 100 e 188. O valor de 300 não foi possível devido à limitação do k-médias, para o qual o número de *clusters* deve ser inferior ao número de amostras."
   ],
   "cell_type": "markdown",
   "metadata": {}
  },
  {
   "cell_type": "code",
   "execution_count": 24,
   "metadata": {},
   "outputs": [],
   "source": [
    "acc_list_test, acc_rnd_list_test, acc_list_train, acc_rnd_list_train = [], [], [], []\n",
    "hyper_params = [50, 100, 188]\n",
    "for p in hyper_params:\n",
    "    acc_train, acc_test, acc_rnd_train, acc_rnd_test = [], [], [], []\n",
    "    for _ in range(3):\n",
    "        rbf = train_RBF(x_train, y_train, p)\n",
    "        y_hat_train = np.sign(eval_RBF(x_train, rbf))\n",
    "        y_hat_test = np.sign(eval_RBF(x_test, rbf))\n",
    "        acc_train.append(eval_accuracy(y_hat_train, y_train, 1))\n",
    "        acc_test.append(eval_accuracy(y_hat_test, y_test, 1))\n",
    "\n",
    "        rand_rbf = train_randRBF(x_train, y_train, p)\n",
    "        y_hat_rnd_train = np.sign(eval_RBF(x_train, rand_rbf))\n",
    "        y_hat_rnd_test = np.sign(eval_RBF(x_test, rand_rbf))\n",
    "        acc_rnd_train.append(eval_accuracy(y_hat_rnd_train, y_train, 1)) \n",
    "        acc_rnd_test.append(eval_accuracy(y_hat_rnd_test, y_test, 1))\n",
    "\n",
    "    acc_list_test.append((np.mean(acc_test), np.std(acc_test)))\n",
    "    acc_rnd_list_test.append((np.mean(y_hat_rnd_test), np.std(y_hat_rnd_test)))\n",
    "    acc_list_train.append((np.mean(acc_train), np.std(acc_train)))\n",
    "    acc_rnd_list_train.append((np.mean(y_hat_rnd_train), np.std(y_hat_rnd_train)))"
   ]
  },
  {
   "cell_type": "code",
   "execution_count": 25,
   "metadata": {},
   "outputs": [
    {
     "output_type": "stream",
     "name": "stdout",
     "text": [
      "\t\t RBF k-médias\n____________________________________________________________\nhiperparametro: \t\ttraining accuracy:\n\t 50 \t 0.8465608465608465 ± 0.004320087729776328\n\t 100 \t 0.9153439153439153 ± 0.004320087729776373\n\t 188 \t 1.0 ± 0.0\n\nhiperparametro: \t\ttest accuracy:\n\t 50 \t 0.5555555555555556 ± 0.0\n\t 100 \t 0.5555555555555556 ± 0.0\n\t 188 \t 0.4444444444444444 ± 0.0\n\n\n\t\t RBF aleatória\n____________________________________________________________\nhiperparametro: \t\ttraining accuracy:\n\t 50 \t -0.026455026455026454 ± 0.9996500045392207\n\t 100 \t -0.06878306878306878 ± 0.9976316401602264\n\t 188 \t 1.0 ± 0.0\n\nhiperparametro: \t\ttest accuracy:\n\t 50 \t -0.06172839506172839 ± 0.9980929842670487\n\t 100 \t -0.06172839506172839 ± 0.9980929842670487\n\t 188 \t 1.0 ± 0.0\n"
     ]
    }
   ],
   "source": [
    "print('\\t\\t RBF k-médias')\n",
    "print('_'*60)\n",
    "print('hiperparametro: \\t\\ttraining accuracy:')\n",
    "for i,j in zip(hyper_params, acc_list_train):\n",
    "    print('\\t',i,'\\t',j[0],'±',j[1])\n",
    "print('\\nhiperparametro: \\t\\ttest accuracy:')\n",
    "for i,j in zip(hyper_params, acc_list_test):\n",
    "    print('\\t',i,'\\t',j[0],'±',j[1])\n",
    "print('\\n\\n\\t\\t RBF aleatória')\n",
    "print('_'*60)\n",
    "print('hiperparametro: \\t\\ttraining accuracy:')\n",
    "for i,j in zip(hyper_params, acc_rnd_list_train):\n",
    "    print('\\t',i,'\\t',j[0],'±',j[1])\n",
    "print('\\nhiperparametro: \\t\\ttest accuracy:')\n",
    "for i,j in zip(hyper_params, acc_rnd_list_test):\n",
    "    print('\\t',i,'\\t',j[0],'±',j[1])\n"
   ]
  },
  {
   "source": [
    "Por meio desses resultados, conclui-se com certeza de que as redes ELM tem melhor comportamento para ambas as bases estudadas. Reitera-se também que o erro de implementação das redes RBF com k-médias só foi percebido tardiamente, quando se decidiu realizar iterações para uma grande gama de neurônios e só foi confirmado mais ainda, após diversas tentativas de mudança de código, quando se estudou a base Statlog."
   ],
   "cell_type": "markdown",
   "metadata": {}
  }
 ]
}