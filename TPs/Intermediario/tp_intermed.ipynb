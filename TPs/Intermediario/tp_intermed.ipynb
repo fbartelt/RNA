{
 "metadata": {
  "language_info": {
   "codemirror_mode": {
    "name": "ipython",
    "version": 3
   },
   "file_extension": ".py",
   "mimetype": "text/x-python",
   "name": "python",
   "nbconvert_exporter": "python",
   "pygments_lexer": "ipython3",
   "version": "3.9.6-final"
  },
  "orig_nbformat": 2,
  "kernelspec": {
   "name": "python39564bit549cf0b77a22421d935416dbb4c29b77",
   "display_name": "Python 3.9.5 64-bit"
  }
 },
 "nbformat": 4,
 "nbformat_minor": 2,
 "cells": [
  {
   "cell_type": "code",
   "execution_count": 23,
   "metadata": {},
   "outputs": [],
   "source": [
    "from rbf import train, utils\n",
    "import numpy as np \n",
    "from sklearn.datasets import load_breast_cancer\n",
    "\n",
    "breast_cancer = load_breast_cancer()\n",
    "X_samples = breast_cancer['data']\n",
    "y_sample = np.reshape(breast_cancer['target'], (-1,1))\n",
    "ignored_idx = [2,3,9,11,12,13,14,18,19,22,23]\n",
    "\n",
    "X = utils.delete_features(X_samples, ignored_idx)\n",
    "X_mean = np.mean(X, axis = 0)\n",
    "X_std = np.std(X, axis = 0)\n",
    "X = utils.normalize_features(X, X_mean, X_std)\n",
    "y_sample[y_sample==0] = -1\n",
    "\n",
    "x_train, x_test, y_train, y_test = utils.split_set(X, y_sample)"
   ]
  },
  {
   "cell_type": "code",
   "execution_count": 2,
   "metadata": {
    "tags": []
   },
   "outputs": [],
   "source": [
    "from rbf.km_rbf import km_rbf\n",
    "accs, stds = [], []\n",
    "for p in range(1,20):\n",
    "    acc, acct = [], []\n",
    "    for _ in range(10):\n",
    "        x_train, x_test, y_train, y_test = utils.split_set(X, y_sample)\n",
    "        km = km_rbf(x_train, y_train, p)\n",
    "        y_hat_train = np.sign(km.eval(x_train))\n",
    "        y_hat_test = np.sign(km.eval(x_test))\n",
    "        acc.append(utils.eval_accuracy(y_hat_train, y_train, 1))\n",
    "        acct.append(utils.eval_accuracy(y_hat_test, y_test, 1))\n",
    "    #print(acc)\n",
    "    #print(acct)\n",
    "    accs.append((np.mean(acc), np.mean(acct)))\n",
    "    #accs[0,1].append(np.mean(acct))\n",
    "    stds.append((np.std(acc), np.std(acct)))\n",
    "accs = (tuple(map(list, zip(*accs))),)\n",
    "stds = (tuple(map(list, zip(*stds))), )"
   ]
  },
  {
   "cell_type": "code",
   "execution_count": 24,
   "metadata": {},
   "outputs": [],
   "source": [
    "from rbf.rnd_rbf import rnd_rbf\n",
    "accs_2, stds_2 = [], []\n",
    "for p in range(1,20):\n",
    "    acc, acct = [], []\n",
    "    for _ in range(10):\n",
    "        x_train, x_test, y_train, y_test = utils.split_set(X, y_sample)\n",
    "        km = rbfrnd = rnd_rbf(x_train, y_train, p, 'supremum', same_radii = False, mean = True)\n",
    "        y_hat_train = np.sign(km.eval(x_train))\n",
    "        y_hat_test = np.sign(km.eval(x_test))\n",
    "        acc.append(utils.eval_accuracy(y_hat_train, y_train, 1))\n",
    "        acct.append(utils.eval_accuracy(y_hat_test, y_test, 1))\n",
    "    #print(acc)\n",
    "    #print(acct)\n",
    "    accs_2.append((np.mean(acc), np.mean(acct)))\n",
    "    #accs[0,1].append(np.mean(acct))\n",
    "    stds_2.append((np.std(acc), np.std(acct)))\n",
    "accs_2 = (tuple(map(list, zip(*accs_2))),)\n",
    "stds_2 = (tuple(map(list, zip(*stds_2))), )"
   ]
  },
  {
   "cell_type": "code",
   "execution_count": 25,
   "metadata": {},
   "outputs": [
    {
     "output_type": "stream",
     "name": "stdout",
     "text": [
      "1\n",
      "2\n",
      "3\n",
      "4\n",
      "5\n",
      "6\n",
      "7\n",
      "8\n",
      "9\n",
      "10\n",
      "11\n",
      "12\n",
      "13\n",
      "14\n",
      "15\n",
      "16\n",
      "17\n",
      "18\n",
      "19\n"
     ]
    }
   ],
   "source": [
    "accs_3, stds_3 = [], []\n",
    "for p in range(1,20):\n",
    "    print(p)\n",
    "    acc, acct = [], []\n",
    "    for _ in range(10):\n",
    "        x_train, x_test, y_train, y_test = utils.split_set(X, y_sample)\n",
    "        km = rbfrnd = rnd_rbf(x_train, y_train, p, 'supremum', same_radii = True, mean = True)\n",
    "        y_hat_train = np.sign(km.eval(x_train))\n",
    "        y_hat_test = np.sign(km.eval(x_test))\n",
    "        acc.append(utils.eval_accuracy(y_hat_train, y_train, 1))\n",
    "        acct.append(utils.eval_accuracy(y_hat_test, y_test, 1))\n",
    "    #print(acc)\n",
    "    #print(acct)\n",
    "    accs_3.append((np.mean(acc), np.mean(acct)))\n",
    "    #accs[0,1].append(np.mean(acct))\n",
    "    stds_3.append((np.std(acc), np.std(acct)))\n",
    "accs_3 = (tuple(map(list, zip(*accs_3))),)\n",
    "stds_3 = (tuple(map(list, zip(*stds_3))), )"
   ]
  },
  {
   "cell_type": "code",
   "execution_count": 26,
   "metadata": {},
   "outputs": [
    {
     "output_type": "stream",
     "name": "stdout",
     "text": [
      "(([0.6281407035175878, 0.6969849246231155, 0.8052763819095479, 0.7804020100502512, 0.8231155778894473, 0.8537688442211057, 0.8487437185929648, 0.8741206030150753, 0.8693467336683417, 0.8786432160804021, 0.8866834170854272, 0.8881909547738693, 0.8879396984924623, 0.8879396984924623, 0.8947236180904522, 0.8957286432160805, 0.9, 0.900251256281407, 0.9085427135678392], [0.6257309941520468, 0.6894736842105263, 0.7988304093567252, 0.7766081871345029, 0.8304093567251462, 0.8251461988304094, 0.8532163742690058, 0.864327485380117, 0.8567251461988304, 0.8842105263157896, 0.8690058479532166, 0.8894736842105262, 0.8730994152046783, 0.8865497076023392, 0.8853801169590643, 0.8871345029239764, 0.9076023391812866, 0.8865497076023393, 0.8666666666666668]), ([0.6025125628140703, 0.6389447236180905, 0.6517587939698493, 0.6582914572864322, 0.672110552763819, 0.6902010050251255, 0.6939698492462311, 0.7301507537688442, 0.7293969849246231, 0.7515075376884423, 0.7384422110552764, 0.7597989949748742, 0.7467336683417086, 0.7615577889447237, 0.7532663316582914, 0.7768844221105529, 0.7663316582914572, 0.7902010050251256, 0.7957286432160804], [0.6005847953216374, 0.6380116959064328, 0.6526315789473685, 0.6485380116959065, 0.6590643274853801, 0.675438596491228, 0.695906432748538, 0.7058479532163744, 0.7309941520467836, 0.7444444444444445, 0.7251461988304093, 0.7584795321637426, 0.7467836257309942, 0.7426900584795322, 0.7590643274853802, 0.7730994152046785, 0.7596491228070176, 0.7807017543859649, 0.790643274853801]))\n(([1.1102230246251565e-16, 0.08502120522698463, 0.0638532136870114, 0.06853541864244163, 0.031143618959489777, 0.01984129348984887, 0.02229819872596359, 0.03747763488856366, 0.02187517473334565, 0.022134808531896484, 0.02739615353575816, 0.019695992560066333, 0.029089358067148345, 0.025824452577948923, 0.028657538515631534, 0.022225886950947394, 0.016314254352510455, 0.029280790853600542, 0.01763095959080284], [0.0, 0.08184836770300628, 0.06272321720604407, 0.07983259390213578, 0.02876812602631308, 0.03944226603255496, 0.030772683314439473, 0.04239665253892833, 0.025118984321537443, 0.026900584795321626, 0.04019377842675928, 0.022866917890078515, 0.03117019408476359, 0.024561403508771923, 0.03183779552939461, 0.04360942266082378, 0.017699118070668478, 0.042023963095255384, 0.03081155525688771]), ([0.07688442211055277, 0.015692961276007236, 0.017702427089254815, 0.017078035646197386, 0.02045077964334133, 0.027547819359357156, 0.017544814321704613, 0.04110479044933681, 0.030214547252692854, 0.04967572429164365, 0.02434594280755229, 0.045033088850722686, 0.024406802903680178, 0.04491025930254077, 0.029978570328190263, 0.03683797549369096, 0.023650143971356972, 0.0507419509600552, 0.036376668880443185], [0.0754385964912281, 0.02360284920539246, 0.01815692946930997, 0.015571376556367667, 0.02219912619427171, 0.03728500147203526, 0.024393746917677445, 0.03450292397660818, 0.0455990378704513, 0.04989986895904524, 0.022649025416417654, 0.0670375443452007, 0.040688476694266576, 0.05657724735648102, 0.03964550001562174, 0.03751816358443377, 0.025550938333278917, 0.05778831260351087, 0.05076616237242267]))\n"
     ]
    }
   ],
   "source": [
    "accs_test = accs_2 +accs_3\n",
    "stds_test = stds_2 +stds_3\n",
    "print(accs_test)\n",
    "print(stds_test)"
   ]
  },
  {
   "cell_type": "code",
   "execution_count": 23,
   "metadata": {},
   "outputs": [
    {
     "output_type": "stream",
     "name": "stdout",
     "text": [
      "([0.6281407035175878, 0.678391959798995, 0.6746231155778896], [0.6257309941520468, 0.6549707602339181, 0.6590643274853802]) ([1.1102230246251565e-16, 1.1102230246251565e-16, 0.004388002310696711], [0.0, 0.0, 0.0026798688274595806]) rbf mean\n"
     ]
    }
   ],
   "source": [
    "names = ['rbf mean']\n",
    "for ac, st, n in zip(()+accs, ()+stds, names):\n",
    "    print(ac, st, n)"
   ]
  },
  {
   "cell_type": "code",
   "execution_count": 27,
   "metadata": {},
   "outputs": [
    {
     "output_type": "stream",
     "name": "stdout",
     "text": [
      "Diff radius\nSame radius\n"
     ]
    },
    {
     "output_type": "display_data",
     "data": {
      "application/vnd.plotly.v1+json": {
       "config": {
        "plotlyServerURL": "https://plot.ly"
       },
       "data": [
        {
         "error_y": {
          "array": [
           1.1102230246251565e-16,
           0.08502120522698463,
           0.0638532136870114,
           0.06853541864244163,
           0.031143618959489777,
           0.01984129348984887,
           0.02229819872596359,
           0.03747763488856366,
           0.02187517473334565,
           0.022134808531896484,
           0.02739615353575816,
           0.019695992560066333,
           0.029089358067148345,
           0.025824452577948923,
           0.028657538515631534,
           0.022225886950947394,
           0.016314254352510455,
           0.029280790853600542,
           0.01763095959080284
          ],
          "thickness": 0.7,
          "type": "data",
          "visible": true
         },
         "name": "Diff radius (train)",
         "type": "scatter",
         "x": [
          1,
          2,
          3,
          4,
          5,
          6,
          7,
          8,
          9,
          10,
          11,
          12,
          13,
          14,
          15,
          16,
          17,
          18,
          19
         ],
         "y": [
          0.6281407035175878,
          0.6969849246231155,
          0.8052763819095479,
          0.7804020100502512,
          0.8231155778894473,
          0.8537688442211057,
          0.8487437185929648,
          0.8741206030150753,
          0.8693467336683417,
          0.8786432160804021,
          0.8866834170854272,
          0.8881909547738693,
          0.8879396984924623,
          0.8879396984924623,
          0.8947236180904522,
          0.8957286432160805,
          0.9,
          0.900251256281407,
          0.9085427135678392
         ]
        },
        {
         "error_y": {
          "array": [
           0,
           0.08184836770300628,
           0.06272321720604407,
           0.07983259390213578,
           0.02876812602631308,
           0.03944226603255496,
           0.030772683314439473,
           0.04239665253892833,
           0.025118984321537443,
           0.026900584795321626,
           0.04019377842675928,
           0.022866917890078515,
           0.03117019408476359,
           0.024561403508771923,
           0.03183779552939461,
           0.04360942266082378,
           0.017699118070668478,
           0.042023963095255384,
           0.03081155525688771
          ],
          "thickness": 0.7,
          "type": "data",
          "visible": true
         },
         "name": "Diff radius (test)",
         "type": "scatter",
         "x": [
          1,
          2,
          3,
          4,
          5,
          6,
          7,
          8,
          9,
          10,
          11,
          12,
          13,
          14,
          15,
          16,
          17,
          18,
          19
         ],
         "y": [
          0.6257309941520468,
          0.6894736842105263,
          0.7988304093567252,
          0.7766081871345029,
          0.8304093567251462,
          0.8251461988304094,
          0.8532163742690058,
          0.864327485380117,
          0.8567251461988304,
          0.8842105263157896,
          0.8690058479532166,
          0.8894736842105262,
          0.8730994152046783,
          0.8865497076023392,
          0.8853801169590643,
          0.8871345029239764,
          0.9076023391812866,
          0.8865497076023393,
          0.8666666666666668
         ]
        },
        {
         "error_y": {
          "array": [
           0.07688442211055277,
           0.015692961276007236,
           0.017702427089254815,
           0.017078035646197386,
           0.02045077964334133,
           0.027547819359357156,
           0.017544814321704613,
           0.04110479044933681,
           0.030214547252692854,
           0.04967572429164365,
           0.02434594280755229,
           0.045033088850722686,
           0.024406802903680178,
           0.04491025930254077,
           0.029978570328190263,
           0.03683797549369096,
           0.023650143971356972,
           0.0507419509600552,
           0.036376668880443185
          ],
          "thickness": 0.7,
          "type": "data",
          "visible": true
         },
         "name": "Same radius (train)",
         "type": "scatter",
         "x": [
          1,
          2,
          3,
          4,
          5,
          6,
          7,
          8,
          9,
          10,
          11,
          12,
          13,
          14,
          15,
          16,
          17,
          18,
          19
         ],
         "y": [
          0.6025125628140703,
          0.6389447236180905,
          0.6517587939698493,
          0.6582914572864322,
          0.672110552763819,
          0.6902010050251255,
          0.6939698492462311,
          0.7301507537688442,
          0.7293969849246231,
          0.7515075376884423,
          0.7384422110552764,
          0.7597989949748742,
          0.7467336683417086,
          0.7615577889447237,
          0.7532663316582914,
          0.7768844221105529,
          0.7663316582914572,
          0.7902010050251256,
          0.7957286432160804
         ]
        },
        {
         "error_y": {
          "array": [
           0.0754385964912281,
           0.02360284920539246,
           0.01815692946930997,
           0.015571376556367667,
           0.02219912619427171,
           0.03728500147203526,
           0.024393746917677445,
           0.03450292397660818,
           0.0455990378704513,
           0.04989986895904524,
           0.022649025416417654,
           0.0670375443452007,
           0.040688476694266576,
           0.05657724735648102,
           0.03964550001562174,
           0.03751816358443377,
           0.025550938333278917,
           0.05778831260351087,
           0.05076616237242267
          ],
          "thickness": 0.7,
          "type": "data",
          "visible": true
         },
         "name": "Same radius (test)",
         "type": "scatter",
         "x": [
          1,
          2,
          3,
          4,
          5,
          6,
          7,
          8,
          9,
          10,
          11,
          12,
          13,
          14,
          15,
          16,
          17,
          18,
          19
         ],
         "y": [
          0.6005847953216374,
          0.6380116959064328,
          0.6526315789473685,
          0.6485380116959065,
          0.6590643274853801,
          0.675438596491228,
          0.695906432748538,
          0.7058479532163744,
          0.7309941520467836,
          0.7444444444444445,
          0.7251461988304093,
          0.7584795321637426,
          0.7467836257309942,
          0.7426900584795322,
          0.7590643274853802,
          0.7730994152046785,
          0.7596491228070176,
          0.7807017543859649,
          0.790643274853801
         ]
        }
       ],
       "layout": {
        "height": 500,
        "template": {
         "data": {
          "bar": [
           {
            "error_x": {
             "color": "#2a3f5f"
            },
            "error_y": {
             "color": "#2a3f5f"
            },
            "marker": {
             "line": {
              "color": "#E5ECF6",
              "width": 0.5
             },
             "pattern": {
              "fillmode": "overlay",
              "size": 10,
              "solidity": 0.2
             }
            },
            "type": "bar"
           }
          ],
          "barpolar": [
           {
            "marker": {
             "line": {
              "color": "#E5ECF6",
              "width": 0.5
             },
             "pattern": {
              "fillmode": "overlay",
              "size": 10,
              "solidity": 0.2
             }
            },
            "type": "barpolar"
           }
          ],
          "carpet": [
           {
            "aaxis": {
             "endlinecolor": "#2a3f5f",
             "gridcolor": "white",
             "linecolor": "white",
             "minorgridcolor": "white",
             "startlinecolor": "#2a3f5f"
            },
            "baxis": {
             "endlinecolor": "#2a3f5f",
             "gridcolor": "white",
             "linecolor": "white",
             "minorgridcolor": "white",
             "startlinecolor": "#2a3f5f"
            },
            "type": "carpet"
           }
          ],
          "choropleth": [
           {
            "colorbar": {
             "outlinewidth": 0,
             "ticks": ""
            },
            "type": "choropleth"
           }
          ],
          "contour": [
           {
            "colorbar": {
             "outlinewidth": 0,
             "ticks": ""
            },
            "colorscale": [
             [
              0,
              "#0d0887"
             ],
             [
              0.1111111111111111,
              "#46039f"
             ],
             [
              0.2222222222222222,
              "#7201a8"
             ],
             [
              0.3333333333333333,
              "#9c179e"
             ],
             [
              0.4444444444444444,
              "#bd3786"
             ],
             [
              0.5555555555555556,
              "#d8576b"
             ],
             [
              0.6666666666666666,
              "#ed7953"
             ],
             [
              0.7777777777777778,
              "#fb9f3a"
             ],
             [
              0.8888888888888888,
              "#fdca26"
             ],
             [
              1,
              "#f0f921"
             ]
            ],
            "type": "contour"
           }
          ],
          "contourcarpet": [
           {
            "colorbar": {
             "outlinewidth": 0,
             "ticks": ""
            },
            "type": "contourcarpet"
           }
          ],
          "heatmap": [
           {
            "colorbar": {
             "outlinewidth": 0,
             "ticks": ""
            },
            "colorscale": [
             [
              0,
              "#0d0887"
             ],
             [
              0.1111111111111111,
              "#46039f"
             ],
             [
              0.2222222222222222,
              "#7201a8"
             ],
             [
              0.3333333333333333,
              "#9c179e"
             ],
             [
              0.4444444444444444,
              "#bd3786"
             ],
             [
              0.5555555555555556,
              "#d8576b"
             ],
             [
              0.6666666666666666,
              "#ed7953"
             ],
             [
              0.7777777777777778,
              "#fb9f3a"
             ],
             [
              0.8888888888888888,
              "#fdca26"
             ],
             [
              1,
              "#f0f921"
             ]
            ],
            "type": "heatmap"
           }
          ],
          "heatmapgl": [
           {
            "colorbar": {
             "outlinewidth": 0,
             "ticks": ""
            },
            "colorscale": [
             [
              0,
              "#0d0887"
             ],
             [
              0.1111111111111111,
              "#46039f"
             ],
             [
              0.2222222222222222,
              "#7201a8"
             ],
             [
              0.3333333333333333,
              "#9c179e"
             ],
             [
              0.4444444444444444,
              "#bd3786"
             ],
             [
              0.5555555555555556,
              "#d8576b"
             ],
             [
              0.6666666666666666,
              "#ed7953"
             ],
             [
              0.7777777777777778,
              "#fb9f3a"
             ],
             [
              0.8888888888888888,
              "#fdca26"
             ],
             [
              1,
              "#f0f921"
             ]
            ],
            "type": "heatmapgl"
           }
          ],
          "histogram": [
           {
            "marker": {
             "pattern": {
              "fillmode": "overlay",
              "size": 10,
              "solidity": 0.2
             }
            },
            "type": "histogram"
           }
          ],
          "histogram2d": [
           {
            "colorbar": {
             "outlinewidth": 0,
             "ticks": ""
            },
            "colorscale": [
             [
              0,
              "#0d0887"
             ],
             [
              0.1111111111111111,
              "#46039f"
             ],
             [
              0.2222222222222222,
              "#7201a8"
             ],
             [
              0.3333333333333333,
              "#9c179e"
             ],
             [
              0.4444444444444444,
              "#bd3786"
             ],
             [
              0.5555555555555556,
              "#d8576b"
             ],
             [
              0.6666666666666666,
              "#ed7953"
             ],
             [
              0.7777777777777778,
              "#fb9f3a"
             ],
             [
              0.8888888888888888,
              "#fdca26"
             ],
             [
              1,
              "#f0f921"
             ]
            ],
            "type": "histogram2d"
           }
          ],
          "histogram2dcontour": [
           {
            "colorbar": {
             "outlinewidth": 0,
             "ticks": ""
            },
            "colorscale": [
             [
              0,
              "#0d0887"
             ],
             [
              0.1111111111111111,
              "#46039f"
             ],
             [
              0.2222222222222222,
              "#7201a8"
             ],
             [
              0.3333333333333333,
              "#9c179e"
             ],
             [
              0.4444444444444444,
              "#bd3786"
             ],
             [
              0.5555555555555556,
              "#d8576b"
             ],
             [
              0.6666666666666666,
              "#ed7953"
             ],
             [
              0.7777777777777778,
              "#fb9f3a"
             ],
             [
              0.8888888888888888,
              "#fdca26"
             ],
             [
              1,
              "#f0f921"
             ]
            ],
            "type": "histogram2dcontour"
           }
          ],
          "mesh3d": [
           {
            "colorbar": {
             "outlinewidth": 0,
             "ticks": ""
            },
            "type": "mesh3d"
           }
          ],
          "parcoords": [
           {
            "line": {
             "colorbar": {
              "outlinewidth": 0,
              "ticks": ""
             }
            },
            "type": "parcoords"
           }
          ],
          "pie": [
           {
            "automargin": true,
            "type": "pie"
           }
          ],
          "scatter": [
           {
            "marker": {
             "colorbar": {
              "outlinewidth": 0,
              "ticks": ""
             }
            },
            "type": "scatter"
           }
          ],
          "scatter3d": [
           {
            "line": {
             "colorbar": {
              "outlinewidth": 0,
              "ticks": ""
             }
            },
            "marker": {
             "colorbar": {
              "outlinewidth": 0,
              "ticks": ""
             }
            },
            "type": "scatter3d"
           }
          ],
          "scattercarpet": [
           {
            "marker": {
             "colorbar": {
              "outlinewidth": 0,
              "ticks": ""
             }
            },
            "type": "scattercarpet"
           }
          ],
          "scattergeo": [
           {
            "marker": {
             "colorbar": {
              "outlinewidth": 0,
              "ticks": ""
             }
            },
            "type": "scattergeo"
           }
          ],
          "scattergl": [
           {
            "marker": {
             "colorbar": {
              "outlinewidth": 0,
              "ticks": ""
             }
            },
            "type": "scattergl"
           }
          ],
          "scattermapbox": [
           {
            "marker": {
             "colorbar": {
              "outlinewidth": 0,
              "ticks": ""
             }
            },
            "type": "scattermapbox"
           }
          ],
          "scatterpolar": [
           {
            "marker": {
             "colorbar": {
              "outlinewidth": 0,
              "ticks": ""
             }
            },
            "type": "scatterpolar"
           }
          ],
          "scatterpolargl": [
           {
            "marker": {
             "colorbar": {
              "outlinewidth": 0,
              "ticks": ""
             }
            },
            "type": "scatterpolargl"
           }
          ],
          "scatterternary": [
           {
            "marker": {
             "colorbar": {
              "outlinewidth": 0,
              "ticks": ""
             }
            },
            "type": "scatterternary"
           }
          ],
          "surface": [
           {
            "colorbar": {
             "outlinewidth": 0,
             "ticks": ""
            },
            "colorscale": [
             [
              0,
              "#0d0887"
             ],
             [
              0.1111111111111111,
              "#46039f"
             ],
             [
              0.2222222222222222,
              "#7201a8"
             ],
             [
              0.3333333333333333,
              "#9c179e"
             ],
             [
              0.4444444444444444,
              "#bd3786"
             ],
             [
              0.5555555555555556,
              "#d8576b"
             ],
             [
              0.6666666666666666,
              "#ed7953"
             ],
             [
              0.7777777777777778,
              "#fb9f3a"
             ],
             [
              0.8888888888888888,
              "#fdca26"
             ],
             [
              1,
              "#f0f921"
             ]
            ],
            "type": "surface"
           }
          ],
          "table": [
           {
            "cells": {
             "fill": {
              "color": "#EBF0F8"
             },
             "line": {
              "color": "white"
             }
            },
            "header": {
             "fill": {
              "color": "#C8D4E3"
             },
             "line": {
              "color": "white"
             }
            },
            "type": "table"
           }
          ]
         },
         "layout": {
          "annotationdefaults": {
           "arrowcolor": "#2a3f5f",
           "arrowhead": 0,
           "arrowwidth": 1
          },
          "autotypenumbers": "strict",
          "coloraxis": {
           "colorbar": {
            "outlinewidth": 0,
            "ticks": ""
           }
          },
          "colorscale": {
           "diverging": [
            [
             0,
             "#8e0152"
            ],
            [
             0.1,
             "#c51b7d"
            ],
            [
             0.2,
             "#de77ae"
            ],
            [
             0.3,
             "#f1b6da"
            ],
            [
             0.4,
             "#fde0ef"
            ],
            [
             0.5,
             "#f7f7f7"
            ],
            [
             0.6,
             "#e6f5d0"
            ],
            [
             0.7,
             "#b8e186"
            ],
            [
             0.8,
             "#7fbc41"
            ],
            [
             0.9,
             "#4d9221"
            ],
            [
             1,
             "#276419"
            ]
           ],
           "sequential": [
            [
             0,
             "#0d0887"
            ],
            [
             0.1111111111111111,
             "#46039f"
            ],
            [
             0.2222222222222222,
             "#7201a8"
            ],
            [
             0.3333333333333333,
             "#9c179e"
            ],
            [
             0.4444444444444444,
             "#bd3786"
            ],
            [
             0.5555555555555556,
             "#d8576b"
            ],
            [
             0.6666666666666666,
             "#ed7953"
            ],
            [
             0.7777777777777778,
             "#fb9f3a"
            ],
            [
             0.8888888888888888,
             "#fdca26"
            ],
            [
             1,
             "#f0f921"
            ]
           ],
           "sequentialminus": [
            [
             0,
             "#0d0887"
            ],
            [
             0.1111111111111111,
             "#46039f"
            ],
            [
             0.2222222222222222,
             "#7201a8"
            ],
            [
             0.3333333333333333,
             "#9c179e"
            ],
            [
             0.4444444444444444,
             "#bd3786"
            ],
            [
             0.5555555555555556,
             "#d8576b"
            ],
            [
             0.6666666666666666,
             "#ed7953"
            ],
            [
             0.7777777777777778,
             "#fb9f3a"
            ],
            [
             0.8888888888888888,
             "#fdca26"
            ],
            [
             1,
             "#f0f921"
            ]
           ]
          },
          "colorway": [
           "#636efa",
           "#EF553B",
           "#00cc96",
           "#ab63fa",
           "#FFA15A",
           "#19d3f3",
           "#FF6692",
           "#B6E880",
           "#FF97FF",
           "#FECB52"
          ],
          "font": {
           "color": "#2a3f5f"
          },
          "geo": {
           "bgcolor": "white",
           "lakecolor": "white",
           "landcolor": "#E5ECF6",
           "showlakes": true,
           "showland": true,
           "subunitcolor": "white"
          },
          "hoverlabel": {
           "align": "left"
          },
          "hovermode": "closest",
          "mapbox": {
           "style": "light"
          },
          "paper_bgcolor": "white",
          "plot_bgcolor": "#E5ECF6",
          "polar": {
           "angularaxis": {
            "gridcolor": "white",
            "linecolor": "white",
            "ticks": ""
           },
           "bgcolor": "#E5ECF6",
           "radialaxis": {
            "gridcolor": "white",
            "linecolor": "white",
            "ticks": ""
           }
          },
          "scene": {
           "xaxis": {
            "backgroundcolor": "#E5ECF6",
            "gridcolor": "white",
            "gridwidth": 2,
            "linecolor": "white",
            "showbackground": true,
            "ticks": "",
            "zerolinecolor": "white"
           },
           "yaxis": {
            "backgroundcolor": "#E5ECF6",
            "gridcolor": "white",
            "gridwidth": 2,
            "linecolor": "white",
            "showbackground": true,
            "ticks": "",
            "zerolinecolor": "white"
           },
           "zaxis": {
            "backgroundcolor": "#E5ECF6",
            "gridcolor": "white",
            "gridwidth": 2,
            "linecolor": "white",
            "showbackground": true,
            "ticks": "",
            "zerolinecolor": "white"
           }
          },
          "shapedefaults": {
           "line": {
            "color": "#2a3f5f"
           }
          },
          "ternary": {
           "aaxis": {
            "gridcolor": "white",
            "linecolor": "white",
            "ticks": ""
           },
           "baxis": {
            "gridcolor": "white",
            "linecolor": "white",
            "ticks": ""
           },
           "bgcolor": "#E5ECF6",
           "caxis": {
            "gridcolor": "white",
            "linecolor": "white",
            "ticks": ""
           }
          },
          "title": {
           "x": 0.05
          },
          "xaxis": {
           "automargin": true,
           "gridcolor": "white",
           "linecolor": "white",
           "ticks": "",
           "title": {
            "standoff": 15
           },
           "zerolinecolor": "white",
           "zerolinewidth": 2
          },
          "yaxis": {
           "automargin": true,
           "gridcolor": "white",
           "linecolor": "white",
           "ticks": "",
           "title": {
            "standoff": 15
           },
           "zerolinecolor": "white",
           "zerolinewidth": 2
          }
         }
        },
        "title": {
         "font": {
          "size": 15
         },
         "text": "Mean accuracies and standard deviations in Breast Cancer dataset (10 iterations / k)"
        },
        "width": 800,
        "xaxis": {
         "title": {
          "text": "k (number of clusters)"
         }
        },
        "yaxis": {
         "title": {
          "text": "Acurracy"
         }
        }
       }
      }
     },
     "metadata": {}
    }
   ],
   "source": [
    "fig = utils.plot_accuracy_std((1,20), accs_test, stds_test, ['Diff radius', 'Same radius'],\n",
    "                              'in Breast Cancer dataset (10 iterations / k)')\n",
    "fig.update_yaxes(title = 'Acurracy')\n",
    "fig.update_xaxes(title = 'k (number of clusters)')\n",
    "fig.show(width = 800, heigth = 500)"
   ]
  },
  {
   "cell_type": "code",
   "execution_count": 14,
   "metadata": {},
   "outputs": [],
   "source": [
    "data = np.loadtxt( 'heart.dat' )\n",
    "X_samples = np.copy(data[:, 0:-1])\n",
    "y_sample = np.reshape(np.copy(data[:, -1]), (-1,1))\n",
    "ignored_idx = [4,5]\n",
    "y_sample[y_sample==2]= -1\n",
    "X = utils.delete_features(X_samples, ignored_idx)\n",
    "X_mean = np.mean(X, axis = 0)\n",
    "X_std = np.std(X, axis = 0)\n",
    "X = utils.normalize_features(X, X_mean, X_std)"
   ]
  },
  {
   "cell_type": "code",
   "execution_count": 19,
   "metadata": {},
   "outputs": [],
   "source": [
    "from rbf.km_rbf import km_rbf\n",
    "accs, stds = [], []\n",
    "for p in range(1,20):\n",
    "    acc, acct = [], []\n",
    "    for _ in range(10):\n",
    "        x_train, x_test, y_train, y_test = utils.split_set(X, y_sample)\n",
    "        km = km_rbf(x_train, y_train, p)\n",
    "        y_hat_train = np.sign(km.eval(x_train))\n",
    "        y_hat_test = np.sign(km.eval(x_test))\n",
    "        acc.append(utils.eval_accuracy(y_hat_train, y_train, 1))\n",
    "        acct.append(utils.eval_accuracy(y_hat_test, y_test, 1))\n",
    "    #print(acc)\n",
    "    #print(acct)\n",
    "    accs.append((np.mean(acc), np.mean(acct)))\n",
    "    #accs[0,1].append(np.mean(acct))\n",
    "    stds.append((np.std(acc), np.std(acct)))\n",
    "accs = (tuple(map(list, zip(*accs))),)\n",
    "stds = (tuple(map(list, zip(*stds))), )"
   ]
  },
  {
   "cell_type": "code",
   "execution_count": 18,
   "metadata": {},
   "outputs": [
    {
     "output_type": "stream",
     "name": "stdout",
     "text": [
      "1\n",
      "2\n",
      "3\n",
      "4\n",
      "5\n",
      "6\n",
      "7\n",
      "8\n",
      "9\n",
      "10\n",
      "11\n",
      "12\n",
      "13\n",
      "14\n",
      "15\n",
      "16\n",
      "17\n",
      "18\n",
      "19\n"
     ]
    }
   ],
   "source": [
    "from rbf.rnd_rbf import rnd_rbf\n",
    "accs_2, stds_2 = [], []\n",
    "for p in range(1,20):\n",
    "    print(p)\n",
    "    acc, acct = [], []\n",
    "    for _ in range(10):\n",
    "        x_train, x_test, y_train, y_test = utils.split_set(X, y_sample)\n",
    "        km = rbfrnd = rnd_rbf(x_train, y_train, p, 'supremum', same_radii = False, mean = True)\n",
    "        y_hat_train = np.sign(km.eval(x_train))\n",
    "        y_hat_test = np.sign(km.eval(x_test))\n",
    "        acc.append(utils.eval_accuracy(y_hat_train, y_train, 1))\n",
    "        acct.append(utils.eval_accuracy(y_hat_test, y_test, 1))\n",
    "    #print(acc)\n",
    "    #print(acct)\n",
    "    accs_2.append((np.mean(acc), np.mean(acct)))\n",
    "    #accs[0,1].append(np.mean(acct))\n",
    "    stds_2.append((np.std(acc), np.std(acct)))\n",
    "accs_2 = (tuple(map(list, zip(*accs_2))),)\n",
    "stds_2 = (tuple(map(list, zip(*stds_2))), )"
   ]
  },
  {
   "cell_type": "code",
   "execution_count": 22,
   "metadata": {},
   "outputs": [
    {
     "output_type": "stream",
     "name": "stdout",
     "text": [
      "1\n",
      "2\n",
      "3\n",
      "4\n",
      "5\n",
      "6\n",
      "7\n",
      "8\n",
      "9\n",
      "10\n",
      "11\n",
      "12\n",
      "13\n",
      "14\n",
      "15\n",
      "16\n",
      "17\n",
      "18\n",
      "19\n"
     ]
    }
   ],
   "source": [
    "accs_3, stds_3 = [], []\n",
    "for p in range(1,20):\n",
    "    print(p)\n",
    "    acc, acct = [], []\n",
    "    for _ in range(10):\n",
    "        x_train, x_test, y_train, y_test = utils.split_set(X, y_sample)\n",
    "        km = rbfrnd = rnd_rbf(x_train, y_train, p, 'supremum', same_radii = True, mean = True)\n",
    "        y_hat_train = np.sign(km.eval(x_train))\n",
    "        y_hat_test = np.sign(km.eval(x_test))\n",
    "        acc.append(utils.eval_accuracy(y_hat_train, y_train, 1))\n",
    "        acct.append(utils.eval_accuracy(y_hat_test, y_test, 1))\n",
    "    #print(acc)\n",
    "    #print(acct)\n",
    "    accs_3.append((np.mean(acc), np.mean(acct)))\n",
    "    #accs[0,1].append(np.mean(acct))\n",
    "    stds_3.append((np.std(acc), np.std(acct)))\n",
    "accs_3 = (tuple(map(list, zip(*accs_3))),)\n",
    "stds_3 = (tuple(map(list, zip(*stds_3))), )"
   ]
  },
  {
   "cell_type": "code",
   "execution_count": 24,
   "metadata": {},
   "outputs": [],
   "source": [
    "accs_test = accs_2 + accs_3\n",
    "stds_test = stds_2 + stds_3"
   ]
  },
  {
   "cell_type": "code",
   "execution_count": 25,
   "metadata": {},
   "outputs": [
    {
     "output_type": "stream",
     "name": "stdout",
     "text": [
      "Diff radius\nSame radius\n"
     ]
    },
    {
     "output_type": "display_data",
     "data": {
      "application/vnd.plotly.v1+json": {
       "config": {
        "plotlyServerURL": "https://plot.ly"
       },
       "data": [
        {
         "error_y": {
          "array": [
           0.05422699672092679,
           0.049092432282597326,
           0.05461793820344526,
           0.02847327840650521,
           0.02117063388755826,
           0.03178568951508059,
           0.03110463165438958,
           0.0238741040691608,
           0.028176776625808142,
           0.024980045786482264,
           0.08742815900840145,
           0.013603132415007869,
           0.08576652663683441,
           0.08396543671905765,
           0.08710254687154535,
           0.13491129752937003,
           0.08969151365255909,
           0.11558636719286233,
           0.14052674983690858
          ],
          "thickness": 0.7,
          "type": "data",
          "visible": true
         },
         "name": "Diff radius (train)",
         "type": "scatter",
         "x": [
          1,
          2,
          3,
          4,
          5,
          6,
          7,
          8,
          9,
          10,
          11,
          12,
          13,
          14,
          15,
          16,
          17,
          18,
          19
         ],
         "y": [
          0.7227513227513227,
          0.7613756613756614,
          0.7682539682539683,
          0.7735449735449735,
          0.7952380952380953,
          0.8100529100529101,
          0.8084656084656083,
          0.8052910052910054,
          0.8105820105820106,
          0.808994708994709,
          0.8010582010582011,
          0.8216931216931217,
          0.8084656084656086,
          0.802116402116402,
          0.8111111111111111,
          0.7608465608465609,
          0.8158730158730159,
          0.7851851851851852,
          0.7285714285714284
         ]
        },
        {
         "error_y": {
          "array": [
           0.05297145173561712,
           0.04049683818976968,
           0.06603495861884606,
           0.060291928133702634,
           0.05570624282804185,
           0.05387018328215168,
           0.026043238407072813,
           0.05460085033949623,
           0.04423820461029363,
           0.03358387779934677,
           0.08729713347982068,
           0.04320987654320988,
           0.08077697680471896,
           0.08967417183869077,
           0.07278717517522802,
           0.11856994768931328,
           0.08463771111606228,
           0.11422922483111513,
           0.1220662429067484
          ],
          "thickness": 0.7,
          "type": "data",
          "visible": true
         },
         "name": "Diff radius (test)",
         "type": "scatter",
         "x": [
          1,
          2,
          3,
          4,
          5,
          6,
          7,
          8,
          9,
          10,
          11,
          12,
          13,
          14,
          15,
          16,
          17,
          18,
          19
         ],
         "y": [
          0.6950617283950618,
          0.7629629629629628,
          0.7567901234567901,
          0.7839506172839507,
          0.7679012345679013,
          0.760493827160494,
          0.8086419753086421,
          0.8,
          0.8074074074074075,
          0.7777777777777778,
          0.7530864197530864,
          0.7962962962962963,
          0.7814814814814814,
          0.7925925925925926,
          0.7679012345679012,
          0.7333333333333334,
          0.7777777777777779,
          0.7691358024691357,
          0.6938271604938271
         ]
        },
        {
         "error_y": {
          "array": [
           0.002592052637865824,
           0.018818433062199724,
           0.06175988111073413,
           0.053334278147337905,
           0.03422425741544175,
           0.0225473817488492,
           0.055280245022683486,
           0.06130263855221264,
           0.029382948945851448,
           0.02849293548748417,
           0.027977363103496904,
           0.039664899077230274,
           0.037577314083734804,
           0.033646800202295574,
           0.02459606200882423,
           0.01338530226526299,
           0.022627941566500637,
           0.02257220000814977,
           0.029653240781380007
          ],
          "thickness": 0.7,
          "type": "data",
          "visible": true
         },
         "name": "Same radius (train)",
         "type": "scatter",
         "x": [
          1,
          2,
          3,
          4,
          5,
          6,
          7,
          8,
          9,
          10,
          11,
          12,
          13,
          14,
          15,
          16,
          17,
          18,
          19
         ],
         "y": [
          0.5587301587301587,
          0.5634920634920635,
          0.6058201058201058,
          0.6386243386243386,
          0.6486772486772487,
          0.7365079365079364,
          0.7365079365079364,
          0.7386243386243386,
          0.7650793650793652,
          0.7724867724867723,
          0.7449735449735451,
          0.7883597883597883,
          0.7746031746031746,
          0.7798941798941799,
          0.7793650793650794,
          0.798941798941799,
          0.7984126984126985,
          0.7989417989417988,
          0.8132275132275133
         ]
        },
        {
         "error_y": {
          "array": [
           0,
           0.011315001715940331,
           0.04305085376336465,
           0.07009910897075748,
           0.04827460443461024,
           0.03034124870973951,
           0.04520946524345816,
           0.05906604303163302,
           0.07140243822677161,
           0.04221066912908334,
           0.04653846129622412,
           0.05657500857970173,
           0.04233685975180802,
           0.056588477216621434,
           0.0420659877466687,
           0.03026580412871917,
           0.04423820461029362,
           0.05870367124922836,
           0.02419249128674746
          ],
          "thickness": 0.7,
          "type": "data",
          "visible": true
         },
         "name": "Same radius (test)",
         "type": "scatter",
         "x": [
          1,
          2,
          3,
          4,
          5,
          6,
          7,
          8,
          9,
          10,
          11,
          12,
          13,
          14,
          15,
          16,
          17,
          18,
          19
         ],
         "y": [
          0.5555555555555556,
          0.5604938271604938,
          0.5901234567901235,
          0.6345679012345679,
          0.6308641975308642,
          0.7358024691358025,
          0.7246913580246913,
          0.7271604938271605,
          0.7592592592592593,
          0.7666666666666666,
          0.7123456790123457,
          0.7654320987654321,
          0.7432098765432099,
          0.7444444444444444,
          0.7617283950617283,
          0.7691358024691357,
          0.7728395061728395,
          0.737037037037037,
          0.7728395061728396
         ]
        }
       ],
       "layout": {
        "height": 500,
        "template": {
         "data": {
          "bar": [
           {
            "error_x": {
             "color": "#2a3f5f"
            },
            "error_y": {
             "color": "#2a3f5f"
            },
            "marker": {
             "line": {
              "color": "#E5ECF6",
              "width": 0.5
             },
             "pattern": {
              "fillmode": "overlay",
              "size": 10,
              "solidity": 0.2
             }
            },
            "type": "bar"
           }
          ],
          "barpolar": [
           {
            "marker": {
             "line": {
              "color": "#E5ECF6",
              "width": 0.5
             },
             "pattern": {
              "fillmode": "overlay",
              "size": 10,
              "solidity": 0.2
             }
            },
            "type": "barpolar"
           }
          ],
          "carpet": [
           {
            "aaxis": {
             "endlinecolor": "#2a3f5f",
             "gridcolor": "white",
             "linecolor": "white",
             "minorgridcolor": "white",
             "startlinecolor": "#2a3f5f"
            },
            "baxis": {
             "endlinecolor": "#2a3f5f",
             "gridcolor": "white",
             "linecolor": "white",
             "minorgridcolor": "white",
             "startlinecolor": "#2a3f5f"
            },
            "type": "carpet"
           }
          ],
          "choropleth": [
           {
            "colorbar": {
             "outlinewidth": 0,
             "ticks": ""
            },
            "type": "choropleth"
           }
          ],
          "contour": [
           {
            "colorbar": {
             "outlinewidth": 0,
             "ticks": ""
            },
            "colorscale": [
             [
              0,
              "#0d0887"
             ],
             [
              0.1111111111111111,
              "#46039f"
             ],
             [
              0.2222222222222222,
              "#7201a8"
             ],
             [
              0.3333333333333333,
              "#9c179e"
             ],
             [
              0.4444444444444444,
              "#bd3786"
             ],
             [
              0.5555555555555556,
              "#d8576b"
             ],
             [
              0.6666666666666666,
              "#ed7953"
             ],
             [
              0.7777777777777778,
              "#fb9f3a"
             ],
             [
              0.8888888888888888,
              "#fdca26"
             ],
             [
              1,
              "#f0f921"
             ]
            ],
            "type": "contour"
           }
          ],
          "contourcarpet": [
           {
            "colorbar": {
             "outlinewidth": 0,
             "ticks": ""
            },
            "type": "contourcarpet"
           }
          ],
          "heatmap": [
           {
            "colorbar": {
             "outlinewidth": 0,
             "ticks": ""
            },
            "colorscale": [
             [
              0,
              "#0d0887"
             ],
             [
              0.1111111111111111,
              "#46039f"
             ],
             [
              0.2222222222222222,
              "#7201a8"
             ],
             [
              0.3333333333333333,
              "#9c179e"
             ],
             [
              0.4444444444444444,
              "#bd3786"
             ],
             [
              0.5555555555555556,
              "#d8576b"
             ],
             [
              0.6666666666666666,
              "#ed7953"
             ],
             [
              0.7777777777777778,
              "#fb9f3a"
             ],
             [
              0.8888888888888888,
              "#fdca26"
             ],
             [
              1,
              "#f0f921"
             ]
            ],
            "type": "heatmap"
           }
          ],
          "heatmapgl": [
           {
            "colorbar": {
             "outlinewidth": 0,
             "ticks": ""
            },
            "colorscale": [
             [
              0,
              "#0d0887"
             ],
             [
              0.1111111111111111,
              "#46039f"
             ],
             [
              0.2222222222222222,
              "#7201a8"
             ],
             [
              0.3333333333333333,
              "#9c179e"
             ],
             [
              0.4444444444444444,
              "#bd3786"
             ],
             [
              0.5555555555555556,
              "#d8576b"
             ],
             [
              0.6666666666666666,
              "#ed7953"
             ],
             [
              0.7777777777777778,
              "#fb9f3a"
             ],
             [
              0.8888888888888888,
              "#fdca26"
             ],
             [
              1,
              "#f0f921"
             ]
            ],
            "type": "heatmapgl"
           }
          ],
          "histogram": [
           {
            "marker": {
             "pattern": {
              "fillmode": "overlay",
              "size": 10,
              "solidity": 0.2
             }
            },
            "type": "histogram"
           }
          ],
          "histogram2d": [
           {
            "colorbar": {
             "outlinewidth": 0,
             "ticks": ""
            },
            "colorscale": [
             [
              0,
              "#0d0887"
             ],
             [
              0.1111111111111111,
              "#46039f"
             ],
             [
              0.2222222222222222,
              "#7201a8"
             ],
             [
              0.3333333333333333,
              "#9c179e"
             ],
             [
              0.4444444444444444,
              "#bd3786"
             ],
             [
              0.5555555555555556,
              "#d8576b"
             ],
             [
              0.6666666666666666,
              "#ed7953"
             ],
             [
              0.7777777777777778,
              "#fb9f3a"
             ],
             [
              0.8888888888888888,
              "#fdca26"
             ],
             [
              1,
              "#f0f921"
             ]
            ],
            "type": "histogram2d"
           }
          ],
          "histogram2dcontour": [
           {
            "colorbar": {
             "outlinewidth": 0,
             "ticks": ""
            },
            "colorscale": [
             [
              0,
              "#0d0887"
             ],
             [
              0.1111111111111111,
              "#46039f"
             ],
             [
              0.2222222222222222,
              "#7201a8"
             ],
             [
              0.3333333333333333,
              "#9c179e"
             ],
             [
              0.4444444444444444,
              "#bd3786"
             ],
             [
              0.5555555555555556,
              "#d8576b"
             ],
             [
              0.6666666666666666,
              "#ed7953"
             ],
             [
              0.7777777777777778,
              "#fb9f3a"
             ],
             [
              0.8888888888888888,
              "#fdca26"
             ],
             [
              1,
              "#f0f921"
             ]
            ],
            "type": "histogram2dcontour"
           }
          ],
          "mesh3d": [
           {
            "colorbar": {
             "outlinewidth": 0,
             "ticks": ""
            },
            "type": "mesh3d"
           }
          ],
          "parcoords": [
           {
            "line": {
             "colorbar": {
              "outlinewidth": 0,
              "ticks": ""
             }
            },
            "type": "parcoords"
           }
          ],
          "pie": [
           {
            "automargin": true,
            "type": "pie"
           }
          ],
          "scatter": [
           {
            "marker": {
             "colorbar": {
              "outlinewidth": 0,
              "ticks": ""
             }
            },
            "type": "scatter"
           }
          ],
          "scatter3d": [
           {
            "line": {
             "colorbar": {
              "outlinewidth": 0,
              "ticks": ""
             }
            },
            "marker": {
             "colorbar": {
              "outlinewidth": 0,
              "ticks": ""
             }
            },
            "type": "scatter3d"
           }
          ],
          "scattercarpet": [
           {
            "marker": {
             "colorbar": {
              "outlinewidth": 0,
              "ticks": ""
             }
            },
            "type": "scattercarpet"
           }
          ],
          "scattergeo": [
           {
            "marker": {
             "colorbar": {
              "outlinewidth": 0,
              "ticks": ""
             }
            },
            "type": "scattergeo"
           }
          ],
          "scattergl": [
           {
            "marker": {
             "colorbar": {
              "outlinewidth": 0,
              "ticks": ""
             }
            },
            "type": "scattergl"
           }
          ],
          "scattermapbox": [
           {
            "marker": {
             "colorbar": {
              "outlinewidth": 0,
              "ticks": ""
             }
            },
            "type": "scattermapbox"
           }
          ],
          "scatterpolar": [
           {
            "marker": {
             "colorbar": {
              "outlinewidth": 0,
              "ticks": ""
             }
            },
            "type": "scatterpolar"
           }
          ],
          "scatterpolargl": [
           {
            "marker": {
             "colorbar": {
              "outlinewidth": 0,
              "ticks": ""
             }
            },
            "type": "scatterpolargl"
           }
          ],
          "scatterternary": [
           {
            "marker": {
             "colorbar": {
              "outlinewidth": 0,
              "ticks": ""
             }
            },
            "type": "scatterternary"
           }
          ],
          "surface": [
           {
            "colorbar": {
             "outlinewidth": 0,
             "ticks": ""
            },
            "colorscale": [
             [
              0,
              "#0d0887"
             ],
             [
              0.1111111111111111,
              "#46039f"
             ],
             [
              0.2222222222222222,
              "#7201a8"
             ],
             [
              0.3333333333333333,
              "#9c179e"
             ],
             [
              0.4444444444444444,
              "#bd3786"
             ],
             [
              0.5555555555555556,
              "#d8576b"
             ],
             [
              0.6666666666666666,
              "#ed7953"
             ],
             [
              0.7777777777777778,
              "#fb9f3a"
             ],
             [
              0.8888888888888888,
              "#fdca26"
             ],
             [
              1,
              "#f0f921"
             ]
            ],
            "type": "surface"
           }
          ],
          "table": [
           {
            "cells": {
             "fill": {
              "color": "#EBF0F8"
             },
             "line": {
              "color": "white"
             }
            },
            "header": {
             "fill": {
              "color": "#C8D4E3"
             },
             "line": {
              "color": "white"
             }
            },
            "type": "table"
           }
          ]
         },
         "layout": {
          "annotationdefaults": {
           "arrowcolor": "#2a3f5f",
           "arrowhead": 0,
           "arrowwidth": 1
          },
          "autotypenumbers": "strict",
          "coloraxis": {
           "colorbar": {
            "outlinewidth": 0,
            "ticks": ""
           }
          },
          "colorscale": {
           "diverging": [
            [
             0,
             "#8e0152"
            ],
            [
             0.1,
             "#c51b7d"
            ],
            [
             0.2,
             "#de77ae"
            ],
            [
             0.3,
             "#f1b6da"
            ],
            [
             0.4,
             "#fde0ef"
            ],
            [
             0.5,
             "#f7f7f7"
            ],
            [
             0.6,
             "#e6f5d0"
            ],
            [
             0.7,
             "#b8e186"
            ],
            [
             0.8,
             "#7fbc41"
            ],
            [
             0.9,
             "#4d9221"
            ],
            [
             1,
             "#276419"
            ]
           ],
           "sequential": [
            [
             0,
             "#0d0887"
            ],
            [
             0.1111111111111111,
             "#46039f"
            ],
            [
             0.2222222222222222,
             "#7201a8"
            ],
            [
             0.3333333333333333,
             "#9c179e"
            ],
            [
             0.4444444444444444,
             "#bd3786"
            ],
            [
             0.5555555555555556,
             "#d8576b"
            ],
            [
             0.6666666666666666,
             "#ed7953"
            ],
            [
             0.7777777777777778,
             "#fb9f3a"
            ],
            [
             0.8888888888888888,
             "#fdca26"
            ],
            [
             1,
             "#f0f921"
            ]
           ],
           "sequentialminus": [
            [
             0,
             "#0d0887"
            ],
            [
             0.1111111111111111,
             "#46039f"
            ],
            [
             0.2222222222222222,
             "#7201a8"
            ],
            [
             0.3333333333333333,
             "#9c179e"
            ],
            [
             0.4444444444444444,
             "#bd3786"
            ],
            [
             0.5555555555555556,
             "#d8576b"
            ],
            [
             0.6666666666666666,
             "#ed7953"
            ],
            [
             0.7777777777777778,
             "#fb9f3a"
            ],
            [
             0.8888888888888888,
             "#fdca26"
            ],
            [
             1,
             "#f0f921"
            ]
           ]
          },
          "colorway": [
           "#636efa",
           "#EF553B",
           "#00cc96",
           "#ab63fa",
           "#FFA15A",
           "#19d3f3",
           "#FF6692",
           "#B6E880",
           "#FF97FF",
           "#FECB52"
          ],
          "font": {
           "color": "#2a3f5f"
          },
          "geo": {
           "bgcolor": "white",
           "lakecolor": "white",
           "landcolor": "#E5ECF6",
           "showlakes": true,
           "showland": true,
           "subunitcolor": "white"
          },
          "hoverlabel": {
           "align": "left"
          },
          "hovermode": "closest",
          "mapbox": {
           "style": "light"
          },
          "paper_bgcolor": "white",
          "plot_bgcolor": "#E5ECF6",
          "polar": {
           "angularaxis": {
            "gridcolor": "white",
            "linecolor": "white",
            "ticks": ""
           },
           "bgcolor": "#E5ECF6",
           "radialaxis": {
            "gridcolor": "white",
            "linecolor": "white",
            "ticks": ""
           }
          },
          "scene": {
           "xaxis": {
            "backgroundcolor": "#E5ECF6",
            "gridcolor": "white",
            "gridwidth": 2,
            "linecolor": "white",
            "showbackground": true,
            "ticks": "",
            "zerolinecolor": "white"
           },
           "yaxis": {
            "backgroundcolor": "#E5ECF6",
            "gridcolor": "white",
            "gridwidth": 2,
            "linecolor": "white",
            "showbackground": true,
            "ticks": "",
            "zerolinecolor": "white"
           },
           "zaxis": {
            "backgroundcolor": "#E5ECF6",
            "gridcolor": "white",
            "gridwidth": 2,
            "linecolor": "white",
            "showbackground": true,
            "ticks": "",
            "zerolinecolor": "white"
           }
          },
          "shapedefaults": {
           "line": {
            "color": "#2a3f5f"
           }
          },
          "ternary": {
           "aaxis": {
            "gridcolor": "white",
            "linecolor": "white",
            "ticks": ""
           },
           "baxis": {
            "gridcolor": "white",
            "linecolor": "white",
            "ticks": ""
           },
           "bgcolor": "#E5ECF6",
           "caxis": {
            "gridcolor": "white",
            "linecolor": "white",
            "ticks": ""
           }
          },
          "title": {
           "x": 0.05
          },
          "xaxis": {
           "automargin": true,
           "gridcolor": "white",
           "linecolor": "white",
           "ticks": "",
           "title": {
            "standoff": 15
           },
           "zerolinecolor": "white",
           "zerolinewidth": 2
          },
          "yaxis": {
           "automargin": true,
           "gridcolor": "white",
           "linecolor": "white",
           "ticks": "",
           "title": {
            "standoff": 15
           },
           "zerolinecolor": "white",
           "zerolinewidth": 2
          }
         }
        },
        "title": {
         "font": {
          "size": 15
         },
         "text": "Mean accuracies and standard deviations in Statlog dataset (10 iterations / k)"
        },
        "width": 800,
        "xaxis": {
         "title": {
          "text": "k (number of clusters)"
         }
        },
        "yaxis": {
         "title": {
          "text": "Acurracy"
         }
        }
       }
      }
     },
     "metadata": {}
    }
   ],
   "source": [
    "fig = utils.plot_accuracy_std((1,20), accs_test, stds_test, ['Diff radius', 'Same radius'],\n",
    "                              'in Statlog dataset (10 iterations / k)')\n",
    "fig.update_yaxes(title = 'Acurracy')\n",
    "fig.update_xaxes(title = 'k (number of clusters)')\n",
    "fig.show(width = 800, heigth = 500)"
   ]
  },
  {
   "cell_type": "code",
   "execution_count": 37,
   "metadata": {},
   "outputs": [],
   "source": [
    "from sklearn.datasets import load_iris\n",
    "\n",
    "iris = load_iris()\n",
    "X_samples = iris['data']\n",
    "y_sample = np.reshape(iris['target'], (-1,1))\n",
    "#ignored_idx = [2,3,9,11,12,13,14,18,19,22,23]\n",
    "\n",
    "#X = utils.delete_features(X_samples, ignored_idx)\n",
    "y_sample[y_sample == 2] = 1\n",
    "y_sample[y_sample == 0] = -1\n",
    "X = X_samples.copy()\n",
    "#X_mean = np.mean(X, axis = 0)\n",
    "#X_std = np.std(X, axis = 0)\n",
    "#X = utils.normalize_features(X, X_mean, X_std)"
   ]
  },
  {
   "cell_type": "code",
   "execution_count": 38,
   "metadata": {},
   "outputs": [],
   "source": [
    "from rbf.km_rbf import km_rbf\n",
    "accs, stds = [], []\n",
    "for p in range(1,20):\n",
    "    acc, acct = [], []\n",
    "    for _ in range(10):\n",
    "        x_train, x_test, y_train, y_test = utils.split_set(X, y_sample)\n",
    "        km = km_rbf(x_train, y_train, p)\n",
    "        y_hat_train = np.sign(km.eval(x_train))\n",
    "        y_hat_test = np.sign(km.eval(x_test))\n",
    "        acc.append(utils.eval_accuracy(y_hat_train, y_train, 1))\n",
    "        acct.append(utils.eval_accuracy(y_hat_test, y_test, 1))\n",
    "    #print(acc)\n",
    "    #print(acct)\n",
    "    accs.append((np.mean(acc), np.mean(acct)))\n",
    "    #accs[0,1].append(np.mean(acct))\n",
    "    stds.append((np.std(acc), np.std(acct)))\n",
    "accs = (tuple(map(list, zip(*accs))),)\n",
    "stds = (tuple(map(list, zip(*stds))), )"
   ]
  },
  {
   "cell_type": "code",
   "execution_count": 49,
   "metadata": {},
   "outputs": [
    {
     "output_type": "stream",
     "name": "stdout",
     "text": [
      "1\n",
      "2\n",
      "3\n",
      "4\n",
      "5\n"
     ]
    }
   ],
   "source": [
    "from rbf.rnd_rbf import rnd_rbf\n",
    "accs_2, stds_2 = [], []\n",
    "for p in range(1,6):\n",
    "    print(p)\n",
    "    acc, acct = [], []\n",
    "    for _ in range(10):\n",
    "        x_train, x_test, y_train, y_test = utils.split_set(X, y_sample)\n",
    "        km = rbfrnd = rnd_rbf(x_train, y_train, p, 'supremum', same_radii = False, mean = True)\n",
    "        y_hat_train = np.sign(km.eval(x_train))\n",
    "        y_hat_test = np.sign(km.eval(x_test))\n",
    "        acc.append(utils.eval_accuracy(y_hat_train, y_train, 1))\n",
    "        acct.append(utils.eval_accuracy(y_hat_test, y_test, 1))\n",
    "    #print(acc)\n",
    "    #print(acct)\n",
    "    accs_2.append((np.mean(acc), np.mean(acct)))\n",
    "    #accs[0,1].append(np.mean(acct))\n",
    "    stds_2.append((np.std(acc), np.std(acct)))\n",
    "accs_2 = (tuple(map(list, zip(*accs_2))),)\n",
    "stds_2 = (tuple(map(list, zip(*stds_2))), )"
   ]
  },
  {
   "cell_type": "code",
   "execution_count": 57,
   "metadata": {},
   "outputs": [
    {
     "output_type": "stream",
     "name": "stdout",
     "text": [
      "1\n",
      "2\n",
      "3\n",
      "4\n",
      "5\n",
      "6\n",
      "7\n",
      "8\n",
      "9\n",
      "10\n",
      "11\n",
      "12\n",
      "13\n",
      "14\n",
      "15\n",
      "16\n",
      "17\n",
      "18\n",
      "19\n"
     ]
    }
   ],
   "source": [
    "accs_3, stds_3 = [], []\n",
    "for p in range(1,20):\n",
    "    print(p)\n",
    "    acc, acct = [], []\n",
    "    for _ in range(10):\n",
    "        x_train, x_test, y_train, y_test = utils.split_set(X, y_sample)\n",
    "        km = rbfrnd = rnd_rbf(x_train, y_train, p, 'supremum', same_radii = True, mean = True)\n",
    "        y_hat_train = np.sign(km.eval(x_train))\n",
    "        y_hat_test = np.sign(km.eval(x_test))\n",
    "        acc.append(utils.eval_accuracy(y_hat_train, y_train, 1))\n",
    "        acct.append(utils.eval_accuracy(y_hat_test, y_test, 1))\n",
    "    #print(acc)\n",
    "    #print(acct)\n",
    "    accs_3.append((np.mean(acc), np.mean(acct)))\n",
    "    #accs[0,1].append(np.mean(acct))\n",
    "    stds_3.append((np.std(acc), np.std(acct)))\n",
    "accs_3 = (tuple(map(list, zip(*accs_3))),)\n",
    "stds_3 = (tuple(map(list, zip(*stds_3))), )"
   ]
  },
  {
   "cell_type": "code",
   "execution_count": 59,
   "metadata": {},
   "outputs": [],
   "source": [
    "accs_test = accs_2 + accs_3\n",
    "stds_test = stds_2 + stds_3"
   ]
  },
  {
   "cell_type": "code",
   "execution_count": 63,
   "metadata": {},
   "outputs": [
    {
     "output_type": "stream",
     "name": "stdout",
     "text": [
      "Diff radius\nSame radius\n"
     ]
    },
    {
     "output_type": "display_data",
     "data": {
      "application/vnd.plotly.v1+json": {
       "config": {
        "plotlyServerURL": "https://plot.ly"
       },
       "data": [
        {
         "error_y": {
          "array": [
           0.03837988891354263,
           0.014630753805464034,
           0.02,
           0.005714285714285727,
           0.006098213559459864
          ],
          "thickness": 0.7,
          "type": "data",
          "visible": true
         },
         "name": "Diff radius (train)",
         "type": "scatter",
         "x": [
          1,
          2,
          3,
          4,
          5,
          6,
          7,
          8,
          9
         ],
         "y": [
          0.9485714285714286,
          0.9923809523809524,
          0.9838095238095239,
          0.9980952380952381,
          0.9971428571428571
         ]
        },
        {
         "error_y": {
          "array": [
           0.03718489006818112,
           0.017777777777777767,
           0.018459164139817928,
           0.014907119849998594,
           0.014740554623801772
          ],
          "thickness": 0.7,
          "type": "data",
          "visible": true
         },
         "name": "Diff radius (test)",
         "type": "scatter",
         "x": [
          1,
          2,
          3,
          4,
          5,
          6,
          7,
          8,
          9
         ],
         "y": [
          0.9555555555555555,
          0.9866666666666667,
          0.9800000000000001,
          0.9888888888888889,
          0.9911111111111112
         ]
        },
        {
         "error_y": {
          "array": [
           0.004761904761904745,
           0.038756171332144394,
           0.0974039441946331,
           0.030787104524275445,
           0.002857142857142847,
           0.002857142857142847,
           0.002857142857142847,
           0.002857142857142847,
           0,
           0.002857142857142847,
           0,
           0,
           0,
           0,
           0.011428571428571422,
           0,
           0,
           0,
           0
          ],
          "thickness": 0.7,
          "type": "data",
          "visible": true
         },
         "name": "Same radius (train)",
         "type": "scatter",
         "x": [
          1,
          2,
          3,
          4,
          5,
          6,
          7,
          8,
          9
         ],
         "y": [
          0.6714285714285715,
          0.9790476190476192,
          0.9523809523809523,
          0.9857142857142858,
          0.9990476190476191,
          0.9990476190476191,
          0.9990476190476191,
          0.9990476190476191,
          1,
          0.9990476190476191,
          1,
          1,
          1,
          1,
          0.9961904761904762,
          1,
          1,
          1,
          1
         ]
        },
        {
         "error_y": {
          "array": [
           0,
           0.033628324334270134,
           0.09739825333693833,
           0.039752319599996255,
           0.006666666666666676,
           0.006666666666666676,
           0,
           0,
           0,
           0,
           0.006666666666666676,
           0,
           0.006666666666666676,
           0.006666666666666676,
           0.006666666666666676,
           0.006666666666666676,
           0,
           0,
           0
          ],
          "thickness": 0.7,
          "type": "data",
          "visible": true
         },
         "name": "Same radius (test)",
         "type": "scatter",
         "x": [
          1,
          2,
          3,
          4,
          5,
          6,
          7,
          8,
          9
         ],
         "y": [
          0.6666666666666667,
          0.9800000000000001,
          0.9400000000000001,
          0.9777777777777779,
          0.9977777777777778,
          0.9977777777777778,
          1,
          1,
          1,
          1,
          0.9977777777777778,
          1,
          0.9977777777777778,
          0.9977777777777778,
          0.9977777777777778,
          0.9977777777777778,
          1,
          1,
          1
         ]
        }
       ],
       "layout": {
        "height": 500,
        "template": {
         "data": {
          "bar": [
           {
            "error_x": {
             "color": "#2a3f5f"
            },
            "error_y": {
             "color": "#2a3f5f"
            },
            "marker": {
             "line": {
              "color": "#E5ECF6",
              "width": 0.5
             },
             "pattern": {
              "fillmode": "overlay",
              "size": 10,
              "solidity": 0.2
             }
            },
            "type": "bar"
           }
          ],
          "barpolar": [
           {
            "marker": {
             "line": {
              "color": "#E5ECF6",
              "width": 0.5
             },
             "pattern": {
              "fillmode": "overlay",
              "size": 10,
              "solidity": 0.2
             }
            },
            "type": "barpolar"
           }
          ],
          "carpet": [
           {
            "aaxis": {
             "endlinecolor": "#2a3f5f",
             "gridcolor": "white",
             "linecolor": "white",
             "minorgridcolor": "white",
             "startlinecolor": "#2a3f5f"
            },
            "baxis": {
             "endlinecolor": "#2a3f5f",
             "gridcolor": "white",
             "linecolor": "white",
             "minorgridcolor": "white",
             "startlinecolor": "#2a3f5f"
            },
            "type": "carpet"
           }
          ],
          "choropleth": [
           {
            "colorbar": {
             "outlinewidth": 0,
             "ticks": ""
            },
            "type": "choropleth"
           }
          ],
          "contour": [
           {
            "colorbar": {
             "outlinewidth": 0,
             "ticks": ""
            },
            "colorscale": [
             [
              0,
              "#0d0887"
             ],
             [
              0.1111111111111111,
              "#46039f"
             ],
             [
              0.2222222222222222,
              "#7201a8"
             ],
             [
              0.3333333333333333,
              "#9c179e"
             ],
             [
              0.4444444444444444,
              "#bd3786"
             ],
             [
              0.5555555555555556,
              "#d8576b"
             ],
             [
              0.6666666666666666,
              "#ed7953"
             ],
             [
              0.7777777777777778,
              "#fb9f3a"
             ],
             [
              0.8888888888888888,
              "#fdca26"
             ],
             [
              1,
              "#f0f921"
             ]
            ],
            "type": "contour"
           }
          ],
          "contourcarpet": [
           {
            "colorbar": {
             "outlinewidth": 0,
             "ticks": ""
            },
            "type": "contourcarpet"
           }
          ],
          "heatmap": [
           {
            "colorbar": {
             "outlinewidth": 0,
             "ticks": ""
            },
            "colorscale": [
             [
              0,
              "#0d0887"
             ],
             [
              0.1111111111111111,
              "#46039f"
             ],
             [
              0.2222222222222222,
              "#7201a8"
             ],
             [
              0.3333333333333333,
              "#9c179e"
             ],
             [
              0.4444444444444444,
              "#bd3786"
             ],
             [
              0.5555555555555556,
              "#d8576b"
             ],
             [
              0.6666666666666666,
              "#ed7953"
             ],
             [
              0.7777777777777778,
              "#fb9f3a"
             ],
             [
              0.8888888888888888,
              "#fdca26"
             ],
             [
              1,
              "#f0f921"
             ]
            ],
            "type": "heatmap"
           }
          ],
          "heatmapgl": [
           {
            "colorbar": {
             "outlinewidth": 0,
             "ticks": ""
            },
            "colorscale": [
             [
              0,
              "#0d0887"
             ],
             [
              0.1111111111111111,
              "#46039f"
             ],
             [
              0.2222222222222222,
              "#7201a8"
             ],
             [
              0.3333333333333333,
              "#9c179e"
             ],
             [
              0.4444444444444444,
              "#bd3786"
             ],
             [
              0.5555555555555556,
              "#d8576b"
             ],
             [
              0.6666666666666666,
              "#ed7953"
             ],
             [
              0.7777777777777778,
              "#fb9f3a"
             ],
             [
              0.8888888888888888,
              "#fdca26"
             ],
             [
              1,
              "#f0f921"
             ]
            ],
            "type": "heatmapgl"
           }
          ],
          "histogram": [
           {
            "marker": {
             "pattern": {
              "fillmode": "overlay",
              "size": 10,
              "solidity": 0.2
             }
            },
            "type": "histogram"
           }
          ],
          "histogram2d": [
           {
            "colorbar": {
             "outlinewidth": 0,
             "ticks": ""
            },
            "colorscale": [
             [
              0,
              "#0d0887"
             ],
             [
              0.1111111111111111,
              "#46039f"
             ],
             [
              0.2222222222222222,
              "#7201a8"
             ],
             [
              0.3333333333333333,
              "#9c179e"
             ],
             [
              0.4444444444444444,
              "#bd3786"
             ],
             [
              0.5555555555555556,
              "#d8576b"
             ],
             [
              0.6666666666666666,
              "#ed7953"
             ],
             [
              0.7777777777777778,
              "#fb9f3a"
             ],
             [
              0.8888888888888888,
              "#fdca26"
             ],
             [
              1,
              "#f0f921"
             ]
            ],
            "type": "histogram2d"
           }
          ],
          "histogram2dcontour": [
           {
            "colorbar": {
             "outlinewidth": 0,
             "ticks": ""
            },
            "colorscale": [
             [
              0,
              "#0d0887"
             ],
             [
              0.1111111111111111,
              "#46039f"
             ],
             [
              0.2222222222222222,
              "#7201a8"
             ],
             [
              0.3333333333333333,
              "#9c179e"
             ],
             [
              0.4444444444444444,
              "#bd3786"
             ],
             [
              0.5555555555555556,
              "#d8576b"
             ],
             [
              0.6666666666666666,
              "#ed7953"
             ],
             [
              0.7777777777777778,
              "#fb9f3a"
             ],
             [
              0.8888888888888888,
              "#fdca26"
             ],
             [
              1,
              "#f0f921"
             ]
            ],
            "type": "histogram2dcontour"
           }
          ],
          "mesh3d": [
           {
            "colorbar": {
             "outlinewidth": 0,
             "ticks": ""
            },
            "type": "mesh3d"
           }
          ],
          "parcoords": [
           {
            "line": {
             "colorbar": {
              "outlinewidth": 0,
              "ticks": ""
             }
            },
            "type": "parcoords"
           }
          ],
          "pie": [
           {
            "automargin": true,
            "type": "pie"
           }
          ],
          "scatter": [
           {
            "marker": {
             "colorbar": {
              "outlinewidth": 0,
              "ticks": ""
             }
            },
            "type": "scatter"
           }
          ],
          "scatter3d": [
           {
            "line": {
             "colorbar": {
              "outlinewidth": 0,
              "ticks": ""
             }
            },
            "marker": {
             "colorbar": {
              "outlinewidth": 0,
              "ticks": ""
             }
            },
            "type": "scatter3d"
           }
          ],
          "scattercarpet": [
           {
            "marker": {
             "colorbar": {
              "outlinewidth": 0,
              "ticks": ""
             }
            },
            "type": "scattercarpet"
           }
          ],
          "scattergeo": [
           {
            "marker": {
             "colorbar": {
              "outlinewidth": 0,
              "ticks": ""
             }
            },
            "type": "scattergeo"
           }
          ],
          "scattergl": [
           {
            "marker": {
             "colorbar": {
              "outlinewidth": 0,
              "ticks": ""
             }
            },
            "type": "scattergl"
           }
          ],
          "scattermapbox": [
           {
            "marker": {
             "colorbar": {
              "outlinewidth": 0,
              "ticks": ""
             }
            },
            "type": "scattermapbox"
           }
          ],
          "scatterpolar": [
           {
            "marker": {
             "colorbar": {
              "outlinewidth": 0,
              "ticks": ""
             }
            },
            "type": "scatterpolar"
           }
          ],
          "scatterpolargl": [
           {
            "marker": {
             "colorbar": {
              "outlinewidth": 0,
              "ticks": ""
             }
            },
            "type": "scatterpolargl"
           }
          ],
          "scatterternary": [
           {
            "marker": {
             "colorbar": {
              "outlinewidth": 0,
              "ticks": ""
             }
            },
            "type": "scatterternary"
           }
          ],
          "surface": [
           {
            "colorbar": {
             "outlinewidth": 0,
             "ticks": ""
            },
            "colorscale": [
             [
              0,
              "#0d0887"
             ],
             [
              0.1111111111111111,
              "#46039f"
             ],
             [
              0.2222222222222222,
              "#7201a8"
             ],
             [
              0.3333333333333333,
              "#9c179e"
             ],
             [
              0.4444444444444444,
              "#bd3786"
             ],
             [
              0.5555555555555556,
              "#d8576b"
             ],
             [
              0.6666666666666666,
              "#ed7953"
             ],
             [
              0.7777777777777778,
              "#fb9f3a"
             ],
             [
              0.8888888888888888,
              "#fdca26"
             ],
             [
              1,
              "#f0f921"
             ]
            ],
            "type": "surface"
           }
          ],
          "table": [
           {
            "cells": {
             "fill": {
              "color": "#EBF0F8"
             },
             "line": {
              "color": "white"
             }
            },
            "header": {
             "fill": {
              "color": "#C8D4E3"
             },
             "line": {
              "color": "white"
             }
            },
            "type": "table"
           }
          ]
         },
         "layout": {
          "annotationdefaults": {
           "arrowcolor": "#2a3f5f",
           "arrowhead": 0,
           "arrowwidth": 1
          },
          "autotypenumbers": "strict",
          "coloraxis": {
           "colorbar": {
            "outlinewidth": 0,
            "ticks": ""
           }
          },
          "colorscale": {
           "diverging": [
            [
             0,
             "#8e0152"
            ],
            [
             0.1,
             "#c51b7d"
            ],
            [
             0.2,
             "#de77ae"
            ],
            [
             0.3,
             "#f1b6da"
            ],
            [
             0.4,
             "#fde0ef"
            ],
            [
             0.5,
             "#f7f7f7"
            ],
            [
             0.6,
             "#e6f5d0"
            ],
            [
             0.7,
             "#b8e186"
            ],
            [
             0.8,
             "#7fbc41"
            ],
            [
             0.9,
             "#4d9221"
            ],
            [
             1,
             "#276419"
            ]
           ],
           "sequential": [
            [
             0,
             "#0d0887"
            ],
            [
             0.1111111111111111,
             "#46039f"
            ],
            [
             0.2222222222222222,
             "#7201a8"
            ],
            [
             0.3333333333333333,
             "#9c179e"
            ],
            [
             0.4444444444444444,
             "#bd3786"
            ],
            [
             0.5555555555555556,
             "#d8576b"
            ],
            [
             0.6666666666666666,
             "#ed7953"
            ],
            [
             0.7777777777777778,
             "#fb9f3a"
            ],
            [
             0.8888888888888888,
             "#fdca26"
            ],
            [
             1,
             "#f0f921"
            ]
           ],
           "sequentialminus": [
            [
             0,
             "#0d0887"
            ],
            [
             0.1111111111111111,
             "#46039f"
            ],
            [
             0.2222222222222222,
             "#7201a8"
            ],
            [
             0.3333333333333333,
             "#9c179e"
            ],
            [
             0.4444444444444444,
             "#bd3786"
            ],
            [
             0.5555555555555556,
             "#d8576b"
            ],
            [
             0.6666666666666666,
             "#ed7953"
            ],
            [
             0.7777777777777778,
             "#fb9f3a"
            ],
            [
             0.8888888888888888,
             "#fdca26"
            ],
            [
             1,
             "#f0f921"
            ]
           ]
          },
          "colorway": [
           "#636efa",
           "#EF553B",
           "#00cc96",
           "#ab63fa",
           "#FFA15A",
           "#19d3f3",
           "#FF6692",
           "#B6E880",
           "#FF97FF",
           "#FECB52"
          ],
          "font": {
           "color": "#2a3f5f"
          },
          "geo": {
           "bgcolor": "white",
           "lakecolor": "white",
           "landcolor": "#E5ECF6",
           "showlakes": true,
           "showland": true,
           "subunitcolor": "white"
          },
          "hoverlabel": {
           "align": "left"
          },
          "hovermode": "closest",
          "mapbox": {
           "style": "light"
          },
          "paper_bgcolor": "white",
          "plot_bgcolor": "#E5ECF6",
          "polar": {
           "angularaxis": {
            "gridcolor": "white",
            "linecolor": "white",
            "ticks": ""
           },
           "bgcolor": "#E5ECF6",
           "radialaxis": {
            "gridcolor": "white",
            "linecolor": "white",
            "ticks": ""
           }
          },
          "scene": {
           "xaxis": {
            "backgroundcolor": "#E5ECF6",
            "gridcolor": "white",
            "gridwidth": 2,
            "linecolor": "white",
            "showbackground": true,
            "ticks": "",
            "zerolinecolor": "white"
           },
           "yaxis": {
            "backgroundcolor": "#E5ECF6",
            "gridcolor": "white",
            "gridwidth": 2,
            "linecolor": "white",
            "showbackground": true,
            "ticks": "",
            "zerolinecolor": "white"
           },
           "zaxis": {
            "backgroundcolor": "#E5ECF6",
            "gridcolor": "white",
            "gridwidth": 2,
            "linecolor": "white",
            "showbackground": true,
            "ticks": "",
            "zerolinecolor": "white"
           }
          },
          "shapedefaults": {
           "line": {
            "color": "#2a3f5f"
           }
          },
          "ternary": {
           "aaxis": {
            "gridcolor": "white",
            "linecolor": "white",
            "ticks": ""
           },
           "baxis": {
            "gridcolor": "white",
            "linecolor": "white",
            "ticks": ""
           },
           "bgcolor": "#E5ECF6",
           "caxis": {
            "gridcolor": "white",
            "linecolor": "white",
            "ticks": ""
           }
          },
          "title": {
           "x": 0.05
          },
          "xaxis": {
           "automargin": true,
           "gridcolor": "white",
           "linecolor": "white",
           "ticks": "",
           "title": {
            "standoff": 15
           },
           "zerolinecolor": "white",
           "zerolinewidth": 2
          },
          "yaxis": {
           "automargin": true,
           "gridcolor": "white",
           "linecolor": "white",
           "ticks": "",
           "title": {
            "standoff": 15
           },
           "zerolinecolor": "white",
           "zerolinewidth": 2
          }
         }
        },
        "title": {
         "font": {
          "size": 15
         },
         "text": "Mean accuracies and standard deviations in Iris dataset (10 iterations / k)"
        },
        "width": 800,
        "xaxis": {
         "title": {
          "text": "k (number of clusters)"
         }
        },
        "yaxis": {
         "title": {
          "text": "Acurracy"
         }
        }
       }
      }
     },
     "metadata": {}
    }
   ],
   "source": [
    "fig = utils.plot_accuracy_std((1,10), accs_test, stds_test, ['Diff radius', 'Same radius'],\n",
    "                              'in Iris dataset (10 iterations / k)')\n",
    "fig.update_yaxes(title = 'Acurracy')\n",
    "fig.update_xaxes(title = 'k (number of clusters)')\n",
    "fig.show(width = 800, heigth = 500)"
   ]
  },
  {
   "cell_type": "code",
   "execution_count": 2,
   "metadata": {},
   "outputs": [],
   "source": [
    "from sklearn.datasets import load_digits\n",
    "\n",
    "digits = load_digits()\n",
    "X_samples = digits['data']\n",
    "y_sample = np.array([x%2 for x in digits['target']]).reshape((-1, 1))\n",
    "y_sample[y_sample == 0] = -1\n",
    "X = X_samples.copy()"
   ]
  },
  {
   "cell_type": "code",
   "execution_count": 3,
   "metadata": {},
   "outputs": [
    {
     "output_type": "stream",
     "name": "stdout",
     "text": [
      "1\n",
      "2\n",
      "3\n",
      "4\n",
      "5\n",
      "6\n",
      "7\n",
      "8\n",
      "9\n",
      "10\n",
      "11\n",
      "12\n",
      "13\n",
      "14\n",
      "15\n",
      "16\n",
      "17\n",
      "18\n",
      "19\n"
     ]
    }
   ],
   "source": [
    "from rbf.km_rbf import km_rbf\n",
    "accs, stds = [], []\n",
    "for p in range(1,20):\n",
    "    print(p)\n",
    "    acc, acct = [], []\n",
    "    for _ in range(10):\n",
    "        x_train, x_test, y_train, y_test = utils.split_set(X, y_sample)\n",
    "        km = km_rbf(x_train, y_train, p)\n",
    "        y_hat_train = np.sign(km.eval(x_train))\n",
    "        y_hat_test = np.sign(km.eval(x_test))\n",
    "        acc.append(utils.eval_accuracy(y_hat_train, y_train, 1))\n",
    "        acct.append(utils.eval_accuracy(y_hat_test, y_test, 1))\n",
    "    #print(acc)\n",
    "    #print(acct)\n",
    "    accs.append((np.mean(acc), np.mean(acct)))\n",
    "    #accs[0,1].append(np.mean(acct))\n",
    "    stds.append((np.std(acc), np.std(acct)))\n",
    "accs = (tuple(map(list, zip(*accs))),)\n",
    "stds = (tuple(map(list, zip(*stds))), )"
   ]
  },
  {
   "cell_type": "code",
   "execution_count": 4,
   "metadata": {},
   "outputs": [
    {
     "output_type": "stream",
     "name": "stdout",
     "text": [
      "1\n",
      "2\n",
      "3\n",
      "4\n",
      "5\n",
      "6\n",
      "7\n",
      "8\n",
      "9\n",
      "10\n",
      "11\n",
      "12\n",
      "13\n",
      "14\n",
      "15\n",
      "16\n",
      "17\n",
      "18\n",
      "19\n"
     ]
    }
   ],
   "source": [
    "from rbf.rnd_rbf import rnd_rbf\n",
    "accs_2, stds_2 = [], []\n",
    "for p in range(1,20):\n",
    "    print(p)\n",
    "    acc, acct = [], []\n",
    "    for _ in range(10):\n",
    "        x_train, x_test, y_train, y_test = utils.split_set(X, y_sample)\n",
    "        km = rbfrnd = rnd_rbf(x_train, y_train, p, 'supremum', same_radii = False, mean = True)\n",
    "        y_hat_train = np.sign(km.eval(x_train))\n",
    "        y_hat_test = np.sign(km.eval(x_test))\n",
    "        acc.append(utils.eval_accuracy(y_hat_train, y_train, 1))\n",
    "        acct.append(utils.eval_accuracy(y_hat_test, y_test, 1))\n",
    "    #print(acc)\n",
    "    #print(acct)\n",
    "    accs_2.append((np.mean(acc), np.mean(acct)))\n",
    "    #accs[0,1].append(np.mean(acct))\n",
    "    stds_2.append((np.std(acc), np.std(acct)))\n",
    "accs_2 = (tuple(map(list, zip(*accs_2))),)\n",
    "stds_2 = (tuple(map(list, zip(*stds_2))), )"
   ]
  },
  {
   "cell_type": "code",
   "execution_count": 7,
   "metadata": {},
   "outputs": [
    {
     "output_type": "stream",
     "name": "stdout",
     "text": [
      "1\n",
      "2\n",
      "3\n",
      "4\n",
      "5\n",
      "6\n",
      "7\n",
      "8\n",
      "9\n",
      "10\n",
      "11\n",
      "12\n",
      "13\n",
      "14\n",
      "15\n",
      "16\n",
      "17\n",
      "18\n",
      "19\n"
     ]
    }
   ],
   "source": [
    "accs_3, stds_3 = [], []\n",
    "for p in range(1,20):\n",
    "    print(p)\n",
    "    acc, acct = [], []\n",
    "    for _ in range(10):\n",
    "        x_train, x_test, y_train, y_test = utils.split_set(X, y_sample)\n",
    "        km = rbfrnd = rnd_rbf(x_train, y_train, p, 'supremum', same_radii = True, mean = True)\n",
    "        y_hat_train = np.sign(km.eval(x_train))\n",
    "        y_hat_test = np.sign(km.eval(x_test))\n",
    "        acc.append(utils.eval_accuracy(y_hat_train, y_train, 1))\n",
    "        acct.append(utils.eval_accuracy(y_hat_test, y_test, 1))\n",
    "    #print(acc)\n",
    "    #print(acct)\n",
    "    accs_3.append((np.mean(acc), np.mean(acct)))\n",
    "    #accs[0,1].append(np.mean(acct))\n",
    "    stds_3.append((np.std(acc), np.std(acct)))\n",
    "accs_3 = (tuple(map(list, zip(*accs_3))),)\n",
    "stds_3 = (tuple(map(list, zip(*stds_3))), )"
   ]
  },
  {
   "cell_type": "code",
   "execution_count": 8,
   "metadata": {},
   "outputs": [],
   "source": [
    "accs_test = accs_2  + accs_3\n",
    "stds_test = stds_2 + stds_3"
   ]
  },
  {
   "cell_type": "code",
   "execution_count": 9,
   "metadata": {},
   "outputs": [
    {
     "output_type": "stream",
     "name": "stdout",
     "text": [
      "Diff radius\nSame radius\n"
     ]
    },
    {
     "output_type": "display_data",
     "data": {
      "application/vnd.plotly.v1+json": {
       "config": {
        "plotlyServerURL": "https://plot.ly"
       },
       "data": [
        {
         "error_y": {
          "array": [
           0,
           0,
           0,
           0,
           0,
           0,
           0,
           0,
           0,
           0,
           0,
           0,
           0,
           0,
           0,
           0,
           0,
           0,
           0
          ],
          "thickness": 0.7,
          "type": "data",
          "visible": true
         },
         "name": "Diff radius (train)",
         "type": "scatter",
         "x": [
          1,
          2,
          3,
          4,
          5,
          6,
          7,
          8,
          9,
          10,
          11,
          12,
          13,
          14,
          15,
          16,
          17,
          18,
          19
         ],
         "y": [
          0.5039745627980923,
          0.5039745627980923,
          0.5039745627980923,
          0.5039745627980923,
          0.5039745627980923,
          0.5039745627980923,
          0.5039745627980923,
          0.5039745627980923,
          0.5039745627980923,
          0.5039745627980923,
          0.5039745627980923,
          0.5039745627980923,
          0.5039745627980923,
          0.5039745627980923,
          0.5039745627980923,
          0.5039745627980923,
          0.5039745627980923,
          0.5039745627980923,
          0.5039745627980923
         ]
        },
        {
         "error_y": {
          "array": [
           0,
           0,
           0,
           0,
           0,
           0,
           0,
           0,
           0,
           0,
           0,
           0,
           0,
           0,
           0,
           0,
           0,
           0,
           0
          ],
          "thickness": 0.7,
          "type": "data",
          "visible": true
         },
         "name": "Diff radius (test)",
         "type": "scatter",
         "x": [
          1,
          2,
          3,
          4,
          5,
          6,
          7,
          8,
          9,
          10,
          11,
          12,
          13,
          14,
          15,
          16,
          17,
          18,
          19
         ],
         "y": [
          0.5046382189239332,
          0.5046382189239332,
          0.5046382189239332,
          0.5046382189239332,
          0.5046382189239332,
          0.5046382189239332,
          0.5046382189239332,
          0.5046382189239332,
          0.5046382189239332,
          0.5046382189239332,
          0.5046382189239332,
          0.5046382189239332,
          0.5046382189239332,
          0.5046382189239332,
          0.5046382189239332,
          0.5046382189239332,
          0.5046382189239332,
          0.5046382189239332,
          0.5046382189239332
         ]
        },
        {
         "error_y": {
          "array": [
           0.0038942603223897985,
           0,
           0,
           0,
           0,
           0,
           0,
           0,
           0,
           0,
           0,
           0,
           0,
           0,
           0,
           0,
           0,
           0,
           0
          ],
          "thickness": 0.7,
          "type": "data",
          "visible": true
         },
         "name": "Same radius (train)",
         "type": "scatter",
         "x": [
          1,
          2,
          3,
          4,
          5,
          6,
          7,
          8,
          9,
          10,
          11,
          12,
          13,
          14,
          15,
          16,
          17,
          18,
          19
         ],
         "y": [
          0.4992050874403816,
          0.5039745627980923,
          0.5039745627980923,
          0.5039745627980923,
          0.5039745627980923,
          0.5039745627980923,
          0.5039745627980923,
          0.5039745627980923,
          0.5039745627980923,
          0.5039745627980923,
          0.5039745627980923,
          0.5039745627980923,
          0.5039745627980923,
          0.5039745627980923,
          0.5039745627980923,
          0.5039745627980923,
          0.5039745627980923,
          0.5039745627980923,
          0.5039745627980923
         ]
        },
        {
         "error_y": {
          "array": [
           0.004544507871582915,
           0,
           0,
           0,
           0,
           0,
           0,
           0,
           0,
           0,
           0,
           0,
           0,
           0,
           0,
           0,
           0,
           0,
           0
          ],
          "thickness": 0.7,
          "type": "data",
          "visible": true
         },
         "name": "Same radius (test)",
         "type": "scatter",
         "x": [
          1,
          2,
          3,
          4,
          5,
          6,
          7,
          8,
          9,
          10,
          11,
          12,
          13,
          14,
          15,
          16,
          17,
          18,
          19
         ],
         "y": [
          0.4990723562152134,
          0.5046382189239332,
          0.5046382189239332,
          0.5046382189239332,
          0.5046382189239332,
          0.5046382189239332,
          0.5046382189239332,
          0.5046382189239332,
          0.5046382189239332,
          0.5046382189239332,
          0.5046382189239332,
          0.5046382189239332,
          0.5046382189239332,
          0.5046382189239332,
          0.5046382189239332,
          0.5046382189239332,
          0.5046382189239332,
          0.5046382189239332,
          0.5046382189239332
         ]
        }
       ],
       "layout": {
        "height": 500,
        "template": {
         "data": {
          "bar": [
           {
            "error_x": {
             "color": "#2a3f5f"
            },
            "error_y": {
             "color": "#2a3f5f"
            },
            "marker": {
             "line": {
              "color": "#E5ECF6",
              "width": 0.5
             },
             "pattern": {
              "fillmode": "overlay",
              "size": 10,
              "solidity": 0.2
             }
            },
            "type": "bar"
           }
          ],
          "barpolar": [
           {
            "marker": {
             "line": {
              "color": "#E5ECF6",
              "width": 0.5
             },
             "pattern": {
              "fillmode": "overlay",
              "size": 10,
              "solidity": 0.2
             }
            },
            "type": "barpolar"
           }
          ],
          "carpet": [
           {
            "aaxis": {
             "endlinecolor": "#2a3f5f",
             "gridcolor": "white",
             "linecolor": "white",
             "minorgridcolor": "white",
             "startlinecolor": "#2a3f5f"
            },
            "baxis": {
             "endlinecolor": "#2a3f5f",
             "gridcolor": "white",
             "linecolor": "white",
             "minorgridcolor": "white",
             "startlinecolor": "#2a3f5f"
            },
            "type": "carpet"
           }
          ],
          "choropleth": [
           {
            "colorbar": {
             "outlinewidth": 0,
             "ticks": ""
            },
            "type": "choropleth"
           }
          ],
          "contour": [
           {
            "colorbar": {
             "outlinewidth": 0,
             "ticks": ""
            },
            "colorscale": [
             [
              0,
              "#0d0887"
             ],
             [
              0.1111111111111111,
              "#46039f"
             ],
             [
              0.2222222222222222,
              "#7201a8"
             ],
             [
              0.3333333333333333,
              "#9c179e"
             ],
             [
              0.4444444444444444,
              "#bd3786"
             ],
             [
              0.5555555555555556,
              "#d8576b"
             ],
             [
              0.6666666666666666,
              "#ed7953"
             ],
             [
              0.7777777777777778,
              "#fb9f3a"
             ],
             [
              0.8888888888888888,
              "#fdca26"
             ],
             [
              1,
              "#f0f921"
             ]
            ],
            "type": "contour"
           }
          ],
          "contourcarpet": [
           {
            "colorbar": {
             "outlinewidth": 0,
             "ticks": ""
            },
            "type": "contourcarpet"
           }
          ],
          "heatmap": [
           {
            "colorbar": {
             "outlinewidth": 0,
             "ticks": ""
            },
            "colorscale": [
             [
              0,
              "#0d0887"
             ],
             [
              0.1111111111111111,
              "#46039f"
             ],
             [
              0.2222222222222222,
              "#7201a8"
             ],
             [
              0.3333333333333333,
              "#9c179e"
             ],
             [
              0.4444444444444444,
              "#bd3786"
             ],
             [
              0.5555555555555556,
              "#d8576b"
             ],
             [
              0.6666666666666666,
              "#ed7953"
             ],
             [
              0.7777777777777778,
              "#fb9f3a"
             ],
             [
              0.8888888888888888,
              "#fdca26"
             ],
             [
              1,
              "#f0f921"
             ]
            ],
            "type": "heatmap"
           }
          ],
          "heatmapgl": [
           {
            "colorbar": {
             "outlinewidth": 0,
             "ticks": ""
            },
            "colorscale": [
             [
              0,
              "#0d0887"
             ],
             [
              0.1111111111111111,
              "#46039f"
             ],
             [
              0.2222222222222222,
              "#7201a8"
             ],
             [
              0.3333333333333333,
              "#9c179e"
             ],
             [
              0.4444444444444444,
              "#bd3786"
             ],
             [
              0.5555555555555556,
              "#d8576b"
             ],
             [
              0.6666666666666666,
              "#ed7953"
             ],
             [
              0.7777777777777778,
              "#fb9f3a"
             ],
             [
              0.8888888888888888,
              "#fdca26"
             ],
             [
              1,
              "#f0f921"
             ]
            ],
            "type": "heatmapgl"
           }
          ],
          "histogram": [
           {
            "marker": {
             "pattern": {
              "fillmode": "overlay",
              "size": 10,
              "solidity": 0.2
             }
            },
            "type": "histogram"
           }
          ],
          "histogram2d": [
           {
            "colorbar": {
             "outlinewidth": 0,
             "ticks": ""
            },
            "colorscale": [
             [
              0,
              "#0d0887"
             ],
             [
              0.1111111111111111,
              "#46039f"
             ],
             [
              0.2222222222222222,
              "#7201a8"
             ],
             [
              0.3333333333333333,
              "#9c179e"
             ],
             [
              0.4444444444444444,
              "#bd3786"
             ],
             [
              0.5555555555555556,
              "#d8576b"
             ],
             [
              0.6666666666666666,
              "#ed7953"
             ],
             [
              0.7777777777777778,
              "#fb9f3a"
             ],
             [
              0.8888888888888888,
              "#fdca26"
             ],
             [
              1,
              "#f0f921"
             ]
            ],
            "type": "histogram2d"
           }
          ],
          "histogram2dcontour": [
           {
            "colorbar": {
             "outlinewidth": 0,
             "ticks": ""
            },
            "colorscale": [
             [
              0,
              "#0d0887"
             ],
             [
              0.1111111111111111,
              "#46039f"
             ],
             [
              0.2222222222222222,
              "#7201a8"
             ],
             [
              0.3333333333333333,
              "#9c179e"
             ],
             [
              0.4444444444444444,
              "#bd3786"
             ],
             [
              0.5555555555555556,
              "#d8576b"
             ],
             [
              0.6666666666666666,
              "#ed7953"
             ],
             [
              0.7777777777777778,
              "#fb9f3a"
             ],
             [
              0.8888888888888888,
              "#fdca26"
             ],
             [
              1,
              "#f0f921"
             ]
            ],
            "type": "histogram2dcontour"
           }
          ],
          "mesh3d": [
           {
            "colorbar": {
             "outlinewidth": 0,
             "ticks": ""
            },
            "type": "mesh3d"
           }
          ],
          "parcoords": [
           {
            "line": {
             "colorbar": {
              "outlinewidth": 0,
              "ticks": ""
             }
            },
            "type": "parcoords"
           }
          ],
          "pie": [
           {
            "automargin": true,
            "type": "pie"
           }
          ],
          "scatter": [
           {
            "marker": {
             "colorbar": {
              "outlinewidth": 0,
              "ticks": ""
             }
            },
            "type": "scatter"
           }
          ],
          "scatter3d": [
           {
            "line": {
             "colorbar": {
              "outlinewidth": 0,
              "ticks": ""
             }
            },
            "marker": {
             "colorbar": {
              "outlinewidth": 0,
              "ticks": ""
             }
            },
            "type": "scatter3d"
           }
          ],
          "scattercarpet": [
           {
            "marker": {
             "colorbar": {
              "outlinewidth": 0,
              "ticks": ""
             }
            },
            "type": "scattercarpet"
           }
          ],
          "scattergeo": [
           {
            "marker": {
             "colorbar": {
              "outlinewidth": 0,
              "ticks": ""
             }
            },
            "type": "scattergeo"
           }
          ],
          "scattergl": [
           {
            "marker": {
             "colorbar": {
              "outlinewidth": 0,
              "ticks": ""
             }
            },
            "type": "scattergl"
           }
          ],
          "scattermapbox": [
           {
            "marker": {
             "colorbar": {
              "outlinewidth": 0,
              "ticks": ""
             }
            },
            "type": "scattermapbox"
           }
          ],
          "scatterpolar": [
           {
            "marker": {
             "colorbar": {
              "outlinewidth": 0,
              "ticks": ""
             }
            },
            "type": "scatterpolar"
           }
          ],
          "scatterpolargl": [
           {
            "marker": {
             "colorbar": {
              "outlinewidth": 0,
              "ticks": ""
             }
            },
            "type": "scatterpolargl"
           }
          ],
          "scatterternary": [
           {
            "marker": {
             "colorbar": {
              "outlinewidth": 0,
              "ticks": ""
             }
            },
            "type": "scatterternary"
           }
          ],
          "surface": [
           {
            "colorbar": {
             "outlinewidth": 0,
             "ticks": ""
            },
            "colorscale": [
             [
              0,
              "#0d0887"
             ],
             [
              0.1111111111111111,
              "#46039f"
             ],
             [
              0.2222222222222222,
              "#7201a8"
             ],
             [
              0.3333333333333333,
              "#9c179e"
             ],
             [
              0.4444444444444444,
              "#bd3786"
             ],
             [
              0.5555555555555556,
              "#d8576b"
             ],
             [
              0.6666666666666666,
              "#ed7953"
             ],
             [
              0.7777777777777778,
              "#fb9f3a"
             ],
             [
              0.8888888888888888,
              "#fdca26"
             ],
             [
              1,
              "#f0f921"
             ]
            ],
            "type": "surface"
           }
          ],
          "table": [
           {
            "cells": {
             "fill": {
              "color": "#EBF0F8"
             },
             "line": {
              "color": "white"
             }
            },
            "header": {
             "fill": {
              "color": "#C8D4E3"
             },
             "line": {
              "color": "white"
             }
            },
            "type": "table"
           }
          ]
         },
         "layout": {
          "annotationdefaults": {
           "arrowcolor": "#2a3f5f",
           "arrowhead": 0,
           "arrowwidth": 1
          },
          "autotypenumbers": "strict",
          "coloraxis": {
           "colorbar": {
            "outlinewidth": 0,
            "ticks": ""
           }
          },
          "colorscale": {
           "diverging": [
            [
             0,
             "#8e0152"
            ],
            [
             0.1,
             "#c51b7d"
            ],
            [
             0.2,
             "#de77ae"
            ],
            [
             0.3,
             "#f1b6da"
            ],
            [
             0.4,
             "#fde0ef"
            ],
            [
             0.5,
             "#f7f7f7"
            ],
            [
             0.6,
             "#e6f5d0"
            ],
            [
             0.7,
             "#b8e186"
            ],
            [
             0.8,
             "#7fbc41"
            ],
            [
             0.9,
             "#4d9221"
            ],
            [
             1,
             "#276419"
            ]
           ],
           "sequential": [
            [
             0,
             "#0d0887"
            ],
            [
             0.1111111111111111,
             "#46039f"
            ],
            [
             0.2222222222222222,
             "#7201a8"
            ],
            [
             0.3333333333333333,
             "#9c179e"
            ],
            [
             0.4444444444444444,
             "#bd3786"
            ],
            [
             0.5555555555555556,
             "#d8576b"
            ],
            [
             0.6666666666666666,
             "#ed7953"
            ],
            [
             0.7777777777777778,
             "#fb9f3a"
            ],
            [
             0.8888888888888888,
             "#fdca26"
            ],
            [
             1,
             "#f0f921"
            ]
           ],
           "sequentialminus": [
            [
             0,
             "#0d0887"
            ],
            [
             0.1111111111111111,
             "#46039f"
            ],
            [
             0.2222222222222222,
             "#7201a8"
            ],
            [
             0.3333333333333333,
             "#9c179e"
            ],
            [
             0.4444444444444444,
             "#bd3786"
            ],
            [
             0.5555555555555556,
             "#d8576b"
            ],
            [
             0.6666666666666666,
             "#ed7953"
            ],
            [
             0.7777777777777778,
             "#fb9f3a"
            ],
            [
             0.8888888888888888,
             "#fdca26"
            ],
            [
             1,
             "#f0f921"
            ]
           ]
          },
          "colorway": [
           "#636efa",
           "#EF553B",
           "#00cc96",
           "#ab63fa",
           "#FFA15A",
           "#19d3f3",
           "#FF6692",
           "#B6E880",
           "#FF97FF",
           "#FECB52"
          ],
          "font": {
           "color": "#2a3f5f"
          },
          "geo": {
           "bgcolor": "white",
           "lakecolor": "white",
           "landcolor": "#E5ECF6",
           "showlakes": true,
           "showland": true,
           "subunitcolor": "white"
          },
          "hoverlabel": {
           "align": "left"
          },
          "hovermode": "closest",
          "mapbox": {
           "style": "light"
          },
          "paper_bgcolor": "white",
          "plot_bgcolor": "#E5ECF6",
          "polar": {
           "angularaxis": {
            "gridcolor": "white",
            "linecolor": "white",
            "ticks": ""
           },
           "bgcolor": "#E5ECF6",
           "radialaxis": {
            "gridcolor": "white",
            "linecolor": "white",
            "ticks": ""
           }
          },
          "scene": {
           "xaxis": {
            "backgroundcolor": "#E5ECF6",
            "gridcolor": "white",
            "gridwidth": 2,
            "linecolor": "white",
            "showbackground": true,
            "ticks": "",
            "zerolinecolor": "white"
           },
           "yaxis": {
            "backgroundcolor": "#E5ECF6",
            "gridcolor": "white",
            "gridwidth": 2,
            "linecolor": "white",
            "showbackground": true,
            "ticks": "",
            "zerolinecolor": "white"
           },
           "zaxis": {
            "backgroundcolor": "#E5ECF6",
            "gridcolor": "white",
            "gridwidth": 2,
            "linecolor": "white",
            "showbackground": true,
            "ticks": "",
            "zerolinecolor": "white"
           }
          },
          "shapedefaults": {
           "line": {
            "color": "#2a3f5f"
           }
          },
          "ternary": {
           "aaxis": {
            "gridcolor": "white",
            "linecolor": "white",
            "ticks": ""
           },
           "baxis": {
            "gridcolor": "white",
            "linecolor": "white",
            "ticks": ""
           },
           "bgcolor": "#E5ECF6",
           "caxis": {
            "gridcolor": "white",
            "linecolor": "white",
            "ticks": ""
           }
          },
          "title": {
           "x": 0.05
          },
          "xaxis": {
           "automargin": true,
           "gridcolor": "white",
           "linecolor": "white",
           "ticks": "",
           "title": {
            "standoff": 15
           },
           "zerolinecolor": "white",
           "zerolinewidth": 2
          },
          "yaxis": {
           "automargin": true,
           "gridcolor": "white",
           "linecolor": "white",
           "ticks": "",
           "title": {
            "standoff": 15
           },
           "zerolinecolor": "white",
           "zerolinewidth": 2
          }
         }
        },
        "title": {
         "font": {
          "size": 15
         },
         "text": "Mean accuracies and standard deviations in Digits dataset (10 iterations / k)"
        },
        "width": 800,
        "xaxis": {
         "title": {
          "text": "k (number of clusters)"
         }
        },
        "yaxis": {
         "title": {
          "text": "Acurracy"
         }
        }
       }
      }
     },
     "metadata": {}
    }
   ],
   "source": [
    "fig = utils.plot_accuracy_std((1,20), accs_test, stds_test, ['Diff radius', 'Same radius'],\n",
    "                              'in Digits dataset (10 iterations / k)')\n",
    "fig.update_yaxes(title = 'Acurracy')\n",
    "fig.update_xaxes(title = 'k (number of clusters)')\n",
    "fig.show(width = 800, heigth = 500)"
   ]
  },
  {
   "cell_type": "code",
   "execution_count": 9,
   "metadata": {},
   "outputs": [
    {
     "output_type": "stream",
     "name": "stdout",
     "text": [
      "[0.90703518]\n[0.93567251]\n\n[ 2.82217925  2.03530044  3.78884219  4.24857688  2.05844066  1.98639171\n  6.56927916 11.43060514]\n[[-1.53064998e-01]\n [ 7.40120849e+11]\n [-6.33457102e+09]\n [-3.11026089e+13]\n [ 7.52449088e+13]\n [ 2.72137778e+10]\n [ 1.85088567e+10]\n [ 4.55185060e+09]\n [-5.91285074e+08]]\n"
     ]
    }
   ],
   "source": [
    "from rbf.rnd_rbf import rnd_rbf\n",
    "\n",
    "rbfrnd = rnd_rbf(x_train, y_train, 8, 'supremum', same_radii = False)\n",
    "y_hat_train = np.sign(rbfrnd.eval(x_train))\n",
    "y_hat_test = np.sign(rbfrnd.eval(x_test))\n",
    "print(utils.eval_accuracy(y_hat_train, y_train, 1))\n",
    "print(utils.eval_accuracy(y_hat_test, y_test, 1))\n",
    "print()\n",
    "print(rbfrnd.radii)\n",
    "print(rbfrnd.w)"
   ]
  },
  {
   "cell_type": "code",
   "execution_count": 13,
   "metadata": {},
   "outputs": [
    {
     "output_type": "stream",
     "name": "stdout",
     "text": [
      "906\n-891\n1797\n"
     ]
    }
   ],
   "source": [
    "print(sum(y_sample[y_sample==1]))\n",
    "print(sum(y_sample[y_sample==-1]))\n",
    "print((y_sample.size))"
   ]
  },
  {
   "cell_type": "code",
   "execution_count": 15,
   "metadata": {},
   "outputs": [
    {
     "output_type": "error",
     "ename": "ValueError",
     "evalue": "number sections must be larger than 0.",
     "traceback": [
      "\u001b[0;31m---------------------------------------------------------------------------\u001b[0m",
      "\u001b[0;31mTypeError\u001b[0m                                 Traceback (most recent call last)",
      "\u001b[0;32m/usr/lib/python3.9/site-packages/numpy/lib/shape_base.py\u001b[0m in \u001b[0;36marray_split\u001b[0;34m(ary, indices_or_sections, axis)\u001b[0m\n\u001b[1;32m    771\u001b[0m         \u001b[0;31m# handle array case.\u001b[0m\u001b[0;34m\u001b[0m\u001b[0;34m\u001b[0m\u001b[0;34m\u001b[0m\u001b[0m\n\u001b[0;32m--> 772\u001b[0;31m         \u001b[0mNsections\u001b[0m \u001b[0;34m=\u001b[0m \u001b[0mlen\u001b[0m\u001b[0;34m(\u001b[0m\u001b[0mindices_or_sections\u001b[0m\u001b[0;34m)\u001b[0m \u001b[0;34m+\u001b[0m \u001b[0;36m1\u001b[0m\u001b[0;34m\u001b[0m\u001b[0;34m\u001b[0m\u001b[0m\n\u001b[0m\u001b[1;32m    773\u001b[0m         \u001b[0mdiv_points\u001b[0m \u001b[0;34m=\u001b[0m \u001b[0;34m[\u001b[0m\u001b[0;36m0\u001b[0m\u001b[0;34m]\u001b[0m \u001b[0;34m+\u001b[0m \u001b[0mlist\u001b[0m\u001b[0;34m(\u001b[0m\u001b[0mindices_or_sections\u001b[0m\u001b[0;34m)\u001b[0m \u001b[0;34m+\u001b[0m \u001b[0;34m[\u001b[0m\u001b[0mNtotal\u001b[0m\u001b[0;34m]\u001b[0m\u001b[0;34m\u001b[0m\u001b[0;34m\u001b[0m\u001b[0m\n",
      "\u001b[0;31mTypeError\u001b[0m: object of type 'int' has no len()",
      "\nDuring handling of the above exception, another exception occurred:\n",
      "\u001b[0;31mValueError\u001b[0m                                Traceback (most recent call last)",
      "\u001b[0;32m<ipython-input-15-e6f127f1d260>\u001b[0m in \u001b[0;36m<module>\u001b[0;34m\u001b[0m\n\u001b[0;32m----> 1\u001b[0;31m \u001b[0mrbfrnd\u001b[0m \u001b[0;34m=\u001b[0m \u001b[0mrnd_rbf\u001b[0m\u001b[0;34m(\u001b[0m\u001b[0mx_train\u001b[0m\u001b[0;34m,\u001b[0m \u001b[0my_train\u001b[0m\u001b[0;34m,\u001b[0m \u001b[0;36m3\u001b[0m\u001b[0;34m,\u001b[0m \u001b[0;34m'supremum'\u001b[0m\u001b[0;34m,\u001b[0m \u001b[0msame_radii\u001b[0m \u001b[0;34m=\u001b[0m \u001b[0;32mFalse\u001b[0m\u001b[0;34m,\u001b[0m \u001b[0mmean\u001b[0m \u001b[0;34m=\u001b[0m \u001b[0;32mTrue\u001b[0m\u001b[0;34m)\u001b[0m\u001b[0;34m\u001b[0m\u001b[0;34m\u001b[0m\u001b[0m\n\u001b[0m\u001b[1;32m      2\u001b[0m \u001b[0my_hat_train\u001b[0m \u001b[0;34m=\u001b[0m \u001b[0mnp\u001b[0m\u001b[0;34m.\u001b[0m\u001b[0msign\u001b[0m\u001b[0;34m(\u001b[0m\u001b[0mrbfrnd\u001b[0m\u001b[0;34m.\u001b[0m\u001b[0meval\u001b[0m\u001b[0;34m(\u001b[0m\u001b[0mx_train\u001b[0m\u001b[0;34m)\u001b[0m\u001b[0;34m)\u001b[0m\u001b[0;34m\u001b[0m\u001b[0;34m\u001b[0m\u001b[0m\n\u001b[1;32m      3\u001b[0m \u001b[0my_hat_test\u001b[0m \u001b[0;34m=\u001b[0m \u001b[0mnp\u001b[0m\u001b[0;34m.\u001b[0m\u001b[0msign\u001b[0m\u001b[0;34m(\u001b[0m\u001b[0mrbfrnd\u001b[0m\u001b[0;34m.\u001b[0m\u001b[0meval\u001b[0m\u001b[0;34m(\u001b[0m\u001b[0mx_test\u001b[0m\u001b[0;34m)\u001b[0m\u001b[0;34m)\u001b[0m\u001b[0;34m\u001b[0m\u001b[0;34m\u001b[0m\u001b[0m\n\u001b[1;32m      4\u001b[0m \u001b[0mprint\u001b[0m\u001b[0;34m(\u001b[0m\u001b[0mutils\u001b[0m\u001b[0;34m.\u001b[0m\u001b[0meval_accuracy\u001b[0m\u001b[0;34m(\u001b[0m\u001b[0my_hat_train\u001b[0m\u001b[0;34m,\u001b[0m \u001b[0my_train\u001b[0m\u001b[0;34m,\u001b[0m \u001b[0;36m1\u001b[0m\u001b[0;34m)\u001b[0m\u001b[0;34m)\u001b[0m\u001b[0;34m\u001b[0m\u001b[0;34m\u001b[0m\u001b[0m\n\u001b[1;32m      5\u001b[0m \u001b[0mprint\u001b[0m\u001b[0;34m(\u001b[0m\u001b[0mutils\u001b[0m\u001b[0;34m.\u001b[0m\u001b[0meval_accuracy\u001b[0m\u001b[0;34m(\u001b[0m\u001b[0my_hat_test\u001b[0m\u001b[0;34m,\u001b[0m \u001b[0my_test\u001b[0m\u001b[0;34m,\u001b[0m \u001b[0;36m1\u001b[0m\u001b[0;34m)\u001b[0m\u001b[0;34m)\u001b[0m\u001b[0;34m\u001b[0m\u001b[0;34m\u001b[0m\u001b[0m\n",
      "\u001b[0;32m~/Documents/UFMG/RNA/TPs/Intermediario/rbf/rnd_rbf.py\u001b[0m in \u001b[0;36m__init__\u001b[0;34m(self, x_train, y_train, hidden_dim, metric, same_radii, mean, r, l)\u001b[0m\n\u001b[1;32m      5\u001b[0m         \u001b[0mself\u001b[0m\u001b[0;34m.\u001b[0m\u001b[0mn_clusters\u001b[0m \u001b[0;34m=\u001b[0m \u001b[0mhidden_dim\u001b[0m\u001b[0;34m\u001b[0m\u001b[0;34m\u001b[0m\u001b[0m\n\u001b[1;32m      6\u001b[0m         \u001b[0mself\u001b[0m\u001b[0;34m.\u001b[0m\u001b[0mmetric\u001b[0m \u001b[0;34m=\u001b[0m \u001b[0mmetric\u001b[0m\u001b[0;34m\u001b[0m\u001b[0;34m\u001b[0m\u001b[0m\n\u001b[0;32m----> 7\u001b[0;31m         \u001b[0mself\u001b[0m\u001b[0;34m.\u001b[0m\u001b[0mcenters\u001b[0m\u001b[0;34m,\u001b[0m \u001b[0mself\u001b[0m\u001b[0;34m.\u001b[0m\u001b[0mlabels\u001b[0m \u001b[0;34m=\u001b[0m \u001b[0mself\u001b[0m\u001b[0;34m.\u001b[0m\u001b[0m_rnd_clustering\u001b[0m\u001b[0;34m(\u001b[0m\u001b[0mx_train\u001b[0m\u001b[0;34m,\u001b[0m \u001b[0mmean\u001b[0m \u001b[0;34m=\u001b[0m \u001b[0mmean\u001b[0m\u001b[0;34m,\u001b[0m \u001b[0mr\u001b[0m \u001b[0;34m=\u001b[0m \u001b[0mr\u001b[0m\u001b[0;34m,\u001b[0m \u001b[0ml\u001b[0m \u001b[0;34m=\u001b[0m \u001b[0ml\u001b[0m\u001b[0;34m)\u001b[0m\u001b[0;34m\u001b[0m\u001b[0;34m\u001b[0m\u001b[0m\n\u001b[0m\u001b[1;32m      8\u001b[0m         \u001b[0mself\u001b[0m\u001b[0;34m.\u001b[0m\u001b[0mradii\u001b[0m \u001b[0;34m=\u001b[0m \u001b[0mself\u001b[0m\u001b[0;34m.\u001b[0m\u001b[0m_get_radii\u001b[0m\u001b[0;34m(\u001b[0m\u001b[0mx_train\u001b[0m\u001b[0;34m,\u001b[0m \u001b[0msame_radii\u001b[0m\u001b[0;34m)\u001b[0m\u001b[0;34m\u001b[0m\u001b[0;34m\u001b[0m\u001b[0m\n\u001b[1;32m      9\u001b[0m         \u001b[0mself\u001b[0m\u001b[0;34m.\u001b[0m\u001b[0mw\u001b[0m \u001b[0;34m=\u001b[0m \u001b[0mself\u001b[0m\u001b[0;34m.\u001b[0m\u001b[0m_train\u001b[0m\u001b[0;34m(\u001b[0m\u001b[0mx_train\u001b[0m\u001b[0;34m,\u001b[0m \u001b[0my_train\u001b[0m\u001b[0;34m,\u001b[0m \u001b[0mhidden_dim\u001b[0m\u001b[0;34m)\u001b[0m\u001b[0;34m\u001b[0m\u001b[0;34m\u001b[0m\u001b[0m\n",
      "\u001b[0;32m~/Documents/UFMG/RNA/TPs/Intermediario/rbf/rnd_rbf.py\u001b[0m in \u001b[0;36m_rnd_clustering\u001b[0;34m(self, samples, mean, r, l)\u001b[0m\n\u001b[1;32m     71\u001b[0m             \u001b[0mfixed\u001b[0m \u001b[0;34m=\u001b[0m \u001b[0mint\u001b[0m\u001b[0;34m(\u001b[0m\u001b[0mnp\u001b[0m\u001b[0;34m.\u001b[0m\u001b[0mceil\u001b[0m\u001b[0;34m(\u001b[0m\u001b[0mself\u001b[0m\u001b[0;34m.\u001b[0m\u001b[0mn_clusters\u001b[0m\u001b[0;34m/\u001b[0m\u001b[0;36m2\u001b[0m\u001b[0;34m)\u001b[0m\u001b[0;34m)\u001b[0m\u001b[0;34m+\u001b[0m\u001b[0;36m1\u001b[0m\u001b[0;34m\u001b[0m\u001b[0;34m\u001b[0m\u001b[0m\n\u001b[1;32m     72\u001b[0m             \u001b[0;31m#temp = a[0:fixed]\u001b[0m\u001b[0;34m\u001b[0m\u001b[0;34m\u001b[0m\u001b[0;34m\u001b[0m\u001b[0m\n\u001b[0;32m---> 73\u001b[0;31m             \u001b[0mtemp\u001b[0m \u001b[0;34m=\u001b[0m \u001b[0mnp\u001b[0m\u001b[0;34m.\u001b[0m\u001b[0marray_split\u001b[0m\u001b[0;34m(\u001b[0m\u001b[0ma\u001b[0m\u001b[0;34m[\u001b[0m\u001b[0mfixed\u001b[0m\u001b[0;34m:\u001b[0m\u001b[0;34m:\u001b[0m\u001b[0;34m]\u001b[0m\u001b[0;34m,\u001b[0m \u001b[0mself\u001b[0m\u001b[0;34m.\u001b[0m\u001b[0mn_clusters\u001b[0m\u001b[0;34m-\u001b[0m\u001b[0mfixed\u001b[0m\u001b[0;34m)\u001b[0m\u001b[0;34m\u001b[0m\u001b[0;34m\u001b[0m\u001b[0m\n\u001b[0m\u001b[1;32m     74\u001b[0m             \u001b[0mm\u001b[0m \u001b[0;34m=\u001b[0m \u001b[0mnp\u001b[0m\u001b[0;34m.\u001b[0m\u001b[0marray\u001b[0m\u001b[0;34m(\u001b[0m\u001b[0;34m[\u001b[0m\u001b[0mnp\u001b[0m\u001b[0;34m.\u001b[0m\u001b[0mmean\u001b[0m\u001b[0;34m(\u001b[0m\u001b[0mchunk\u001b[0m\u001b[0;34m,\u001b[0m \u001b[0maxis\u001b[0m\u001b[0;34m=\u001b[0m\u001b[0;36m0\u001b[0m\u001b[0;34m)\u001b[0m \u001b[0;32mfor\u001b[0m \u001b[0mchunk\u001b[0m \u001b[0;32min\u001b[0m \u001b[0mtemp\u001b[0m\u001b[0;34m]\u001b[0m\u001b[0;34m)\u001b[0m\u001b[0;34m\u001b[0m\u001b[0;34m\u001b[0m\u001b[0m\n\u001b[1;32m     75\u001b[0m             \u001b[0mC_set\u001b[0m \u001b[0;34m=\u001b[0m \u001b[0mnp\u001b[0m\u001b[0;34m.\u001b[0m\u001b[0mr_\u001b[0m\u001b[0;34m[\u001b[0m\u001b[0ma\u001b[0m\u001b[0;34m[\u001b[0m\u001b[0;34m:\u001b[0m\u001b[0mfixed\u001b[0m\u001b[0;34m]\u001b[0m\u001b[0;34m,\u001b[0m \u001b[0mm\u001b[0m\u001b[0;34m]\u001b[0m\u001b[0;34m\u001b[0m\u001b[0;34m\u001b[0m\u001b[0m\n",
      "\u001b[0;32m<__array_function__ internals>\u001b[0m in \u001b[0;36marray_split\u001b[0;34m(*args, **kwargs)\u001b[0m\n",
      "\u001b[0;32m/usr/lib/python3.9/site-packages/numpy/lib/shape_base.py\u001b[0m in \u001b[0;36marray_split\u001b[0;34m(ary, indices_or_sections, axis)\u001b[0m\n\u001b[1;32m    776\u001b[0m         \u001b[0mNsections\u001b[0m \u001b[0;34m=\u001b[0m \u001b[0mint\u001b[0m\u001b[0;34m(\u001b[0m\u001b[0mindices_or_sections\u001b[0m\u001b[0;34m)\u001b[0m\u001b[0;34m\u001b[0m\u001b[0;34m\u001b[0m\u001b[0m\n\u001b[1;32m    777\u001b[0m         \u001b[0;32mif\u001b[0m \u001b[0mNsections\u001b[0m \u001b[0;34m<=\u001b[0m \u001b[0;36m0\u001b[0m\u001b[0;34m:\u001b[0m\u001b[0;34m\u001b[0m\u001b[0;34m\u001b[0m\u001b[0m\n\u001b[0;32m--> 778\u001b[0;31m             \u001b[0;32mraise\u001b[0m \u001b[0mValueError\u001b[0m\u001b[0;34m(\u001b[0m\u001b[0;34m'number sections must be larger than 0.'\u001b[0m\u001b[0;34m)\u001b[0m\u001b[0;34m\u001b[0m\u001b[0;34m\u001b[0m\u001b[0m\n\u001b[0m\u001b[1;32m    779\u001b[0m         \u001b[0mNeach_section\u001b[0m\u001b[0;34m,\u001b[0m \u001b[0mextras\u001b[0m \u001b[0;34m=\u001b[0m \u001b[0mdivmod\u001b[0m\u001b[0;34m(\u001b[0m\u001b[0mNtotal\u001b[0m\u001b[0;34m,\u001b[0m \u001b[0mNsections\u001b[0m\u001b[0;34m)\u001b[0m\u001b[0;34m\u001b[0m\u001b[0;34m\u001b[0m\u001b[0m\n\u001b[1;32m    780\u001b[0m         section_sizes = ([0] +\n",
      "\u001b[0;31mValueError\u001b[0m: number sections must be larger than 0."
     ]
    }
   ],
   "source": [
    "rbfrnd = rnd_rbf(x_train, y_train, 3, 'supremum', same_radii = False, mean = True)\n",
    "y_hat_train = np.sign(rbfrnd.eval(x_train))\n",
    "y_hat_test = np.sign(rbfrnd.eval(x_test))\n",
    "print(utils.eval_accuracy(y_hat_train, y_train, 1))\n",
    "print(utils.eval_accuracy(y_hat_test, y_test, 1))\n",
    "print()\n",
    "print(rbfrnd.radii)\n",
    "print(rbfrnd.w)"
   ]
  },
  {
   "cell_type": "code",
   "execution_count": 95,
   "metadata": {},
   "outputs": [
    {
     "output_type": "stream",
     "name": "stdout",
     "text": [
      "(1, 2) ('a', 'b') dad\n1 b\n(3, 4) ('c', 'd') title\n3 d\n"
     ]
    }
   ],
   "source": [
    "a = ((1,2),(3,4))\n",
    "b= (('a', 'b'), ('c','d'))\n",
    "d = (('dad'), ('title'))\n",
    "\n",
    "for x,y,z in zip(a,b, d):\n",
    "    print(x,y,z)\n",
    "    print(x[0], y[1])"
   ]
  },
  {
   "cell_type": "code",
   "execution_count": 4,
   "metadata": {},
   "outputs": [
    {
     "output_type": "stream",
     "name": "stdout",
     "text": [
      "[[-0.24348302 -1.05407961 -1.62330374 -1.01941873 -0.70545524 -0.57879493\n  -1.55390952  0.00190546 -0.84382803 -0.60722831 -0.15833887  0.0188052\n  -0.54181764 -1.39260464 -0.82993996 -0.65816498 -0.22088042 -1.41354505\n  -1.21282045]] (1, 19)\n"
     ]
    }
   ],
   "source": [
    "rng = np.random.default_rng()\n",
    "N = X.shape[0]\n",
    "C_set = X[rng.integers(N, size=1), :]\n",
    "print(C_set, C_set.shape)\n",
    "\n",
    "\n",
    "#np.sum(np.min(dist,axis=1))"
   ]
  },
  {
   "cell_type": "code",
   "execution_count": 124,
   "metadata": {},
   "outputs": [],
   "source": [
    "C_set = np.r_[C_set,2*C_set]"
   ]
  },
  {
   "cell_type": "code",
   "execution_count": 36,
   "metadata": {},
   "outputs": [
    {
     "output_type": "stream",
     "name": "stdout",
     "text": [
      "[147.85138212  26.91769365  72.22977878 239.76965107  39.12943018\n  75.61049015  32.3208683   52.04094872  89.72604762 231.36165809\n  19.16059435  47.88817182 121.63253402  21.66817232 117.34764914\n 107.86648507  22.04811716  79.38491796  54.39344818  11.77523508\n  15.8272808    6.96518388  98.07803544  49.88400115  68.30009279\n 118.09470507  93.63492664  32.01698158  81.74488552  20.8622226\n  84.1391209   89.34836471  74.54722376  79.50201317  66.65402795\n  57.42562058  42.24148176   2.90630374  21.47609694  42.30126767\n  12.99976874  50.18405858 154.68512709  39.49692609  34.58666628\n  77.72295359   8.99802992  62.73265538  12.43851327  15.03642075\n   5.10639554   5.38024669   4.43066203  39.12776248  19.08887264\n   7.71336716  53.07976701  50.58570023   4.79973452  18.78792165\n  29.96153473  26.60480495  90.04331764  20.56822973  56.03714346\n  48.86508379  20.95936316   4.4516085  217.12568265   2.88285276\n  28.43961329  44.11506415 100.41827845  21.34472203   5.20946028\n  22.67543864  28.53040406  83.81973002 220.08289787   9.18612756\n  22.47012027  44.94425333 152.41354836  70.37766277  14.93856203\n  39.3788043   25.35380895  54.89097039  20.99133518  30.17993757\n  11.81937966  20.47242174   3.9050634    8.15923737  47.20505432\n  52.73608783   5.70638227  12.07952856   8.68019123  28.26423111\n  22.8706594   24.98676355  10.95180579  19.9223995   12.92967055\n  88.77870866  27.99662877   8.92603825 220.90092867  21.81527807\n  11.21892812  23.82918696  90.08854787  20.28919461  26.11252473\n  14.56263479  31.30957118  66.8083623   92.84869899  35.03089546\n  13.23868632  35.55315575 210.6697343   15.31114643  12.14657544\n   4.13381404  31.49181193  22.47809609  34.15530799  69.48321378\n  17.16837817  30.46491809  33.73617566   9.94658802  31.89978072\n  17.28152771   7.92447686   4.52416633  54.04449489  15.30624601\n  11.3615662   19.7219068   11.59091611  12.68690718   3.13607664\n  24.68125322  90.0792502   21.17180911  15.3616926    4.4740828\n  23.45011679  74.83311738 316.30244087   5.01659617  19.10779082\n  10.36776444  50.33475931  12.74401718   4.06305762   4.80124335\n  19.16582569  36.10650569  77.0726164   18.96389755  59.00629644\n   5.72094757   8.7289344   18.77272792  63.3447171    5.67907995\n   8.46308672  13.8469346   55.23643315   4.54176545   6.63255937\n   7.99063373  61.6560196   53.4347932   15.02289632   2.39596733\n 115.92029196 156.77788758  29.46252687  11.35750036  24.9059241\n  10.19634219  20.74473678   5.31004264   9.23189898   2.94358016\n 206.51070115   7.73247576  10.46118249  69.13239484  53.13071491\n   5.58404326  52.84357753  25.61227455  49.70808441  55.15674813\n  14.88054255  28.47236178 135.35535752 117.76409457  16.9805666\n  21.83522891  11.91794739  16.1008291   42.30793416   7.82655994\n  52.18251993   7.22302642 156.51618855  85.45231442  66.19718083\n  44.88865964  27.23496561  11.57391205  50.16747322  73.61462685\n   8.82698788  16.22303747  13.05048914  47.68486216   5.14559177\n  10.93140054   8.42829961  17.55140905  24.43683221  78.52380561\n  61.32464836  23.16048284  40.85173835  49.27282601   7.77981638\n  10.47732017  97.17320253  28.47971488  34.60555476  86.02478939\n   3.65564372   4.07779429  66.65699155  10.55736577  47.86353244\n  15.06436409   8.82857827  55.35760202  26.68184264   8.64296986\n  87.29982137   3.92117745 107.4123728   27.17361923  44.42443314\n  24.63725776  83.86587883  99.68648915 146.41800633 117.46954393\n  56.77842336  15.04706889  42.06406749  12.4319175   33.77777393\n  87.63466527  13.95439357  10.57491255  12.51755449  26.43792247\n   6.92564526   6.88780542  80.75864694  10.72659019  24.29923795\n  17.26771125   6.2798214   13.78891026   4.48555787   9.24314617\n  74.74703673   8.72418682  51.90921412  49.99642076  16.97991941\n   4.51566473  23.11321065   4.48997534  61.05350741   9.09389491\n  66.24010012  17.36281315  16.34003156   9.47333386   3.7491263\n   2.72853248   2.20498574   4.95065142   9.28594119   7.85174683\n  74.25590667  11.04511898  85.65824097   9.63855826   4.98067359\n  17.47870418   5.71268249   8.67632086   4.6620216    1.86112394\n  10.88003304   2.99106295   6.08689409   8.51262728  19.35961104\n   4.94853405   2.27770686  28.83704416  68.18502397   2.77357751\n  19.59890864  23.25346108  15.15938343 128.44629433   4.92954187\n   6.50098197   3.80530584   4.532245    41.19119746  34.31811924\n  36.17983976  21.73801689  14.08033977   5.58939577   6.87851526\n  42.06838568   9.68438394  63.073844    11.24141531  78.3247171\n  21.06517923  23.80251407  15.36503106  65.32193406  12.40170894\n  11.55319367   8.34920308   8.60959054   9.65757006  21.98294408\n   2.65944714 118.84325973 140.64377965  42.79844279   6.59699631\n  15.59084822  27.58691161   4.22357054   7.22312328   8.19114431\n   4.1996003    9.69056448   8.18544498  10.09708637   5.31131337\n  29.93537703  77.08876022  10.25843156  45.26583012  79.47816538\n  81.96075611   4.07053831  45.00960949  39.6101124    8.03423215\n  19.30632146  91.86537186  22.62647033  16.36715397 148.65803044\n  29.43457832   8.63369723  28.49217615  27.91751472   7.08197485\n  18.23035031   9.97234413   4.17980061  34.14253295  63.22165474\n   7.88733137  17.21391022  63.59973499 111.48726289  12.89605296\n   4.38563172  20.76483326   8.12351946   7.33838074   7.61252213\n 122.06324954   5.33421691  12.57491828   9.28215353   0.\n   8.6977343    8.09153335  15.5054314   39.72002802  13.05969798\n  17.98550596  11.22607334  16.29968048  26.32641391  28.47634662\n  16.61979924  20.69934356  72.55571      7.38380244  10.94790757\n  14.3284861   36.70975975  14.18589097  19.79098091  25.4842887\n  10.5785741   20.41497831  17.02063933   2.5833096    2.26827938\n 109.52763788  20.2856382   61.42983204  51.06680067   3.81402688\n  39.30270618   9.49711612   3.47605541   6.02232409   1.82641552\n  32.71411562  47.65873445   2.52488323  12.46462405  21.91172212\n  20.6219299   61.5956974   12.21913564  13.27167679  50.41285398\n  33.35040991  39.44957267  26.4389726   10.38605454   7.68153211\n  32.82149179  33.73759701  16.3824765   13.24809542  23.05411216\n  47.72206164 207.15090308  17.76605451   9.38581118   7.09275517\n  56.9334731   21.44154487   9.54837574  84.85658193  39.51941991\n  15.38846147  18.87223351   9.69103525  29.31011305  22.14399739\n  10.83678496  16.67813044   7.75056247  13.45220155  66.90757213\n   8.4613954    6.46086183  17.92289524   5.74101731  24.7396714\n  62.85966826   6.88414084  63.16942685  13.7038032   29.05287739\n  15.34117618   8.57668304  33.97545578   2.16557244   9.2818292\n  10.28408606  29.76466014   9.26279203  38.75281675  61.88114239\n  11.65211245  71.40705563  18.42607804  67.67972101  94.04857318\n  75.54769326  22.57006961  30.6502945    9.1271878   85.10455677\n  15.11295419   1.87044051  55.74975111   7.64491019  11.83853914\n  12.67654782  35.80628807  39.45235032  24.73342104  18.40168932\n  44.25434882  94.32032264   7.26614938  16.70096791  11.0830462\n  21.22594545  26.0647905    8.09238185  29.54311082  11.25214015\n  12.06777631  22.97656611   5.88704524  43.28415861  15.81150803\n  59.31426544  33.89631634  50.73449484  26.17235585  55.07910503\n  14.40910815  40.59139641  17.07058402  21.80431667  10.21421748\n  10.72675678   6.26505093  13.94900818   6.08320381  17.37073\n   9.37846251  16.75371314  22.50909696   8.34722399  24.82694764\n  27.85581832   7.35072095  23.27377379  26.6951983   30.5146855\n  24.77962082  33.59574931 159.80772872 115.16343312  71.31800192\n  50.50585782  35.10577444 197.03934416  23.63497702]\n20275.226375542963 (569, 1)\n"
     ]
    }
   ],
   "source": [
    "dist = np.sum((X[:, None, :] - C_set)**2, axis=2)\n",
    "print(dist.flatten())\n",
    "cost = np.sum(np.min(dist,axis=1))\n",
    "print(cost, dist.shape)"
   ]
  },
  {
   "cell_type": "code",
   "execution_count": 37,
   "metadata": {},
   "outputs": [
    {
     "output_type": "stream",
     "name": "stdout",
     "text": [
      "[[147.85138212  26.91769365  72.22977878 239.76965107  39.12943018\n   75.61049015  32.3208683   52.04094872  89.72604762 231.36165809\n   19.16059435  47.88817182 121.63253402  21.66817232 117.34764914\n  107.86648507  22.04811716  79.38491796  54.39344818  11.77523508\n   15.8272808    6.96518388  98.07803544  49.88400115  68.30009279\n  118.09470507  93.63492664  32.01698158  81.74488552  20.8622226\n   84.1391209   89.34836471  74.54722376  79.50201317  66.65402795\n   57.42562058  42.24148176   2.90630374  21.47609694  42.30126767\n   12.99976874  50.18405858 154.68512709  39.49692609  34.58666628\n   77.72295359   8.99802992  62.73265538  12.43851327  15.03642075\n    5.10639554   5.38024669   4.43066203  39.12776248  19.08887264\n    7.71336716  53.07976701  50.58570023   4.79973452  18.78792165\n   29.96153473  26.60480495  90.04331764  20.56822973  56.03714346\n   48.86508379  20.95936316   4.4516085  217.12568265   2.88285276\n   28.43961329  44.11506415 100.41827845  21.34472203   5.20946028\n   22.67543864  28.53040406  83.81973002 220.08289787   9.18612756\n   22.47012027  44.94425333 152.41354836  70.37766277  14.93856203\n   39.3788043   25.35380895  54.89097039  20.99133518  30.17993757\n   11.81937966  20.47242174   3.9050634    8.15923737  47.20505432\n   52.73608783   5.70638227  12.07952856   8.68019123  28.26423111\n   22.8706594   24.98676355  10.95180579  19.9223995   12.92967055\n   88.77870866  27.99662877   8.92603825 220.90092867  21.81527807\n   11.21892812  23.82918696  90.08854787  20.28919461  26.11252473\n   14.56263479  31.30957118  66.8083623   92.84869899  35.03089546\n   13.23868632  35.55315575 210.6697343   15.31114643  12.14657544\n    4.13381404  31.49181193  22.47809609  34.15530799  69.48321378\n   17.16837817  30.46491809  33.73617566   9.94658802  31.89978072\n   17.28152771   7.92447686   4.52416633  54.04449489  15.30624601\n   11.3615662   19.7219068   11.59091611  12.68690718   3.13607664\n   24.68125322  90.0792502   21.17180911  15.3616926    4.4740828\n   23.45011679  74.83311738 316.30244087   5.01659617  19.10779082\n   10.36776444  50.33475931  12.74401718   4.06305762   4.80124335\n   19.16582569  36.10650569  77.0726164   18.96389755  59.00629644\n    5.72094757   8.7289344   18.77272792  63.3447171    5.67907995\n    8.46308672  13.8469346   55.23643315   4.54176545   6.63255937\n    7.99063373  61.6560196   53.4347932   15.02289632   2.39596733\n  115.92029196 156.77788758  29.46252687  11.35750036  24.9059241\n   10.19634219  20.74473678   5.31004264   9.23189898   2.94358016\n  206.51070115   7.73247576  10.46118249  69.13239484  53.13071491\n    5.58404326  52.84357753  25.61227455  49.70808441  55.15674813\n   14.88054255  28.47236178 135.35535752 117.76409457  16.9805666\n   21.83522891  11.91794739  16.1008291   42.30793416   7.82655994\n   52.18251993   7.22302642 156.51618855  85.45231442  66.19718083\n   44.88865964  27.23496561  11.57391205  50.16747322  73.61462685\n    8.82698788  16.22303747  13.05048914  47.68486216   5.14559177\n   10.93140054   8.42829961  17.55140905  24.43683221  78.52380561\n   61.32464836  23.16048284  40.85173835  49.27282601   7.77981638\n   10.47732017  97.17320253  28.47971488  34.60555476  86.02478939\n    3.65564372   4.07779429  66.65699155  10.55736577  47.86353244\n   15.06436409   8.82857827  55.35760202  26.68184264   8.64296986\n   87.29982137   3.92117745 107.4123728   27.17361923  44.42443314\n   24.63725776  83.86587883  99.68648915 146.41800633 117.46954393\n   56.77842336  15.04706889  42.06406749  12.4319175   33.77777393\n   87.63466527  13.95439357  10.57491255  12.51755449  26.43792247\n    6.92564526   6.88780542  80.75864694  10.72659019  24.29923795\n   17.26771125   6.2798214   13.78891026   4.48555787   9.24314617\n   74.74703673   8.72418682  51.90921412  49.99642076  16.97991941\n    4.51566473  23.11321065   4.48997534  61.05350741   9.09389491\n   66.24010012  17.36281315  16.34003156   9.47333386   3.7491263\n    2.72853248   2.20498574   4.95065142   9.28594119   7.85174683\n   74.25590667  11.04511898  85.65824097   9.63855826   4.98067359\n   17.47870418   5.71268249   8.67632086   4.6620216    1.86112394\n   10.88003304   2.99106295   6.08689409   8.51262728  19.35961104\n    4.94853405   2.27770686  28.83704416  68.18502397   2.77357751\n   19.59890864  23.25346108  15.15938343 128.44629433   4.92954187\n    6.50098197   3.80530584   4.532245    41.19119746  34.31811924\n   36.17983976  21.73801689  14.08033977   5.58939577   6.87851526\n   42.06838568   9.68438394  63.073844    11.24141531  78.3247171\n   21.06517923  23.80251407  15.36503106  65.32193406  12.40170894\n   11.55319367   8.34920308   8.60959054   9.65757006  21.98294408\n    2.65944714 118.84325973 140.64377965  42.79844279   6.59699631\n   15.59084822  27.58691161   4.22357054   7.22312328   8.19114431\n    4.1996003    9.69056448   8.18544498  10.09708637   5.31131337\n   29.93537703  77.08876022  10.25843156  45.26583012  79.47816538\n   81.96075611   4.07053831  45.00960949  39.6101124    8.03423215\n   19.30632146  91.86537186  22.62647033  16.36715397 148.65803044\n   29.43457832   8.63369723  28.49217615  27.91751472   7.08197485\n   18.23035031   9.97234413   4.17980061  34.14253295  63.22165474\n    7.88733137  17.21391022  63.59973499 111.48726289  12.89605296\n    4.38563172  20.76483326   8.12351946   7.33838074   7.61252213\n  122.06324954   5.33421691  12.57491828   9.28215353   0.\n    8.6977343    8.09153335  15.5054314   39.72002802  13.05969798\n   17.98550596  11.22607334  16.29968048  26.32641391  28.47634662\n   16.61979924  20.69934356  72.55571      7.38380244  10.94790757\n   14.3284861   36.70975975  14.18589097  19.79098091  25.4842887\n   10.5785741   20.41497831  17.02063933   2.5833096    2.26827938\n  109.52763788  20.2856382   61.42983204  51.06680067   3.81402688\n   39.30270618   9.49711612   3.47605541   6.02232409   1.82641552\n   32.71411562  47.65873445   2.52488323  12.46462405  21.91172212\n   20.6219299   61.5956974   12.21913564  13.27167679  50.41285398\n   33.35040991  39.44957267  26.4389726   10.38605454   7.68153211\n   32.82149179  33.73759701  16.3824765   13.24809542  23.05411216\n   47.72206164 207.15090308  17.76605451   9.38581118   7.09275517\n   56.9334731   21.44154487   9.54837574  84.85658193  39.51941991\n   15.38846147  18.87223351   9.69103525  29.31011305  22.14399739\n   10.83678496  16.67813044   7.75056247  13.45220155  66.90757213\n    8.4613954    6.46086183  17.92289524   5.74101731  24.7396714\n   62.85966826   6.88414084  63.16942685  13.7038032   29.05287739\n   15.34117618   8.57668304  33.97545578   2.16557244   9.2818292\n   10.28408606  29.76466014   9.26279203  38.75281675  61.88114239\n   11.65211245  71.40705563  18.42607804  67.67972101  94.04857318\n   75.54769326  22.57006961  30.6502945    9.1271878   85.10455677\n   15.11295419   1.87044051  55.74975111   7.64491019  11.83853914\n   12.67654782  35.80628807  39.45235032  24.73342104  18.40168932\n   44.25434882  94.32032264   7.26614938  16.70096791  11.0830462\n   21.22594545  26.0647905    8.09238185  29.54311082  11.25214015\n   12.06777631  22.97656611   5.88704524  43.28415861  15.81150803\n   59.31426544  33.89631634  50.73449484  26.17235585  55.07910503\n   14.40910815  40.59139641  17.07058402  21.80431667  10.21421748\n   10.72675678   6.26505093  13.94900818   6.08320381  17.37073\n    9.37846251  16.75371314  22.50909696   8.34722399  24.82694764\n   27.85581832   7.35072095  23.27377379  26.6951983   30.5146855\n   24.77962082  33.59574931 159.80772872 115.16343312  71.31800192\n   50.50585782  35.10577444 197.03934416  23.63497702]] (1, 569, 19)\n20275.226375542963 (1, 569)\n"
     ]
    }
   ],
   "source": [
    "dist = np.sum((X - C_set[:, None])**2, axis=2)\n",
    "print(dist, ((X - C_set[:, None])**2).shape)\n",
    "cost = np.sum(np.min(dist,axis=0))\n",
    "print(cost, dist.shape)"
   ]
  },
  {
   "cell_type": "code",
   "execution_count": 38,
   "metadata": {},
   "outputs": [
    {
     "output_type": "stream",
     "name": "stdout",
     "text": [
      "0.9999999999999998 [7.29221856e-03 1.32761495e-03 3.56246473e-03 1.18257447e-02\n 1.92991336e-03 3.72920572e-03 1.59410641e-03 2.56672590e-03\n 4.42540300e-03 1.14110518e-02 9.45024928e-04 2.36190565e-03\n 5.99907156e-03 1.06870187e-03 5.78773558e-03 5.32011249e-03\n 1.08744123e-03 3.91536531e-03 2.68275417e-03 5.80769598e-04\n 7.80621656e-04 3.43531744e-04 4.83733368e-03 2.46034250e-03\n 3.36864761e-03 5.82458133e-03 4.61819389e-03 1.57911833e-03\n 4.03176192e-03 1.02895140e-03 4.14984865e-03 4.40677520e-03\n 3.67676407e-03 3.92114059e-03 3.28746159e-03 2.83230478e-03\n 2.08340371e-03 1.43342604e-04 1.05922847e-03 2.08635242e-03\n 6.41165159e-04 2.47514172e-03 7.62926757e-03 1.94803872e-03\n 1.70585845e-03 3.83339511e-03 4.43794301e-04 3.09405450e-03\n 6.13483324e-04 7.41615431e-04 2.51853935e-04 2.65360622e-04\n 2.18525897e-04 1.92983110e-03 9.41487522e-04 3.80433097e-04\n 2.61796174e-03 2.49495119e-03 2.36729023e-04 9.26644236e-04\n 1.47774107e-03 1.31218288e-03 4.44105116e-03 1.01445130e-03\n 2.76382332e-03 2.41008820e-03 1.03374250e-03 2.19559004e-04\n 1.07089153e-02 1.42185971e-04 1.40267797e-03 2.17581118e-03\n 4.95275745e-03 1.05274889e-03 2.56937219e-04 1.11838153e-03\n 1.40715588e-03 4.13409589e-03 1.08547690e-02 4.53071517e-04\n 1.10825496e-03 2.21670784e-03 7.51723041e-03 3.47111600e-03\n 7.36788914e-04 1.94221281e-03 1.25048216e-03 2.70729260e-03\n 1.03531940e-03 1.48851298e-03 5.82946865e-04 1.00972593e-03\n 1.92602703e-04 4.02423984e-04 2.32821343e-03 2.60101105e-03\n 2.81446045e-04 5.95777740e-04 4.28118092e-04 1.39402789e-03\n 1.12801006e-03 1.23237902e-03 5.40157016e-04 9.82598129e-04\n 6.37707827e-04 4.37867903e-03 1.38082940e-03 4.40243580e-04\n 1.08951153e-02 1.07595731e-03 5.53331830e-04 1.17528586e-03\n 4.44328197e-03 1.00068893e-03 1.28790299e-03 7.18247704e-04\n 1.54422795e-03 3.29507356e-03 4.57941614e-03 1.72776840e-03\n 6.52948878e-04 1.75352694e-03 1.03904997e-02 7.55165252e-04\n 5.99084578e-04 2.03884976e-04 1.55321629e-03 1.10864834e-03\n 1.68458331e-03 3.42700064e-03 8.46766288e-04 1.50256858e-03\n 1.66391117e-03 4.90578395e-04 1.57333783e-03 8.52346967e-04\n 3.90845296e-04 2.23137648e-04 2.66554335e-03 7.54923557e-04\n 5.60366922e-04 9.72709573e-04 5.71678752e-04 6.25734428e-04\n 1.54675296e-04 1.21731086e-03 4.44282340e-03 1.04422060e-03\n 7.57658253e-04 2.20667465e-04 1.15658964e-03 3.69086470e-03\n 1.56004394e-02 2.47424916e-04 9.42420591e-04 5.11351353e-04\n 2.48257447e-03 6.28551166e-04 2.00395179e-04 2.36803440e-04\n 9.45282944e-04 1.78081887e-03 3.80131965e-03 9.35323591e-04\n 2.91026573e-03 2.82164424e-04 4.30522167e-04 9.25894862e-04\n 3.12424216e-03 2.80099460e-04 4.17410221e-04 6.82948459e-04\n 2.72433127e-03 2.24005659e-04 3.27126280e-04 3.94108238e-04\n 3.04095345e-03 2.63547209e-03 7.40948389e-04 1.18172162e-04\n 5.71733651e-03 7.73248519e-03 1.45312937e-03 5.60166390e-04\n 1.22839191e-03 5.02896589e-04 1.02315685e-03 2.61898069e-04\n 4.55329021e-04 1.45181124e-04 1.01853709e-02 3.81375557e-04\n 5.15958850e-04 3.40969780e-03 2.62047456e-03 2.75412129e-04\n 2.60631258e-03 1.26323002e-03 2.45166606e-03 2.72040110e-03\n 7.33927320e-04 1.40429316e-03 6.67589871e-03 5.80827520e-03\n 8.37503182e-04 1.07694131e-03 5.87808351e-04 7.94113407e-04\n 2.08668122e-03 3.86015909e-04 2.57370838e-03 3.56248867e-04\n 7.71957786e-03 4.21461703e-03 3.26492931e-03 2.21396589e-03\n 1.34326321e-03 5.70840090e-04 2.47432370e-03 3.63076720e-03\n 4.35358290e-04 8.00140880e-04 6.43666753e-04 2.35187816e-03\n 2.53787143e-04 5.39150604e-04 4.15694476e-04 8.65657859e-04\n 1.20525570e-03 3.87289415e-03 3.02460980e-03 1.14230453e-03\n 2.01485979e-03 2.43019856e-03 3.83710457e-04 5.16754781e-04\n 4.79270617e-03 1.40465583e-03 1.70679006e-03 4.24285223e-03\n 1.80301007e-04 2.01122010e-04 3.28760776e-03 5.20702732e-04\n 2.36069041e-03 7.42993632e-04 4.35436730e-04 2.73030747e-03\n 1.31598248e-03 4.26282287e-04 4.30573843e-03 1.93397468e-04\n 5.29771509e-03 1.34023753e-03 2.19106965e-03 1.21514095e-03\n 4.13637201e-03 4.91666467e-03 7.22152264e-03 5.79374759e-03\n 2.80038419e-03 7.42140611e-04 2.07465341e-03 6.13158012e-04\n 1.66596285e-03 4.32225336e-03 6.88248472e-04 5.21568162e-04\n 6.17381738e-04 1.30395202e-03 3.41581649e-04 3.39715340e-04\n 3.98311937e-03 5.29049096e-04 1.19846938e-03 8.51665522e-04\n 3.09728793e-04 6.80086624e-04 2.21233430e-04 4.55883747e-04\n 3.68661910e-03 4.30288011e-04 2.56022858e-03 2.46588718e-03\n 8.37471262e-04 2.22718339e-04 1.13997300e-03 2.21451305e-04\n 3.01123678e-03 4.48522485e-04 3.26704614e-03 8.56356068e-04\n 8.05911177e-04 4.67236897e-04 1.84911686e-04 1.34574699e-04\n 1.08752706e-04 2.44172436e-04 4.57994452e-04 3.87258159e-04\n 3.66239594e-03 5.44759342e-04 4.22477359e-03 4.75385975e-04\n 2.45653168e-04 8.62071962e-04 2.81756780e-04 4.27927200e-04\n 2.29936846e-04 9.17930042e-05 5.36617093e-04 1.47523036e-04\n 3.00213373e-04 4.19853624e-04 9.54840685e-04 2.44068005e-04\n 1.12339405e-04 1.42227976e-03 3.36297227e-03 1.36796377e-04\n 9.66643147e-04 1.14689033e-03 7.47680107e-04 6.33513491e-03\n 2.43131286e-04 3.20636715e-04 1.87682533e-04 2.23536098e-04\n 2.03160235e-03 1.69261337e-03 1.78443580e-03 1.07214669e-03\n 6.94460299e-04 2.75676122e-04 3.39257137e-04 2.07486639e-03\n 4.77646156e-04 3.11088236e-03 5.54440927e-04 3.86307485e-03\n 1.03896148e-03 1.17397032e-03 7.57822911e-04 3.22176102e-03\n 6.11668087e-04 5.69818233e-04 4.11793335e-04 4.24635976e-04\n 4.76323661e-04 1.08422681e-03 1.31167322e-04 5.86150100e-03\n 6.93673042e-03 2.11087373e-03 3.25372264e-04 7.68960500e-04\n 1.36062163e-03 2.08311881e-04 3.56253644e-04 4.03997675e-04\n 2.07129638e-04 4.77950988e-04 4.03716577e-04 4.98001166e-04\n 2.61960743e-04 1.47645094e-03 3.80211588e-03 5.05958916e-04\n 2.23256842e-03 3.91996439e-03 4.04240893e-03 2.00764136e-04\n 2.21993129e-03 1.95362122e-03 3.96258567e-04 9.52212375e-04\n 4.53091720e-03 1.11596635e-03 8.07248889e-04 7.33200348e-03\n 1.45175091e-03 4.25824949e-04 1.40527043e-03 1.37692740e-03\n 3.49292024e-04 8.99144107e-04 4.91848719e-04 2.06153092e-04\n 1.68395323e-03 3.11817257e-03 3.89013233e-04 8.49011987e-04\n 3.13681997e-03 5.49869387e-03 6.36049764e-04 2.16304945e-04\n 1.02414804e-03 4.00662331e-04 3.61938289e-04 3.75459292e-04\n 6.02031500e-03 2.63090375e-04 6.20210993e-04 4.57807639e-04\n 0.00000000e+00 4.28983339e-04 3.99084735e-04 7.64747634e-04\n 1.95904239e-03 6.44120945e-04 8.87068071e-04 5.53684242e-04\n 8.03921011e-04 1.29845228e-03 1.40448970e-03 8.19709676e-04\n 1.02091800e-03 3.57854007e-03 3.64178545e-04 5.39964752e-04\n 7.06699192e-04 1.81057213e-03 6.99666219e-04 9.76116397e-04\n 1.25691759e-03 5.21748754e-04 1.00689274e-03 8.39479620e-04\n 1.27412121e-04 1.11874429e-04 5.40204266e-03 1.00051352e-03\n 3.02979759e-03 2.51867968e-03 1.88112665e-04 1.93845955e-03\n 4.68409868e-04 1.71443482e-04 2.97028698e-04 9.00811408e-05\n 1.61350187e-03 2.35058951e-03 1.24530458e-04 6.14771141e-04\n 1.08071406e-03 1.01709986e-03 3.03797828e-03 6.02663340e-04\n 6.54576010e-04 2.48642620e-03 1.64488471e-03 1.94570319e-03\n 1.30400382e-03 5.12253444e-04 3.78862952e-04 1.61879780e-03\n 1.66398127e-03 8.08004616e-04 6.53412947e-04 1.13705819e-03\n 2.35371289e-03 1.02169465e-02 8.76244446e-04 4.62920167e-04\n 3.49823723e-04 2.80803144e-03 1.05752431e-03 4.70938058e-04\n 4.18523475e-03 1.94914815e-03 7.58978528e-04 9.30802604e-04\n 4.77974207e-04 1.44561212e-03 1.09217017e-03 5.34484043e-04\n 8.22586645e-04 3.82267617e-04 6.63479721e-04 3.29996671e-03\n 4.17326803e-04 3.18657938e-04 8.83980031e-04 2.83154289e-04\n 1.22019212e-03 3.10031894e-03 3.39534598e-04 3.11559662e-03\n 6.75889035e-04 1.43292493e-03 7.56646357e-04 4.23012936e-04\n 1.67571277e-03 1.06808792e-04 4.57791643e-04 5.07224229e-04\n 1.46803097e-03 4.56852706e-04 1.91133830e-03 3.05205679e-03\n 5.74697034e-04 3.52188697e-03 9.08797648e-04 3.33805008e-03\n 4.63859547e-03 3.72610850e-03 1.11318459e-03 1.51171158e-03\n 4.50164532e-04 4.19746518e-03 7.45390158e-04 9.22525092e-05\n 2.74964876e-03 3.77056712e-04 5.83891835e-04 6.25223491e-04\n 1.76601175e-03 1.94584019e-03 1.21988384e-03 9.07594765e-04\n 2.18268087e-03 4.65199850e-03 3.58375746e-04 8.23713018e-04\n 5.46629961e-04 1.04689068e-03 1.28554868e-03 3.99126585e-04\n 1.45710387e-03 5.54969890e-04 5.95198105e-04 1.13323352e-03\n 2.90356573e-04 2.13482986e-03 7.79843723e-04 2.92545515e-03\n 1.67180951e-03 2.50228993e-03 1.29085394e-03 2.71657164e-03\n 7.10675574e-04 2.00201939e-03 8.41942955e-04 1.07541668e-03\n 5.03778221e-04 5.29057313e-04 3.09000295e-04 6.87982858e-04\n 3.00031363e-04 8.56746538e-04 4.62557721e-04 8.26314480e-04\n 1.11017734e-03 4.11695723e-04 1.22449669e-03 1.37388445e-03\n 3.62546924e-04 1.14789218e-03 1.31664120e-03 1.50502317e-03\n 1.22216247e-03 1.65698516e-03 7.88192081e-03 5.68000727e-03\n 3.51749473e-03 2.49101326e-03 1.73146153e-03 9.71823153e-03\n 1.16570718e-03]\n[[-0.81435156  0.12574342 -0.80063123 -1.14108723 -1.05125681 -1.11572247\n  -0.63752273 -0.97727322 -1.09421316 -0.92997877 -1.25406516 -0.8985704\n   0.12258503 -0.94547854 -1.12619023 -1.18430938 -1.31384558 -0.55612133\n  -0.4331199 ]\n [ 0.60855956  0.33052533  1.46171817  0.52228412  0.74075188  0.92757364\n   0.49792067  0.11667834 -0.25978234  0.01943942  0.34451109  0.62348619\n   0.765818    1.16741142  0.25722281  0.41983856  0.66530755  0.32718689\n  -0.10782905]]\n"
     ]
    }
   ],
   "source": [
    "l=2\n",
    "prob = np.min(dist, axis=0) / cost\n",
    "print(sum(prob), prob)\n",
    "a = rng.choice(X,l, p=prob)\n",
    "print(a)"
   ]
  },
  {
   "cell_type": "code",
   "execution_count": 39,
   "metadata": {},
   "outputs": [
    {
     "output_type": "stream",
     "name": "stdout",
     "text": [
      "(569, 19) (19, 1)\n(1, 569) [[4.67702449e-01 3.06276770e-04 5.33860443e-01 6.76108386e-01\n  1.60795457e-02 5.14099121e-01 1.92575516e-01 5.60969468e-01\n  7.34471863e-01 7.52051667e-01 7.75344246e-02 5.42437786e-01\n  3.35600903e-01 7.41128099e-03 7.93251772e-01 8.74657550e-01\n  5.38776899e-03 8.00822308e-01 2.36575321e-01 2.92362979e-01\n  1.13508885e-01 6.01994385e-01 4.41717210e-01 1.44170082e-01\n  5.89141685e-01 4.01956280e-01 7.59845048e-01 4.08413645e-02\n  8.55142707e-01 4.09453316e-03 7.55824042e-01 5.76140633e-01\n  6.99529120e-01 7.22450483e-01 6.00228792e-01 4.87130916e-01\n  7.22588557e-01 8.36537473e-01 3.24313347e-01 3.96846066e-01\n  2.48132824e-01 2.84499079e-01 6.22607816e-01 5.81535883e-01\n  2.46200893e-01 5.46759354e-01 5.15705452e-01 5.81392603e-01\n  2.63400188e-01 1.32759027e-01 6.99216015e-01 6.79434160e-01\n  7.37065446e-01 1.39121282e-01 2.01348024e-02 5.36470727e-01\n  4.00947450e-01 7.39063640e-01 7.50414108e-01 2.68025801e-01\n  1.11153728e-01 2.88554403e-02 7.09588130e-01 1.65923030e-01\n  6.88667712e-01 6.30328500e-01 5.12253511e-02 7.35372591e-01\n  2.32926615e-01 8.37058572e-01 1.50630966e-06 3.25755319e-03\n  8.32875237e-01 1.65002770e-05 8.00460087e-01 2.78459090e-04\n  7.35217590e-02 4.37710495e-01 7.02142318e-01 5.36903650e-01\n  4.01152293e-03 4.61895371e-01 5.73072644e-01 3.52887109e-01\n  1.51818109e-01 2.26252644e-01 7.30104884e-02 4.39675349e-01\n  1.35999273e-02 5.52610433e-02 2.98709283e-01 6.28989515e-04\n  7.75674573e-01 5.61485196e-01 4.91662398e-01 4.01071168e-01\n  6.59229719e-01 4.27819601e-01 4.80830680e-01 5.29726580e-01\n  7.93005532e-06 2.12568002e-01 4.01915570e-01 1.39576620e-02\n  2.78054912e-01 4.46825351e-01 6.69950467e-02 4.63903520e-01\n  6.43970776e-01 2.80438671e-02 3.38052732e-01 4.09917536e-04\n  1.60153187e-01 3.04631930e-02 2.21583108e-02 1.51901944e-01\n  1.21831592e-01 6.30067374e-01 8.67636679e-01 2.05538368e-03\n  3.05816187e-01 1.75567051e-01 4.41090675e-01 1.68599155e-01\n  3.42122813e-01 7.54645917e-01 6.90849055e-02 1.79689192e-02\n  3.84534197e-02 5.94974442e-01 1.25084446e-01 2.42752646e-01\n  3.37439581e-01 4.09192332e-01 1.31719262e-01 8.18984580e-02\n  5.42453780e-01 7.69672187e-01 7.50435002e-02 2.53547345e-01\n  5.76544425e-01 1.99259845e-03 3.11864665e-01 2.40937727e-01\n  8.26330137e-01 1.75133134e-02 3.41447140e-01 8.44439524e-03\n  9.70910232e-02 7.31013787e-01 6.34470178e-02 2.99720358e-01\n  1.41103176e-01 7.04734182e-01 2.43154909e-02 3.80457399e-01\n  3.15898019e-01 3.02697272e-01 7.55774141e-01 7.82012399e-01\n  3.30376823e-03 1.03404690e-02 4.82392391e-01 2.24185514e-02\n  2.46162426e-01 6.61610094e-01 6.35911212e-01 1.41578540e-02\n  3.19494762e-01 7.01348688e-01 4.99666770e-01 1.74416082e-01\n  2.07171011e-01 7.40413054e-01 7.14577414e-01 6.84713363e-01\n  7.63902073e-02 6.46123950e-01 5.69291053e-01 8.91554996e-01\n  3.55704659e-01 8.26128605e-01 1.88715927e-01 4.50831210e-01\n  3.83812004e-02 4.92879470e-01 2.35218310e-02 7.10018114e-01\n  4.58821033e-01 8.32777845e-01 6.74367227e-01 5.58021598e-01\n  7.52475738e-01 7.04208532e-01 5.21241227e-01 6.79134228e-01\n  5.57108767e-01 3.61697783e-02 4.61181220e-01 4.14313147e-01\n  1.13785407e-01 9.08336106e-02 6.36813077e-01 7.44960980e-01\n  9.04683023e-03 4.61621650e-05 3.39291701e-01 1.15908109e-01\n  3.65633149e-01 5.48425641e-01 9.83326409e-02 5.79001392e-01\n  8.30297200e-03 2.66510978e-02 6.46000190e-01 5.73968527e-01\n  8.16561754e-02 3.60228901e-01 2.97798457e-01 2.13317501e-01\n  4.82376761e-01 9.31658040e-02 2.66923585e-01 6.35210995e-01\n  7.31625961e-01 3.55924380e-01 5.25862415e-01 4.87899478e-02\n  9.93070914e-05 8.09272849e-01 5.16718158e-01 1.97375889e-01\n  6.22549965e-02 1.46036810e-01 5.62658313e-01 3.80589228e-01\n  4.72372324e-01 1.24704441e-03 7.94231497e-05 3.65600363e-01\n  8.80071337e-01 7.89645022e-01 3.71745390e-01 3.85527140e-01\n  4.88297907e-01 1.68528076e-01 4.96238875e-01 9.73049661e-02\n  1.13533195e-02 4.93943516e-01 3.74372737e-01 7.97639615e-01\n  6.15193985e-01 9.59210575e-02 3.02008634e-01 1.14066904e-01\n  5.85455328e-01 5.58941666e-01 5.73406714e-01 7.63867286e-01\n  3.67655803e-01 2.05949760e-01 1.30294495e-01 3.09259984e-01\n  1.99030812e-01 2.22353487e-01 1.67643981e-01 3.73792939e-01\n  2.70884489e-01 4.46411563e-03 7.59778859e-01 5.86032947e-01\n  3.45077754e-01 4.20184327e-01 5.48084275e-03 2.13709681e-01\n  6.85049659e-01 2.32256727e-01 7.39668281e-01 4.48929829e-01\n  7.36892140e-01 5.37598127e-01 4.39622900e-01 5.50530006e-01\n  2.14114994e-01 7.63885513e-01 2.25205258e-03 8.16236448e-01\n  3.61848670e-03 4.61653397e-01 2.58529710e-02 7.12613090e-03\n  8.23501729e-02 4.30697611e-01 7.75839754e-01 8.35983732e-01\n  9.29059006e-01 7.02497468e-01 4.88739682e-01 5.44749420e-01\n  4.25943952e-01 3.38959801e-01 5.41431045e-01 4.51428342e-01\n  7.05678679e-01 2.15836486e-01 6.81339435e-01 6.74970387e-01\n  8.78870578e-01 9.27988702e-01 3.85018209e-01 8.32420517e-01\n  6.50586497e-01 5.96866665e-01 2.59253712e-01 8.22148920e-01\n  9.19038002e-01 1.37653349e-01 2.02092505e-01 8.96888433e-01\n  3.05741444e-02 3.86301583e-02 1.77465678e-01 6.20837255e-01\n  7.16145218e-01 6.14786504e-01 7.79360711e-01 7.96407025e-01\n  5.29514733e-01 2.31252105e-01 2.71226133e-01 1.10815991e-02\n  2.94982217e-01 7.01996322e-01 6.04311553e-01 2.00772867e-01\n  4.28991660e-01 6.72707462e-01 3.34977833e-01 2.56346049e-01\n  3.96377655e-02 4.76473374e-03 1.32295868e-01 4.93582764e-01\n  2.99832632e-01 3.50550769e-01 5.06966678e-01 4.92180741e-01\n  4.38668567e-01 1.11531161e-01 8.51708526e-01 6.35886335e-01\n  4.31004120e-01 3.61455206e-01 6.56225479e-01 1.71231768e-01\n  1.35587335e-01 7.46294200e-01 5.89439498e-01 5.15560463e-01\n  8.52958278e-01 4.18254214e-01 5.62265622e-01 3.97537573e-01\n  6.86865152e-01 1.29487129e-02 3.93846813e-01 3.96625696e-01\n  1.12253016e-03 3.10871235e-01 7.01588173e-01 7.55755654e-01\n  1.21890642e-01 6.15304310e-02 5.17154061e-01 1.33303337e-02\n  1.79853992e-01 1.63230796e-01 1.08237305e-01 6.79372552e-01\n  2.30973437e-03 4.91370890e-01 4.38642307e-02 7.30945262e-02\n  5.80507770e-01 4.33727798e-02 4.03977461e-01 7.73613644e-01\n  5.45584351e-03 1.97779211e-01 5.49739699e-01 2.79138113e-01\n  7.32907183e-01 6.93249365e-01 2.27934081e-01 7.42979451e-01\n  2.41629549e-02 5.14690492e-01 5.81685120e-01 5.61992373e-01\n  7.33126962e-01 6.81621619e-01 2.91637933e-01 4.47643300e-01\n  1.00000000e+00 4.83369871e-01 5.40586808e-01 1.94539871e-01\n  4.80080028e-01 2.26105585e-01 1.28188309e-01 3.35156923e-01\n  2.81648653e-01 9.16024634e-02 2.44297292e-02 7.84838717e-02\n  8.13659539e-02 4.09224444e-01 5.63928498e-01 3.87083917e-01\n  1.60638681e-01 1.02611304e-01 1.62992443e-01 9.01654426e-03\n  6.68930232e-02 5.03782502e-01 1.11011132e-02 9.45578831e-02\n  8.61818835e-01 8.73368771e-01 6.26928917e-01 2.65463789e-03\n  3.82274756e-01 5.00774543e-01 8.51206824e-01 4.29164160e-01\n  4.29797866e-01 8.82541980e-01 6.38361997e-01 8.90978344e-01\n  4.71484072e-02 2.66190634e-01 8.62703001e-01 4.37672601e-01\n  4.96575618e-04 5.56552502e-03 5.52710876e-01 2.70092020e-01\n  2.17436829e-01 1.48080177e-01 8.35766279e-03 9.26491409e-02\n  2.08109419e-02 3.77877189e-01 5.41811275e-01 2.79566816e-02\n  1.66993609e-02 2.01555766e-01 3.35043667e-01 1.76407120e-01\n  3.06005522e-01 2.54773378e-01 2.23284748e-01 4.35722477e-01\n  5.73692288e-01 2.05397863e-01 4.78958417e-03 4.70932863e-01\n  4.18476705e-01 2.18534895e-01 1.81153698e-01 1.75633883e-01\n  4.17374028e-01 2.00113914e-01 2.37848508e-02 3.52940080e-01\n  5.63203039e-02 5.68670909e-01 2.09513366e-01 5.06157880e-01\n  4.91518182e-01 6.12923404e-01 6.30861302e-02 7.51175939e-01\n  1.06986229e-02 1.60473827e-01 5.88899798e-01 5.57572890e-01\n  2.02471468e-01 2.07553352e-02 2.09745089e-01 6.37434918e-01\n  1.81142824e-01 9.15553604e-01 4.61354463e-01 3.83038867e-01\n  1.36851673e-01 4.49709366e-01 2.00980435e-01 4.88033364e-01\n  2.99704826e-01 7.76466375e-01 5.61272317e-02 7.78661364e-02\n  1.19865575e-01 1.84768730e-01 2.07993000e-03 1.00966887e-03\n  4.51588223e-01 8.20377913e-01 2.08598502e-01 8.96322133e-01\n  7.50131033e-01 5.73680601e-01 2.93570762e-01 2.46436303e-01\n  2.80577472e-01 2.80139274e-01 2.57120434e-03 4.85682585e-02\n  5.52363558e-04 4.08806755e-01 6.10303027e-01 1.88564170e-02\n  3.72684079e-01 1.19540110e-01 2.45936186e-02 5.18111417e-01\n  4.26863165e-02 3.61060451e-01 2.74791925e-01 5.57654050e-04\n  6.57003061e-01 9.82303719e-02 1.09897262e-01 3.20273159e-01\n  4.04487653e-01 2.75232343e-01 1.55369346e-01 1.18867559e-01\n  1.88734398e-01 4.99214013e-01 1.21741741e-01 1.05185564e-01\n  4.02612986e-01 3.55116454e-01 6.39520107e-01 2.04723818e-01\n  6.36049545e-01 1.66075442e-01 6.13895861e-01 9.47896548e-02\n  1.39092882e-01 5.19080959e-01 4.28023082e-02 4.91394793e-03\n  5.76636402e-01 2.49679781e-01 5.99798404e-05 7.33396723e-03\n  5.50572502e-04 2.93991679e-01 8.19041847e-01 5.63324298e-01\n  1.23959701e-01 1.23095069e-01 5.79421113e-02 8.95279761e-01\n  3.83316765e-01]]\n211.90677420781753\n"
     ]
    }
   ],
   "source": [
    "print(X.shape, C_set.T.shape)\n",
    "dist3 = (C_set @ X.T)**2/(np.sum(X**2, axis=1) * np.sum(C_set**2, axis=1)[:, None])\n",
    "#dist3 = (np.sum(X**2, axis=1) * np.sum(C_set**2, axis=1)[:, None])\n",
    "print(dist3.shape, dist3)\n",
    "cost3 = np.sum(np.min(dist3,axis=0))\n",
    "print(cost3)"
   ]
  },
  {
   "cell_type": "code",
   "execution_count": 40,
   "metadata": {},
   "outputs": [
    {
     "output_type": "stream",
     "name": "stdout",
     "text": [
      "[[48.68090698 18.75687209 35.85397944 56.75962092 24.10027761 31.49480169\n  21.86418336 27.92950512 36.44961518 54.01889515 13.74543669 26.73021303\n  43.27422271 17.84395337 41.54032977 39.59630334 17.00775188 35.64529784\n  28.40996879 13.08769266 14.54260837  9.39893672 37.80739926 25.46142132\n  33.09552183 42.51679742 36.79650905 23.05505219 35.13280132 18.38011017\n  38.17160201 33.83097404 35.34902675 34.81453315 30.76306852 28.69844279\n  25.4210236   5.30165163 12.93717259 24.12157606 11.98422798 24.88558218\n  50.27550653 23.79064705 21.86031019 35.70993173 10.93451935 29.5169295\n  12.29314712 13.10700143  5.56307497  8.10146661  6.76122947 25.39623108\n  14.8338908   8.48056073 29.73758091 28.00932638  7.31749046 13.25174547\n  14.30759045 17.6261418  37.79794285 15.06782998 28.16876301 27.04419907\n  15.10092199  6.85884556 48.66061108  5.39282576 19.59935963 19.96845037\n  39.19672049 16.47657228  8.60776462 19.24114504 16.8103865  36.98539188\n  61.39922442 11.42868866 15.66894131 25.74537275 49.3598009  31.951142\n  13.33010564 25.43275486 20.13741795 28.95905769 16.50751345 21.58719587\n  10.61407403 18.05654187  6.47512961 10.25566112 27.86960606 29.51452189\n   7.38838114 12.15615058  9.80307649 21.18347862 15.99070715 17.59737427\n   9.06663398 17.10171432 12.35279327 33.59075412 18.97945904  9.70308867\n  62.03682351 14.94402147 11.20022459 18.45905135 33.10727133 16.73803209\n  17.08222696 12.6155362  18.21707541 31.29569711 38.83218755 17.91920374\n  12.21941541 24.7467546  57.95595728 15.37791717 12.89589233  6.91564511\n  19.39758018 18.67769933 22.0933491  33.31722624 13.74674542 21.90494876\n  22.60995504 12.44717398 21.91228222 12.8443675   9.71749271  8.21224636\n  29.27438566 13.35362914 12.16115693 18.54402361 10.71478496 12.43044455\n   6.400592   15.05350804 33.30311698 17.42167161 15.63356409  8.16460542\n  13.38399248 31.0200931  54.0929961   6.96597302 15.2658486  11.12096978\n  29.64740929 13.21183779  6.43262604  7.84480734 16.65137918 21.09801634\n  35.42639663 14.54605449 29.79731567  7.15588733  9.84447629 17.66879352\n  32.08256431  9.05722582  9.93006159 12.76811842 28.44099959  6.81400978\n   7.7237504   9.44576748 26.40142102 29.67202231 12.59736311  5.23560392\n  40.70221568 50.88784866 19.8920772  11.30145697 18.77664044 10.34460026\n  16.66716578  8.19473331  9.36500019  6.26590306 52.5076772   8.61738205\n  11.52426654 29.99033546 29.15550636  8.7203505  29.20184334 19.68159549\n  26.92822679 27.54546829 13.36325676 20.67181523 48.2273976  40.99100066\n  15.47750599 16.71202502 11.82757226 14.71588169 24.01114889 10.63530077\n  28.6265839   9.34807309 37.83173899 32.0961148  30.85456084 26.1160325\n  19.93758302 12.24085707 29.43302186 29.70740605 10.77105538 15.31171916\n  12.46798037 26.64493572  8.06471145 12.04872099 10.03880744 15.77315407\n  16.7401434  34.10243148 30.84731965 15.02662986 15.79568353 25.28391349\n   7.89690568  9.75786352 39.84041399 20.56032529 18.76512929 32.12420819\n   7.40166266  6.00898945 29.16585176 10.69055967 28.59139603 12.50760935\n  10.32467753 23.73745442 15.85066834 10.35908251 38.43631232  6.38793815\n  41.39463665 20.65124407 26.62014483 19.6308073  36.50899607 39.61841766\n  49.73420008 39.68942098 28.09506758 11.16681847 26.0865148  11.52459481\n  21.87237834 32.63320257 14.65789966 10.20463069 12.04782474 19.46372821\n   8.80055209  9.27182373 36.00669162  9.52223453 15.95452118 12.81263812\n   8.51641815 13.12193967  6.04844568 10.57984576 34.84696701  8.287313\n  28.86394237 27.84529308 14.56412965  6.82294208 16.23018759  6.94986842\n  24.44592     8.44254764 26.18481258 16.06977097 14.12063105 10.20125129\n   6.35857919  5.81033237  5.30019311  7.42427684 10.93931402  8.70059527\n  35.8198913  11.9937728  39.61391345  9.98965123  8.04481956 12.45569818\n   8.0811091  10.80238214  7.52518445  4.87770173  9.84922295  5.76323355\n   8.38982692  9.45664743 15.83624638  7.19075245  4.71678668 20.99450015\n  31.57368824  5.19683465 16.51069467 17.67068229 12.61515371 44.40687183\n   7.22005327  8.45142727  7.05651234  7.39063575 25.96758733 23.98595493\n  23.23680688 17.35744208 12.76832809  8.33177683  7.54008898 26.23764839\n   9.545708   32.30130303 11.80459552 34.16534419 18.13079411 18.16580131\n  14.25739352 32.94864669 10.34821609 10.66314007  9.06593763 10.24829175\n   9.04943347 12.57469704  5.57568679 44.11039438 46.47122481 25.63048321\n   9.01734505 13.64004443 21.21268766  6.37581139  9.36956112  9.64248655\n   7.16368065  9.92249381 10.12195919 11.73769864  8.6532535  20.56574302\n  36.42121872 11.51369509 22.489651   35.23870697 35.935948    7.90322802\n  25.21069081 23.05848348  9.69062997 16.95846158 34.36351463 12.81324219\n  14.16620549 43.98445887 19.20454589 10.0753975  20.21645848 18.63578187\n   9.85667047 14.83712539 10.70621276  7.23924125 18.36585601 31.68930622\n  10.2376464  15.34593635 33.03068361 43.18809221 12.76896876  7.10415911\n  18.21602096 10.62082323  8.78316083  9.66001457 42.71069048  7.4259551\n  12.82380422 10.96872848  0.         10.35550854 11.21041358 13.43856081\n  25.85329164 11.36753968 11.77559093 11.42560348 14.83006617 19.00065568\n  14.40275495 13.84901897 14.42640687 35.46431353  7.79929607 10.32171086\n  13.53906542 23.32511187 14.34925898 17.51581734 15.72723614 10.35135486\n  16.59061203 13.38393524  5.38964583  4.9404649  40.46307713 16.54802775\n  31.43939804 30.62903819  7.5496988  23.48297883 10.24386857  7.02661333\n   7.08908748  4.71416356 20.94387368 26.58080395  5.68059737  9.56624966\n  17.89048427 16.31854398 29.41708396 12.74600351 13.32457383 26.58955989\n  20.25412581 23.49051426 13.89594215 11.40164857  9.34523536 13.85678771\n  17.67908532 10.12831077  8.8475388  11.72220531 27.09879464 54.78863719\n  11.82437611 10.68917668 10.01455402 25.23844425 16.82656137 10.52633973\n  36.02161216 23.52623813 12.65590256  9.79814663 11.3879152  13.68967927\n  16.40068555 12.24574782 14.90582919 10.20645105 13.52834127 33.21678675\n   9.58943491  8.10718493 15.31239949  9.26121198 19.46705718 27.82712248\n   9.79759481 32.07350857 12.08778624 17.45759673 11.83959962  9.69362716\n  24.6900053   4.66493901  9.80449546 11.84288195 19.73594494 10.73370337\n  25.73558124 31.79533428 12.48169325 32.93145788 14.5818686  31.07413245\n  32.26999753 30.18174417 17.40299547 18.24503967 11.21107264 37.0192017\n  13.03550929  4.65502867 28.95498368 11.17394895 12.50505151 12.64510183\n  24.20037595 25.03057983 17.02156014 14.25494731 20.56113715 39.04154765\n   8.66480097 15.66036238 11.35506149 15.34982578 18.43290146  9.93135032\n  18.99559741 10.6042593  12.1196389  17.15551567  9.07661728 26.24314955\n  14.83730014 31.13251151 23.0364976  25.3058975  16.86006642 26.97447985\n  13.58194797 23.91369641 12.86932324 10.86682387 11.40635953 10.36679119\n   8.93335842 13.15012278  7.83962877 13.11471229  9.92311901 14.07772381\n  10.23758787  9.95895009 13.91223251 17.36739345 10.40070146 13.87265732\n  19.01998386 19.49693547 16.38793586 16.33810802 48.30414695 45.09563312\n  33.41347026 26.40663585 21.0972371  58.02908437 15.31059796]] (1, 569)\n20275.226375542963 (1, 569)\n"
     ]
    }
   ],
   "source": [
    "dist2 = (np.sum(np.abs(X - C_set[:, None]), axis=2))\n",
    "#print(dist2, ((X - C_set[:, None])**2).shape)\n",
    "print(dist2, dist2.shape)\n",
    "cost2 = np.sum(np.min(dist2,axis=0))\n",
    "print(cost, dist.shape)\n"
   ]
  },
  {
   "cell_type": "code",
   "execution_count": 42,
   "metadata": {},
   "outputs": [
    {
     "output_type": "stream",
     "name": "stdout",
     "text": [
      "1.0000000000000004 [2.20711419e-03 1.44533732e-06 2.51931749e-03 3.19059355e-03\n 7.58802817e-05 2.42606270e-03 9.08774705e-04 2.64724651e-03\n 3.46601408e-03 3.54897417e-03 3.65889315e-04 2.55979446e-03\n 1.58371956e-03 3.49742523e-05 3.74339978e-03 4.12755823e-03\n 2.54251852e-05 3.77912556e-03 1.11641226e-03 1.37967736e-03\n 5.35654820e-04 2.84084540e-03 2.08448839e-03 6.80346736e-04\n 2.78019279e-03 1.89685432e-03 3.58575157e-03 1.92732699e-04\n 4.03546659e-03 1.93223325e-05 3.56677621e-03 2.71884009e-03\n 3.30111731e-03 3.40928451e-03 2.83251347e-03 2.29879822e-03\n 3.40993609e-03 3.94766744e-03 1.53045294e-03 1.87273893e-03\n 1.17095277e-03 1.34256718e-03 2.93812134e-03 2.74430058e-03\n 1.16183588e-03 2.58018818e-03 2.43364307e-03 2.74362443e-03\n 1.24300032e-03 6.26497322e-04 3.29963975e-03 3.20628806e-03\n 3.47825334e-03 6.56521163e-04 9.50172662e-05 2.53163557e-03\n 1.89209359e-03 3.48768293e-03 3.54124643e-03 1.26482885e-03\n 5.24540701e-04 1.36170448e-04 3.34858634e-03 7.83000122e-04\n 3.24986171e-03 2.97455568e-03 2.41735316e-04 3.47026467e-03\n 1.09919381e-03 3.95012654e-03 7.10836009e-09 1.53725769e-05\n 3.93038514e-03 7.78657361e-08 3.77741622e-03 1.31406412e-06\n 3.46953321e-04 2.06558047e-03 3.31344914e-03 2.53367856e-03\n 1.89306026e-05 2.17971027e-03 2.70436208e-03 1.66529414e-03\n 7.16438203e-04 1.06769897e-03 3.44540606e-04 2.07485273e-03\n 6.41788229e-05 2.60779975e-04 1.40962593e-03 2.96823694e-06\n 3.66045199e-03 2.64968026e-03 2.32018254e-03 1.89267742e-03\n 3.11094217e-03 2.01890479e-03 2.26906705e-03 2.49980956e-03\n 3.74223776e-08 1.00312037e-03 1.89666221e-03 6.58669931e-05\n 1.31215679e-03 2.10859399e-03 3.16153398e-04 2.18918683e-03\n 3.03893435e-03 1.32340588e-04 1.59528988e-03 1.93442394e-06\n 7.55771909e-04 1.43757523e-04 1.04566316e-04 7.16833826e-04\n 5.74930141e-04 2.97332342e-03 4.09442634e-03 9.69947133e-06\n 1.44316381e-03 8.28510802e-04 2.08153173e-03 7.95628908e-04\n 1.61449682e-03 3.56121658e-03 3.26015559e-04 8.47963416e-05\n 1.81463853e-04 2.80771789e-03 5.90280546e-04 1.14556341e-03\n 1.59239639e-03 1.93100166e-03 6.21590614e-04 3.86483435e-04\n 2.55986993e-03 3.63212639e-03 3.54134503e-04 1.19650420e-03\n 2.72074561e-03 9.40318429e-06 1.47170691e-03 1.13699870e-03\n 3.89949845e-03 8.26463119e-05 1.61130828e-03 3.98495766e-05\n 4.58178005e-04 3.44969523e-03 2.99410050e-04 1.41439725e-03\n 6.65873835e-04 3.32568029e-03 1.14746171e-04 1.79539989e-03\n 1.49074054e-03 1.42844547e-03 3.56654073e-03 3.69036055e-03\n 1.55906683e-05 4.87972555e-05 2.27643686e-03 1.05794407e-04\n 1.16165435e-03 3.12217529e-03 3.00090082e-03 6.68117101e-05\n 1.50771377e-03 3.30970395e-03 2.35795562e-03 8.23079312e-04\n 9.77651666e-04 3.49405090e-03 3.37213105e-03 3.23120091e-03\n 3.60489690e-04 3.04909530e-03 2.68651654e-03 4.20729823e-03\n 1.67859031e-03 3.89854741e-03 8.90561085e-04 2.12749787e-03\n 1.81123046e-04 2.32592597e-03 1.11000845e-04 3.35061546e-03\n 2.16520229e-03 3.92992554e-03 3.18237692e-03 2.63333534e-03\n 3.55097538e-03 3.32319972e-03 2.45976670e-03 3.20487267e-03\n 2.62902764e-03 1.70687221e-04 2.17634014e-03 1.95516707e-03\n 5.36959743e-04 4.28648923e-04 3.00515677e-03 3.51551282e-03\n 4.26925013e-05 2.17841856e-07 1.60113664e-03 5.46976895e-04\n 1.72544342e-03 2.58805148e-03 4.64037270e-04 2.73234017e-03\n 3.91821924e-05 1.25768031e-04 3.04851127e-03 2.70858980e-03\n 3.85340090e-04 1.69994047e-03 1.40532769e-03 1.00665730e-03\n 2.27636310e-03 4.39654675e-04 1.25962743e-03 2.99759646e-03\n 3.45258411e-03 1.67962719e-03 2.48157435e-03 2.30242511e-04\n 4.68635756e-07 3.81900414e-03 2.43842208e-03 9.31427935e-04\n 2.93784834e-04 6.89155929e-04 2.65521626e-03 1.79602200e-03\n 2.22915160e-03 5.88487279e-06 3.74802316e-07 1.72528870e-03\n 4.15310619e-03 3.72637933e-03 1.75428743e-03 1.81932428e-03\n 2.30430532e-03 7.95293482e-04 2.34177919e-03 4.59187614e-04\n 5.35769540e-05 2.33094727e-03 1.76668603e-03 3.76410626e-03\n 2.90313506e-03 4.52656872e-04 1.42519575e-03 5.38288144e-04\n 2.76279666e-03 2.63767719e-03 2.70593857e-03 3.60473274e-03\n 1.73498844e-03 9.71888514e-04 6.14867057e-04 1.45941528e-03\n 9.39237610e-04 1.04929863e-03 7.91121385e-04 1.76394993e-03\n 1.27831916e-03 2.10664130e-05 3.58543922e-03 2.76552247e-03\n 1.62844135e-03 1.98287350e-03 2.58644056e-05 1.00850802e-03\n 3.23278792e-03 1.09603257e-03 3.49053627e-03 2.11852514e-03\n 3.47743551e-03 2.53695583e-03 2.07460522e-03 2.59798210e-03\n 1.01042071e-03 3.60481875e-03 1.06275630e-05 3.85186576e-03\n 1.70758425e-05 2.17856838e-03 1.22001626e-04 3.36286130e-05\n 3.88615103e-04 2.03248628e-03 3.66123149e-03 3.94505430e-03\n 4.38428176e-03 3.31512511e-03 2.30639008e-03 2.57070319e-03\n 2.01005350e-03 1.59957039e-03 2.55504359e-03 2.13031577e-03\n 3.33013742e-03 1.01854453e-03 3.21527916e-03 3.18522326e-03\n 4.14743975e-03 4.37923094e-03 1.81692261e-03 3.92823929e-03\n 3.07015431e-03 2.81664740e-03 1.22343286e-03 3.87976705e-03\n 4.33699208e-03 6.49593906e-04 9.53685911e-04 4.23246702e-03\n 1.44281109e-04 1.82297892e-04 8.37470530e-04 2.92976597e-03\n 3.37952961e-03 2.90121213e-03 3.67784708e-03 3.75828960e-03\n 2.49880984e-03 1.09129170e-03 1.27993139e-03 5.22946900e-05\n 1.39203769e-03 3.31276017e-03 2.85178025e-03 9.47458467e-04\n 2.02443580e-03 3.17454439e-03 1.58077925e-03 1.20971144e-03\n 1.87052847e-04 2.24850468e-05 6.24311650e-04 2.32924486e-03\n 1.41492707e-03 1.65426882e-03 2.39240430e-03 2.32262863e-03\n 2.07010167e-03 5.26321827e-04 4.01926049e-03 3.00078342e-03\n 2.03393271e-03 1.70572747e-03 3.09676499e-03 8.08052356e-04\n 6.39844271e-04 3.52180435e-03 2.78159818e-03 2.43295886e-03\n 4.02515814e-03 1.97376519e-03 2.65336313e-03 1.87600219e-03\n 3.24135533e-03 6.11057052e-05 1.85858529e-03 1.87169900e-03\n 5.29728305e-06 1.46701886e-03 3.31083409e-03 3.56645349e-03\n 5.75208805e-04 2.90365569e-04 2.44047913e-03 6.29065952e-05\n 8.48741117e-04 7.70295316e-04 5.10777937e-04 3.20599733e-03\n 1.08997666e-05 2.31880690e-03 2.06997775e-04 3.44937185e-04\n 2.73944886e-03 2.04678590e-04 1.90639239e-03 3.65072635e-03\n 2.57464327e-05 9.33331234e-04 2.59425259e-03 1.31726847e-03\n 3.45863027e-03 3.27148279e-03 1.07563377e-03 3.50616187e-03\n 1.14026345e-04 2.42885342e-03 2.74500483e-03 2.65207365e-03\n 3.45966741e-03 3.21661080e-03 1.37625583e-03 2.11245394e-03\n 4.71905631e-03 2.28104964e-03 2.55105959e-03 9.18044608e-04\n 2.26552469e-03 1.06700499e-03 6.04927849e-04 1.58162439e-03\n 1.32911585e-03 4.32277183e-04 1.15285268e-04 3.70369810e-04\n 3.83970518e-04 1.93115320e-03 2.66121034e-03 1.82667080e-03\n 7.58062983e-04 4.84228520e-04 7.69170518e-04 4.25495801e-05\n 3.15671943e-04 2.37737799e-03 5.23867781e-05 4.46223975e-04\n 4.06697161e-03 4.12147641e-03 2.95851286e-03 1.25273857e-05\n 1.80397610e-03 2.36318327e-03 4.01689294e-03 2.02524984e-03\n 2.02824033e-03 4.16476530e-03 3.01246621e-03 4.20457698e-03\n 2.22495988e-04 1.25616859e-03 4.07114404e-03 2.06540165e-03\n 2.34336830e-06 2.62640260e-05 2.60827375e-03 1.27457945e-03\n 1.02609664e-03 6.98798692e-04 3.94402813e-05 4.37216513e-04\n 9.82080067e-05 1.78322373e-03 2.55683792e-03 1.31929155e-04\n 7.88052245e-05 9.51153009e-04 1.58108993e-03 8.32475133e-04\n 1.44405729e-03 1.20228992e-03 1.05369330e-03 2.05619891e-03\n 2.70728621e-03 9.69284083e-04 2.26023174e-05 2.22235870e-03\n 1.97481514e-03 1.03127847e-03 8.54874503e-04 8.28826185e-04\n 1.96961154e-03 9.44348828e-04 1.12242050e-04 1.66554411e-03\n 2.65778686e-04 2.68359004e-03 9.88705374e-04 2.38858754e-03\n 2.31950198e-03 2.89242006e-03 2.97707001e-04 3.54484156e-03\n 5.04874038e-05 7.57285025e-04 2.77905131e-03 2.63121787e-03\n 9.55474258e-04 9.79455955e-05 9.89798885e-04 3.00809127e-03\n 8.54823185e-04 4.32054901e-03 2.17715769e-03 1.80758198e-03\n 6.45810750e-04 2.12220382e-03 9.48437990e-04 2.30305692e-03\n 1.41432395e-03 3.66418854e-03 2.64867567e-04 3.67454682e-04\n 5.65652397e-04 8.71934043e-04 9.81530680e-06 4.76468425e-06\n 2.13107025e-03 3.87140957e-03 9.84388079e-04 4.22979462e-03\n 3.53991058e-03 2.70723106e-03 1.38537696e-03 1.16294679e-03\n 1.32406089e-03 1.32199301e-03 1.21336581e-05 2.29196347e-04\n 2.60663473e-06 1.92918210e-03 2.88005435e-03 8.89844936e-05\n 1.75871716e-03 5.64116512e-04 1.16058671e-04 2.44499695e-03\n 2.01439131e-04 1.70386460e-03 1.29675857e-03 2.63160086e-06\n 3.10043444e-03 4.63554656e-04 5.18611370e-04 1.51138707e-03\n 1.90880001e-03 1.29883692e-03 7.33196693e-04 5.60942705e-04\n 8.90648251e-04 2.35581904e-03 5.74506129e-04 4.96376599e-04\n 1.89995335e-03 1.67581455e-03 3.01793140e-03 9.66103223e-04\n 3.00155362e-03 7.83719361e-04 2.89700914e-03 4.47317719e-04\n 6.56387144e-04 2.44957227e-03 2.01986503e-04 2.31891970e-05\n 2.72117965e-03 1.17825295e-03 2.83048244e-07 3.46094043e-05\n 2.59818264e-06 1.38736329e-03 3.86510459e-03 2.65835909e-03\n 5.84972810e-04 5.80892562e-04 2.73432086e-04 4.22487560e-03\n 1.80889340e-03]\n(array([], dtype=int64),)\n[[-0.2150816  -0.67476767 -1.7941008  -0.58922015 -0.09892458 -0.53958808\n  -1.42247556 -0.87080152  0.40362649  0.58609294 -0.22971112 -0.41606811\n  -0.47668012 -1.30931644 -0.00741131  0.28119013 -0.37801891 -1.37957166\n  -0.42480753]\n [-0.8711544  -1.03779014 -1.34860514 -1.07380948 -0.77438203 -1.07491639\n  -1.00991896 -0.79284259 -0.60294411 -0.41425444 -1.23735757 -0.74325851\n  -0.86750522 -0.89287547 -0.4221744  -0.30842551 -0.89907307 -0.50273457\n   0.42305448]]\n"
     ]
    }
   ],
   "source": [
    "prob = np.min(dist3, axis=0) / cost3\n",
    "print(sum(prob), prob)\n",
    "print(np.nonzero(prob<0))\n",
    "a = rng.choice(X,l, p=prob)\n",
    "print(a)"
   ]
  },
  {
   "cell_type": "code",
   "execution_count": 85,
   "metadata": {},
   "outputs": [],
   "source": [
    "def distance(X, C, metric = 'euclidean'):\n",
    "    if metric == 'euclidean':\n",
    "        dist = np.sum((X - C[:, None])**2, axis=2)\n",
    "    elif metric == 'supremum':\n",
    "        dist = (np.max(np.abs(X - C[:, None]), axis=2))\n",
    "    elif metric == 'manhattan':\n",
    "        dist = (np.sum(np.abs(X - C[:, None]), axis=2))\n",
    "    elif metric == 'cosine':\n",
    "        dist = np.arccos((C @ X.T)**2/(np.sum(X**2, axis=1) * np.sum(C**2, axis=1)[:, None])/np.pi)\n",
    "    return dist\n",
    "\n",
    "def prob_kmp(dist, cost):\n",
    "    prob = np.min(dist, axis=0) / cost\n",
    "    return prob\n",
    "\n",
    "def cost_kmp(dist):\n",
    "    return np.sum(np.min(dist,axis=0))\n",
    "\n",
    "def sample_kmp(X, prob, l):\n",
    "    X = X.copy()\n",
    "    rng = np.random.default_rng()\n",
    "    samples = rng.choice(X,l, p=prob)\n",
    "    return samples"
   ]
  },
  {
   "cell_type": "code",
   "execution_count": 86,
   "metadata": {},
   "outputs": [],
   "source": [
    "r = 5\n",
    "l = 3\n",
    "X = x_train.copy()\n",
    "N = x_train.shape[0]\n",
    "rng = np.random.default_rng()\n",
    "metric = 'cosine'\n",
    "C_set = X[rng.integers(N, size=1), :]\n",
    "\n",
    "for _ in range(r):\n",
    "    dist = distance(X, C_set, metric)\n",
    "    cost = cost_kmp(dist)\n",
    "    prob = prob_kmp(dist, cost)\n",
    "    C_temp = sample_kmp(X, prob, l)\n",
    "    C_set = np.r_[C_set, C_temp]\n",
    "    \n",
    "dist = distance(X, C_set, metric)\n",
    "#weigths = "
   ]
  },
  {
   "cell_type": "code",
   "execution_count": 87,
   "metadata": {
    "tags": []
   },
   "outputs": [
    {
     "output_type": "stream",
     "name": "stdout",
     "text": [
      "(16, 19)\n(16, 398)\n(398, 19)\n[0.08291457 0.01256281 0.06532663 0.11306533 0.02763819 0.05527638\n 0.05025126 0.01507538 0.08291457 0.04773869 0.13567839 0.02512563\n 0.02512563 0.1080402  0.09045226 0.06281407]\n[33.  5. 26. 45. 11. 22. 20.  6. 33. 19. 54. 10. 10. 43. 36. 25.]\n[10  3 13 14  8  0  2 15  5  6  9  4 12 11  7  1]\n[3 3 2 1 4 4 3 3 3 3 4 3 3 3 2 4 3 4 3 3 4 3 3 4 3 3 3 3 4 4 3 3 4 3 3 4 3\n 4 3 0 3 3 3 4 3 2 4 3 4 4 4 1 3 1 1 3 3 3 3 3 3 3 3 1 1 4 3 3 1 3 3 4 4 2\n 3 3 3 4 3 1 4 3 3 3 2 4 4 4 4 3 3 4 2 2 2 3 3 3 3 3 3 4 3 3 4 3 3 3 3 3 2\n 4 3 3 3 3 2 4 3 3 4 4 3 3 3 3 1 3 3 3 3 3 3 3 3 3 3 1 4 4 3 3 3 4 3 3 3 3\n 1 4 3 4 3 0 1 0 1 1 0 1 3 3 3 0 1 1 0 0 0 0 1 4 0 0 3 0 1 0 0 3 1 1 1 3 0\n 1 1 3 1 3 1 0 1 0 0 0 3 1 1 4 0 1 0 4 1 1 0 4 1 1 1 1 0 0 1 1 0 0 1 3 0 3\n 1 1 1 1 0 0 0 1 0 0 1 1 1 1 0 1 1 1 0 1 1 1 1 0 1 3 1 0 1 0 0 0 0 1 3 0 0\n 0 0 1 1 0 1 1 0 0 1 0 4 1 3 1 3 0 0 0 0 1 0 0 0 1 1 1 0 0 1 0 3 0 1 1 1 1\n 1 1 4 1 0 1 0 0 0 0 1 0 0 4 1 0 1 1 3 1 1 1 1 1 3 1 0 0 0 1 1 0 1 1 3 0 1\n 1 1 0 0 0 0 1 4 1 0 0 0 1 3 3 1 1 0 0 0 0 0 0 3 0 1 1 0 1 1 0 0 1 0 1 0 0\n 0 0 0 1 1 0 1 0 3 1 1 3 1 4 1 1 0 1 1 0 1 1 0 1 3 0 3 0]\n5.688332753644166\n2.457604033228159\n21.125678143985702\n1.3527072285490394\n(5, 19) (1, 19)\n35.709510111307765\n35.709510111307765\n5.975743477702817\n"
     ]
    }
   ],
   "source": [
    "print(C_set.shape)\n",
    "print(dist.shape)\n",
    "print(X.shape)\n",
    "closest = np.zeros(dist.shape)\n",
    "test2 = np.zeros(dist.shape)\n",
    "closest[np.argmin(dist, axis=0), range(dist.shape[1])] = 1\n",
    "count = np.array([np.count_nonzero(closest[i, :]) for i in range(C_set.shape[0])])\n",
    "probxx = count/np.sum(count)\n",
    "print(probxx)\n",
    "print((np.sum(closest, axis=1)))\n",
    "sidx = np.argsort(count)[::-1]\n",
    "print(sidx)\n",
    "C_new = C_set[sidx[:5],:]\n",
    "jijij= distance(X, C_new)\n",
    "#print(distance(X, C_new)[0,:])\n",
    "labels = np.argmin(jijij, axis=0)\n",
    "print(labels)\n",
    "aa= np.arange(10)\n",
    "#print(C_new[0,:])\n",
    "#print(C_new[0])\n",
    "print(np.min(np.mean(np.sqrt((distance(C_new, C_new, 'euclidean'))), axis=0)))\n",
    "print(np.min(np.mean(distance(C_new, C_new, 'supremum'), axis=0)))\n",
    "print(np.min(np.mean(distance(C_new, C_new, 'manhattan'), axis=0)))\n",
    "print(np.min(np.mean((distance(C_new, C_new, 'cosine')), axis=0)))\n",
    "print(C_new.shape, C_new[0,None].shape)\n",
    "print(np.max(distance(X[np.nonzero(labels == 0), :], C_new[0, None])))\n",
    "print(np.max(distance(X[np.nonzero(labels == 0), :], C_new[0, None], 'euclidean')))\n",
    "print(np.max(np.sqrt(distance(X[np.nonzero(labels == 0)], C_new[0, None], 'euclidean'))))\n",
    "#print(X[np.nonzero(labels == 1)].shape)\n",
    "#print(np.arccos((C_new @ X[np.nonzero(labels == 0)].T)**2/(np.sum(X[np.nonzero(labels == 0)]**2, axis=1) * np.sum(C_new**2, axis=1)[:, None])/np.pi))"
   ]
  },
  {
   "cell_type": "code",
   "execution_count": 5,
   "metadata": {},
   "outputs": [
    {
     "output_type": "stream",
     "name": "stdout",
     "text": [
      "(569, 30)\n(270, 13)\n(150, 4)\n(1797, 64)\n"
     ]
    }
   ],
   "source": [
    "from sklearn.datasets import load_iris, load_breast_cancer, load_digits\n",
    "import numpy as np\n",
    "breast_cancer = load_breast_cancer()\n",
    "check = breast_cancer['data']\n",
    "print(check.shape)\n",
    "heart = np.loadtxt( 'heart.dat' )\n",
    "check2 = np.copy(heart[:, 0:-1])\n",
    "print(check2.shape)\n",
    "iris = load_iris()\n",
    "check3 = iris['data']\n",
    "print(check3.shape)\n",
    "digits = load_digits()\n",
    "check4 = digits['data']\n",
    "print(check4.shape)"
   ]
  },
  {
   "cell_type": "code",
   "execution_count": 2,
   "metadata": {},
   "outputs": [
    {
     "output_type": "error",
     "ename": "AttributeError",
     "evalue": "module 'rbf.km_rbf' has no attribute 'eval'",
     "traceback": [
      "\u001b[0;31m---------------------------------------------------------------------------\u001b[0m",
      "\u001b[0;31mAttributeError\u001b[0m                            Traceback (most recent call last)",
      "\u001b[0;32m<ipython-input-2-de979a732b55>\u001b[0m in \u001b[0;36m<module>\u001b[0;34m\u001b[0m\n\u001b[1;32m      1\u001b[0m \u001b[0;32mfrom\u001b[0m \u001b[0mrbf\u001b[0m \u001b[0;32mimport\u001b[0m \u001b[0mrnd_rbf\u001b[0m\u001b[0;34m,\u001b[0m \u001b[0mkm_rbf\u001b[0m\u001b[0;34m\u001b[0m\u001b[0;34m\u001b[0m\u001b[0m\n\u001b[1;32m      2\u001b[0m \u001b[0;34m\u001b[0m\u001b[0m\n\u001b[0;32m----> 3\u001b[0;31m \u001b[0mkm_rbf\u001b[0m\u001b[0;34m.\u001b[0m\u001b[0meval\u001b[0m\u001b[0;34m(\u001b[0m\u001b[0;34m)\u001b[0m\u001b[0;34m\u001b[0m\u001b[0;34m\u001b[0m\u001b[0m\n\u001b[0m",
      "\u001b[0;31mAttributeError\u001b[0m: module 'rbf.km_rbf' has no attribute 'eval'"
     ]
    }
   ],
   "source": [
    "from rbf import rnd_rbf, km_rbf\n",
    "\n",
    "km_rbf.eval()"
   ]
  },
  {
   "source": [
    "https://arxiv.org/pdf/0912.4540.pdf\n",
    "\n",
    "https://math.stackexchange.com/questions/3291489/can-the-fibonacci-lattice-be-extended-to-dimensions-higher-than-3\n",
    "\n",
    "https://math.stackexchange.com/questions/3184449/is-there-a-way-to-generate-individual-uniformly-distributed-points-on-a-sphere-f/3185736#3185736\n",
    "\n",
    "https://math.stackexchange.com/questions/1358046/is-the-fibonacci-lattice-the-very-best-way-to-evenly-distribute-n-points-on-a-sp\n",
    "\n",
    "https://sci-hub.se/https://onlinelibrary.wiley.com/doi/10.1002/dac.4625\n",
    "\n",
    "https://en.wikipedia.org/wiki/Golden-section_search"
   ],
   "cell_type": "markdown",
   "metadata": {}
  },
  {
   "source": [
    "http://vldb.org/pvldb/vol5/p622_bahmanbahmani_vldb2012.pdf\n",
    "\n",
    "http://ilpubs.stanford.edu:8090/778/1/2006-13.pdf"
   ],
   "cell_type": "markdown",
   "metadata": {}
  }
 ]
}